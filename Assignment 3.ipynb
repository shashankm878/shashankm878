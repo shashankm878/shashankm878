{
 "cells": [
  {
   "cell_type": "code",
   "execution_count": 1,
   "metadata": {},
   "outputs": [],
   "source": [
    "from selenium import webdriver\n",
    "import pandas as pd\n",
    "import numpy as np"
   ]
  },
  {
   "cell_type": "code",
   "execution_count": 2,
   "metadata": {},
   "outputs": [],
   "source": [
    "chrome_driver_path = \"C:\\devlopement\\chromedriver.exe\""
   ]
  },
  {
   "cell_type": "markdown",
   "metadata": {},
   "source": [
    "# -----------------------------------QUESTION 1------------------------------------------"
   ]
  },
  {
   "cell_type": "code",
   "execution_count": 7,
   "metadata": {},
   "outputs": [],
   "source": [
    "driver = webdriver.Chrome(executable_path=chrome_driver_path)"
   ]
  },
  {
   "cell_type": "code",
   "execution_count": 8,
   "metadata": {},
   "outputs": [],
   "source": [
    "def user_search():\n",
    "    driver.get('https://www.amazon.in/')\n",
    "    search = driver.find_element_by_xpath('//*[@id=\"twotabsearchtextbox\"]')\n",
    "    search_keys = search.send_keys(input('Enter the product you want to search from amazon: '))\n",
    "    search_btn = driver.find_element_by_xpath('//*[@id=\"nav-search-bar-form\"]/div[3]/div')\n",
    "    search_btn.click()"
   ]
  },
  {
   "cell_type": "code",
   "execution_count": 9,
   "metadata": {},
   "outputs": [
    {
     "name": "stdout",
     "output_type": "stream",
     "text": [
      "Enter the product you want to search from amazon: Guitar\n"
     ]
    }
   ],
   "source": [
    "user_search()"
   ]
  },
  {
   "cell_type": "markdown",
   "metadata": {},
   "source": [
    "# -----------------------------------------------Question 2-----------------------------------------------"
   ]
  },
  {
   "cell_type": "code",
   "execution_count": 38,
   "metadata": {},
   "outputs": [
    {
     "data": {
      "text/plain": [
       "['https://www.amazon.in/s?k=Guitar&qid=1625481106&ref=sr_pg_1']"
      ]
     },
     "execution_count": 38,
     "metadata": {},
     "output_type": "execute_result"
    }
   ],
   "source": [
    "page1_url = driver.find_elements_by_xpath('//*[@id=\"search\"]/div[1]/div/div[1]/div/span[3]/div[2]/div[64]/span/div/div/ul/li[2]/a')\n",
    "url1 = []\n",
    "for i in page1_url:\n",
    "    url1.append(i.get_attribute('href'))\n",
    "url1"
   ]
  },
  {
   "cell_type": "code",
   "execution_count": 39,
   "metadata": {},
   "outputs": [
    {
     "data": {
      "text/plain": [
       "['https://www.amazon.in/s?k=Guitar&page=2&qid=1625481106&ref=sr_pg_2']"
      ]
     },
     "execution_count": 39,
     "metadata": {},
     "output_type": "execute_result"
    }
   ],
   "source": [
    "page_2_url = driver.find_elements_by_xpath('//*[@id=\"search\"]/div[1]/div/div[1]/div/span[3]/div[2]/div[64]/span/div/div/ul/li[3]/a')\n",
    "url_2 = []\n",
    "for i in page_2_url:\n",
    "    url_2.append(i.get_attribute('href'))\n",
    "url_2"
   ]
  },
  {
   "cell_type": "code",
   "execution_count": 40,
   "metadata": {},
   "outputs": [
    {
     "data": {
      "text/plain": [
       "['https://www.amazon.in/s?k=Guitar&page=3&qid=1625481106&ref=sr_pg_3']"
      ]
     },
     "execution_count": 40,
     "metadata": {},
     "output_type": "execute_result"
    }
   ],
   "source": [
    "page_3_url = driver.find_elements_by_xpath('//*[@id=\"search\"]/div[1]/div/div[1]/div/span[3]/div[2]/div[64]/span/div/div/ul/li[4]/a')\n",
    "url_3 = []\n",
    "for i in page_3_url:\n",
    "    url_3.append(i.get_attribute('href'))\n",
    "url_3"
   ]
  },
  {
   "cell_type": "code",
   "execution_count": 49,
   "metadata": {},
   "outputs": [],
   "source": [
    "all_urls = url1+url_2+url_3"
   ]
  },
  {
   "cell_type": "code",
   "execution_count": 51,
   "metadata": {},
   "outputs": [],
   "source": [
    "del all_urls[1]"
   ]
  },
  {
   "cell_type": "code",
   "execution_count": 52,
   "metadata": {},
   "outputs": [
    {
     "data": {
      "text/plain": [
       "['https://www.amazon.in/s?k=Guitar&qid=1625481106&ref=sr_pg_1',\n",
       " 'https://www.amazon.in/s?k=Guitar&page=2&qid=1625481106&ref=sr_pg_2',\n",
       " 'https://www.amazon.in/s?k=Guitar&page=3&qid=1625481106&ref=sr_pg_3']"
      ]
     },
     "execution_count": 52,
     "metadata": {},
     "output_type": "execute_result"
    }
   ],
   "source": [
    "all_urls"
   ]
  },
  {
   "cell_type": "code",
   "execution_count": 59,
   "metadata": {},
   "outputs": [],
   "source": [
    "import time"
   ]
  },
  {
   "cell_type": "code",
   "execution_count": 68,
   "metadata": {},
   "outputs": [
    {
     "data": {
      "text/plain": [
       "192"
      ]
     },
     "execution_count": 68,
     "metadata": {},
     "output_type": "execute_result"
    }
   ],
   "source": [
    "urls=[]\n",
    "for i in all_urls:\n",
    "    url = driver.find_elements_by_xpath('//a[@class=\"a-link-normal s-no-outline\"]')\n",
    "    \n",
    "    for u in url:\n",
    "        urls.append(u.get_attribute('href'))\n",
    "len(urls)"
   ]
  },
  {
   "cell_type": "code",
   "execution_count": 71,
   "metadata": {},
   "outputs": [],
   "source": [
    "from selenium.common.exceptions import NoSuchElementException"
   ]
  },
  {
   "cell_type": "code",
   "execution_count": 69,
   "metadata": {},
   "outputs": [],
   "source": [
    "brand_name_product_title = []\n",
    "time.sleep(3)\n",
    "for i in urls:\n",
    "    driver.get(i)\n",
    "    try:\n",
    "        brand = driver.find_element_by_xpath('//span[@id = \"productTitle\"]')\n",
    "        brand_name_product_title.append(brand.text)\n",
    "    except NoSuchElementException as e:\n",
    "        print('Exception Raised: ', e)"
   ]
  },
  {
   "cell_type": "code",
   "execution_count": 78,
   "metadata": {},
   "outputs": [],
   "source": [
    "ratings_list = []\n",
    "time.sleep(3)\n",
    "for i in urls:\n",
    "    driver.get(i)\n",
    "    try:\n",
    "        rating = driver.find_element_by_xpath('//span[@class = \"a-icon-alt\"]')\n",
    "        ratings_list.append(rating.text)\n",
    "    except NoSuchElementException as e:\n",
    "        ratings_list.append(\"-\")\n"
   ]
  },
  {
   "cell_type": "code",
   "execution_count": 81,
   "metadata": {},
   "outputs": [
    {
     "data": {
      "text/plain": [
       "192"
      ]
     },
     "execution_count": 81,
     "metadata": {},
     "output_type": "execute_result"
    }
   ],
   "source": [
    "len(ratings_list)"
   ]
  },
  {
   "cell_type": "code",
   "execution_count": 83,
   "metadata": {},
   "outputs": [],
   "source": [
    "price_list = []\n",
    "time.sleep(3)\n",
    "for i in urls:\n",
    "    driver.get(i)\n",
    "    try:\n",
    "        price = driver.find_element_by_xpath('//span[@id = \"priceblock_dealprice\"]')\n",
    "        price_list.append(price.text)\n",
    "    except NoSuchElementException as e:\n",
    "        price_list.append(\"-\")"
   ]
  },
  {
   "cell_type": "code",
   "execution_count": 85,
   "metadata": {},
   "outputs": [],
   "source": [
    "stock_list = []\n",
    "time.sleep(3)\n",
    "for i in urls:\n",
    "    driver.get(i)\n",
    "    try:\n",
    "        stock = driver.find_element_by_xpath('//span[@class = \"a-size-medium a-color-success\"]')\n",
    "        stock_list.append(stock.text)\n",
    "    except NoSuchElementException as e:\n",
    "        stock_list.append(\"-\")"
   ]
  },
  {
   "cell_type": "code",
   "execution_count": 86,
   "metadata": {},
   "outputs": [],
   "source": [
    "exp_del_list = []\n",
    "time.sleep(3)\n",
    "for i in urls:\n",
    "    driver.get(i)\n",
    "    try:\n",
    "        exp_del = driver.find_element_by_xpath('//div[@id = \"ddmDeliveryMessage\"]')\n",
    "        exp_del_list.append(exp_del.text)\n",
    "    except NoSuchElementException as e:\n",
    "        exp_del_list.append(\"-\")"
   ]
  },
  {
   "cell_type": "code",
   "execution_count": 95,
   "metadata": {},
   "outputs": [
    {
     "data": {
      "text/html": [
       "<div>\n",
       "<style scoped>\n",
       "    .dataframe tbody tr th:only-of-type {\n",
       "        vertical-align: middle;\n",
       "    }\n",
       "\n",
       "    .dataframe tbody tr th {\n",
       "        vertical-align: top;\n",
       "    }\n",
       "\n",
       "    .dataframe thead th {\n",
       "        text-align: right;\n",
       "    }\n",
       "</style>\n",
       "<table border=\"1\" class=\"dataframe\">\n",
       "  <thead>\n",
       "    <tr style=\"text-align: right;\">\n",
       "      <th></th>\n",
       "      <th>Brand and Product Name</th>\n",
       "      <th>Ratings</th>\n",
       "      <th>Price</th>\n",
       "      <th>Availability</th>\n",
       "      <th>Expected Delivery</th>\n",
       "      <th>Product URL</th>\n",
       "    </tr>\n",
       "  </thead>\n",
       "  <tbody>\n",
       "    <tr>\n",
       "      <th>0</th>\n",
       "      <td>Kadence Acoustica Series Semi Acoustic Ash Woo...</td>\n",
       "      <td></td>\n",
       "      <td>₹ 7,199.00</td>\n",
       "      <td>In stock.</td>\n",
       "      <td>FREE delivery: Friday, July 9 Details\\nFastest...</td>\n",
       "      <td>https://www.amazon.in/gp/slredirect/picassoRed...</td>\n",
       "    </tr>\n",
       "    <tr>\n",
       "      <th>1</th>\n",
       "      <td>Kadence Frontier Jumbo Semi Acoustic Guitar Wi...</td>\n",
       "      <td></td>\n",
       "      <td>₹ 6,999.00</td>\n",
       "      <td>In stock.</td>\n",
       "      <td>FREE delivery: Friday, July 9 Details\\nFastest...</td>\n",
       "      <td>https://www.amazon.in/gp/slredirect/picassoRed...</td>\n",
       "    </tr>\n",
       "    <tr>\n",
       "      <th>2</th>\n",
       "      <td>Kadence Frontier Series,Blue Acoustic Guitar W...</td>\n",
       "      <td></td>\n",
       "      <td>₹ 5,499.00</td>\n",
       "      <td>In stock.</td>\n",
       "      <td>FREE delivery: Friday, July 9 Details\\nFastest...</td>\n",
       "      <td>https://www.amazon.in/gp/slredirect/picassoRed...</td>\n",
       "    </tr>\n",
       "    <tr>\n",
       "      <th>3</th>\n",
       "      <td>Kadence Slowhand Premium Jumbo Semi Acoustic G...</td>\n",
       "      <td></td>\n",
       "      <td>₹ 11,999.00</td>\n",
       "      <td>In stock.</td>\n",
       "      <td>FREE delivery: Friday, July 9 Details</td>\n",
       "      <td>https://www.amazon.in/gp/slredirect/picassoRed...</td>\n",
       "    </tr>\n",
       "    <tr>\n",
       "      <th>4</th>\n",
       "      <td>Juârez Acoustic Guitar, 38 Inch Cutaway, 038C ...</td>\n",
       "      <td></td>\n",
       "      <td>-</td>\n",
       "      <td>In stock.</td>\n",
       "      <td>FREE delivery: Thursday, July 8 Details\\nFaste...</td>\n",
       "      <td>https://www.amazon.in/Juarez-Acoustic-Cutaway-...</td>\n",
       "    </tr>\n",
       "    <tr>\n",
       "      <th>...</th>\n",
       "      <td>...</td>\n",
       "      <td>...</td>\n",
       "      <td>...</td>\n",
       "      <td>...</td>\n",
       "      <td>...</td>\n",
       "      <td>...</td>\n",
       "    </tr>\n",
       "    <tr>\n",
       "      <th>187</th>\n",
       "      <td>Intern INT-38C-L-NT Left Hand Acoustic Guitar ...</td>\n",
       "      <td></td>\n",
       "      <td>-</td>\n",
       "      <td>In stock.</td>\n",
       "      <td>FREE delivery: Thursday, July 8 Details\\nFaste...</td>\n",
       "      <td>https://www.amazon.in/Intern-INT-38C-L-NT-Acou...</td>\n",
       "    </tr>\n",
       "    <tr>\n",
       "      <th>188</th>\n",
       "      <td>Honestum 4-string acoustic guitar learning kid...</td>\n",
       "      <td></td>\n",
       "      <td>-</td>\n",
       "      <td>In stock.</td>\n",
       "      <td>FREE delivery: Friday, July 9 Details\\nFastest...</td>\n",
       "      <td>https://www.amazon.in/gp/slredirect/picassoRed...</td>\n",
       "    </tr>\n",
       "    <tr>\n",
       "      <th>189</th>\n",
       "      <td>Laxmi Musical Electronics - Acoustic Pickup fo...</td>\n",
       "      <td></td>\n",
       "      <td>-</td>\n",
       "      <td>Only 2 left in stock.</td>\n",
       "      <td>FREE delivery: Thursday, July 8 Details\\nFaste...</td>\n",
       "      <td>https://www.amazon.in/gp/slredirect/picassoRed...</td>\n",
       "    </tr>\n",
       "    <tr>\n",
       "      <th>190</th>\n",
       "      <td>HRB MUSICALS GUITAR FLOOR STAND +GUITAR CAPO +...</td>\n",
       "      <td></td>\n",
       "      <td>-</td>\n",
       "      <td>In stock.</td>\n",
       "      <td>FREE delivery: Sunday, July 11 Details</td>\n",
       "      <td>https://www.amazon.in/gp/slredirect/picassoRed...</td>\n",
       "    </tr>\n",
       "    <tr>\n",
       "      <th>191</th>\n",
       "      <td>DEVICE OF URBAN INFOTECH Tuning Peg Silver for...</td>\n",
       "      <td></td>\n",
       "      <td>-</td>\n",
       "      <td>In stock.</td>\n",
       "      <td>FREE delivery: Saturday, July 10 Details</td>\n",
       "      <td>https://www.amazon.in/gp/slredirect/picassoRed...</td>\n",
       "    </tr>\n",
       "  </tbody>\n",
       "</table>\n",
       "<p>192 rows × 6 columns</p>\n",
       "</div>"
      ],
      "text/plain": [
       "                                Brand and Product Name Ratings        Price  \\\n",
       "0    Kadence Acoustica Series Semi Acoustic Ash Woo...           ₹ 7,199.00   \n",
       "1    Kadence Frontier Jumbo Semi Acoustic Guitar Wi...           ₹ 6,999.00   \n",
       "2    Kadence Frontier Series,Blue Acoustic Guitar W...           ₹ 5,499.00   \n",
       "3    Kadence Slowhand Premium Jumbo Semi Acoustic G...          ₹ 11,999.00   \n",
       "4    Juârez Acoustic Guitar, 38 Inch Cutaway, 038C ...                    -   \n",
       "..                                                 ...     ...          ...   \n",
       "187  Intern INT-38C-L-NT Left Hand Acoustic Guitar ...                    -   \n",
       "188  Honestum 4-string acoustic guitar learning kid...                    -   \n",
       "189  Laxmi Musical Electronics - Acoustic Pickup fo...                    -   \n",
       "190  HRB MUSICALS GUITAR FLOOR STAND +GUITAR CAPO +...                    -   \n",
       "191  DEVICE OF URBAN INFOTECH Tuning Peg Silver for...                    -   \n",
       "\n",
       "              Availability                                  Expected Delivery  \\\n",
       "0                In stock.  FREE delivery: Friday, July 9 Details\\nFastest...   \n",
       "1                In stock.  FREE delivery: Friday, July 9 Details\\nFastest...   \n",
       "2                In stock.  FREE delivery: Friday, July 9 Details\\nFastest...   \n",
       "3                In stock.              FREE delivery: Friday, July 9 Details   \n",
       "4                In stock.  FREE delivery: Thursday, July 8 Details\\nFaste...   \n",
       "..                     ...                                                ...   \n",
       "187              In stock.  FREE delivery: Thursday, July 8 Details\\nFaste...   \n",
       "188              In stock.  FREE delivery: Friday, July 9 Details\\nFastest...   \n",
       "189  Only 2 left in stock.  FREE delivery: Thursday, July 8 Details\\nFaste...   \n",
       "190              In stock.             FREE delivery: Sunday, July 11 Details   \n",
       "191              In stock.           FREE delivery: Saturday, July 10 Details   \n",
       "\n",
       "                                           Product URL  \n",
       "0    https://www.amazon.in/gp/slredirect/picassoRed...  \n",
       "1    https://www.amazon.in/gp/slredirect/picassoRed...  \n",
       "2    https://www.amazon.in/gp/slredirect/picassoRed...  \n",
       "3    https://www.amazon.in/gp/slredirect/picassoRed...  \n",
       "4    https://www.amazon.in/Juarez-Acoustic-Cutaway-...  \n",
       "..                                                 ...  \n",
       "187  https://www.amazon.in/Intern-INT-38C-L-NT-Acou...  \n",
       "188  https://www.amazon.in/gp/slredirect/picassoRed...  \n",
       "189  https://www.amazon.in/gp/slredirect/picassoRed...  \n",
       "190  https://www.amazon.in/gp/slredirect/picassoRed...  \n",
       "191  https://www.amazon.in/gp/slredirect/picassoRed...  \n",
       "\n",
       "[192 rows x 6 columns]"
      ]
     },
     "execution_count": 95,
     "metadata": {},
     "output_type": "execute_result"
    }
   ],
   "source": [
    "guitar_df = pd.DataFrame()\n",
    "guitar_df['Brand and Product Name']=brand_name_product_title\n",
    "guitar_df['Ratings'] = ratings_list\n",
    "guitar_df['Price'] = price_list\n",
    "guitar_df['Availability'] = stock_list\n",
    "guitar_df['Expected Delivery'] = exp_del_list\n",
    "guitar_df['Product URL'] = urls\n",
    "guitar_df"
   ]
  },
  {
   "cell_type": "markdown",
   "metadata": {},
   "source": [
    "# ------------------------------------------Question 3-------------------------------------------------"
   ]
  },
  {
   "cell_type": "code",
   "execution_count": 130,
   "metadata": {},
   "outputs": [],
   "source": [
    "driver.get('https://www.google.co.in/')"
   ]
  },
  {
   "cell_type": "code",
   "execution_count": 131,
   "metadata": {},
   "outputs": [],
   "source": [
    "img_btn = driver.find_element_by_xpath('//*[@id=\"gb\"]/div/div[1]/div/div[2]/a')\n",
    "img_btn.click()"
   ]
  },
  {
   "cell_type": "code",
   "execution_count": 132,
   "metadata": {},
   "outputs": [],
   "source": [
    "search = driver.find_element_by_xpath('//*[@id=\"sbtc\"]/div/div[2]/input')\n",
    "search.send_keys('cars')"
   ]
  },
  {
   "cell_type": "code",
   "execution_count": 133,
   "metadata": {},
   "outputs": [],
   "source": [
    "from selenium.webdriver.common.keys import Keys\n",
    "search.send_keys(Keys.ENTER)"
   ]
  },
  {
   "cell_type": "code",
   "execution_count": 134,
   "metadata": {},
   "outputs": [
    {
     "data": {
      "text/plain": [
       "83"
      ]
     },
     "execution_count": 134,
     "metadata": {},
     "output_type": "execute_result"
    }
   ],
   "source": [
    "img_url = driver.find_elements_by_tag_name('img')\n",
    "url = []\n",
    "for i in img_url:\n",
    "    url.append(i.get_attribute('src'))\n",
    "len(url)"
   ]
  },
  {
   "cell_type": "code",
   "execution_count": 135,
   "metadata": {},
   "outputs": [
    {
     "data": {
      "text/html": [
       "<div>\n",
       "<style scoped>\n",
       "    .dataframe tbody tr th:only-of-type {\n",
       "        vertical-align: middle;\n",
       "    }\n",
       "\n",
       "    .dataframe tbody tr th {\n",
       "        vertical-align: top;\n",
       "    }\n",
       "\n",
       "    .dataframe thead th {\n",
       "        text-align: right;\n",
       "    }\n",
       "</style>\n",
       "<table border=\"1\" class=\"dataframe\">\n",
       "  <thead>\n",
       "    <tr style=\"text-align: right;\">\n",
       "      <th></th>\n",
       "      <th>S.No.</th>\n",
       "      <th>Image URL</th>\n",
       "    </tr>\n",
       "  </thead>\n",
       "  <tbody>\n",
       "    <tr>\n",
       "      <th>0</th>\n",
       "      <td>1</td>\n",
       "      <td>data:image/jpeg;base64,/9j/4AAQSkZJRgABAQAAAQA...</td>\n",
       "    </tr>\n",
       "    <tr>\n",
       "      <th>1</th>\n",
       "      <td>2</td>\n",
       "      <td>data:image/jpeg;base64,/9j/4AAQSkZJRgABAQAAAQA...</td>\n",
       "    </tr>\n",
       "    <tr>\n",
       "      <th>2</th>\n",
       "      <td>3</td>\n",
       "      <td>data:image/jpeg;base64,/9j/4AAQSkZJRgABAQAAAQA...</td>\n",
       "    </tr>\n",
       "    <tr>\n",
       "      <th>3</th>\n",
       "      <td>4</td>\n",
       "      <td>data:image/jpeg;base64,/9j/4AAQSkZJRgABAQAAAQA...</td>\n",
       "    </tr>\n",
       "    <tr>\n",
       "      <th>4</th>\n",
       "      <td>5</td>\n",
       "      <td>data:image/jpeg;base64,/9j/4AAQSkZJRgABAQAAAQA...</td>\n",
       "    </tr>\n",
       "    <tr>\n",
       "      <th>...</th>\n",
       "      <td>...</td>\n",
       "      <td>...</td>\n",
       "    </tr>\n",
       "    <tr>\n",
       "      <th>78</th>\n",
       "      <td>79</td>\n",
       "      <td>None</td>\n",
       "    </tr>\n",
       "    <tr>\n",
       "      <th>79</th>\n",
       "      <td>80</td>\n",
       "      <td>None</td>\n",
       "    </tr>\n",
       "    <tr>\n",
       "      <th>80</th>\n",
       "      <td>81</td>\n",
       "      <td>https://encrypted-tbn0.gstatic.com/images?q=tb...</td>\n",
       "    </tr>\n",
       "    <tr>\n",
       "      <th>81</th>\n",
       "      <td>82</td>\n",
       "      <td>https://encrypted-tbn0.gstatic.com/images?q=tb...</td>\n",
       "    </tr>\n",
       "    <tr>\n",
       "      <th>82</th>\n",
       "      <td>83</td>\n",
       "      <td>https://encrypted-tbn0.gstatic.com/images?q=tb...</td>\n",
       "    </tr>\n",
       "  </tbody>\n",
       "</table>\n",
       "<p>83 rows × 2 columns</p>\n",
       "</div>"
      ],
      "text/plain": [
       "    S.No.                                          Image URL\n",
       "0       1  data:image/jpeg;base64,/9j/4AAQSkZJRgABAQAAAQA...\n",
       "1       2  data:image/jpeg;base64,/9j/4AAQSkZJRgABAQAAAQA...\n",
       "2       3  data:image/jpeg;base64,/9j/4AAQSkZJRgABAQAAAQA...\n",
       "3       4  data:image/jpeg;base64,/9j/4AAQSkZJRgABAQAAAQA...\n",
       "4       5  data:image/jpeg;base64,/9j/4AAQSkZJRgABAQAAAQA...\n",
       "..    ...                                                ...\n",
       "78     79                                               None\n",
       "79     80                                               None\n",
       "80     81  https://encrypted-tbn0.gstatic.com/images?q=tb...\n",
       "81     82  https://encrypted-tbn0.gstatic.com/images?q=tb...\n",
       "82     83  https://encrypted-tbn0.gstatic.com/images?q=tb...\n",
       "\n",
       "[83 rows x 2 columns]"
      ]
     },
     "execution_count": 135,
     "metadata": {},
     "output_type": "execute_result"
    }
   ],
   "source": [
    "image_df = pd.DataFrame()\n",
    "image_df['S.No.'] = range(1,84)\n",
    "image_df['Image URL'] = url\n",
    "image_df"
   ]
  },
  {
   "cell_type": "code",
   "execution_count": 136,
   "metadata": {
    "scrolled": true
   },
   "outputs": [
    {
     "data": {
      "text/plain": [
       "80"
      ]
     },
     "execution_count": 136,
     "metadata": {},
     "output_type": "execute_result"
    }
   ],
   "source": [
    "driver.get('https://www.google.co.in/')\n",
    "img_btn = driver.find_element_by_xpath('//*[@id=\"gb\"]/div/div[1]/div/div[2]/a')\n",
    "img_btn.click()\n",
    "search = driver.find_element_by_xpath('//*[@id=\"sbtc\"]/div/div[2]/input')\n",
    "search.send_keys('fuits')\n",
    "search.send_keys(Keys.ENTER)\n",
    "img_url2 = driver.find_elements_by_tag_name('img')\n",
    "url2 = []\n",
    "for i in img_url2:\n",
    "    url2.append(i.get_attribute('src'))\n",
    "len(url2)"
   ]
  },
  {
   "cell_type": "code",
   "execution_count": 139,
   "metadata": {},
   "outputs": [
    {
     "data": {
      "text/html": [
       "<div>\n",
       "<style scoped>\n",
       "    .dataframe tbody tr th:only-of-type {\n",
       "        vertical-align: middle;\n",
       "    }\n",
       "\n",
       "    .dataframe tbody tr th {\n",
       "        vertical-align: top;\n",
       "    }\n",
       "\n",
       "    .dataframe thead th {\n",
       "        text-align: right;\n",
       "    }\n",
       "</style>\n",
       "<table border=\"1\" class=\"dataframe\">\n",
       "  <thead>\n",
       "    <tr style=\"text-align: right;\">\n",
       "      <th></th>\n",
       "      <th>S.No.</th>\n",
       "      <th>Image URL</th>\n",
       "    </tr>\n",
       "  </thead>\n",
       "  <tbody>\n",
       "    <tr>\n",
       "      <th>0</th>\n",
       "      <td>1</td>\n",
       "      <td>data:image/png;base64,iVBORw0KGgoAAAANSUhEUgAA...</td>\n",
       "    </tr>\n",
       "    <tr>\n",
       "      <th>1</th>\n",
       "      <td>2</td>\n",
       "      <td>data:image/png;base64,iVBORw0KGgoAAAANSUhEUgAA...</td>\n",
       "    </tr>\n",
       "    <tr>\n",
       "      <th>2</th>\n",
       "      <td>3</td>\n",
       "      <td>data:image/jpeg;base64,/9j/4AAQSkZJRgABAQAAAQA...</td>\n",
       "    </tr>\n",
       "    <tr>\n",
       "      <th>3</th>\n",
       "      <td>4</td>\n",
       "      <td>data:image/jpeg;base64,/9j/4AAQSkZJRgABAQAAAQA...</td>\n",
       "    </tr>\n",
       "    <tr>\n",
       "      <th>4</th>\n",
       "      <td>5</td>\n",
       "      <td>data:image/jpeg;base64,/9j/4AAQSkZJRgABAQAAAQA...</td>\n",
       "    </tr>\n",
       "    <tr>\n",
       "      <th>...</th>\n",
       "      <td>...</td>\n",
       "      <td>...</td>\n",
       "    </tr>\n",
       "    <tr>\n",
       "      <th>75</th>\n",
       "      <td>76</td>\n",
       "      <td>None</td>\n",
       "    </tr>\n",
       "    <tr>\n",
       "      <th>76</th>\n",
       "      <td>77</td>\n",
       "      <td>None</td>\n",
       "    </tr>\n",
       "    <tr>\n",
       "      <th>77</th>\n",
       "      <td>78</td>\n",
       "      <td>https://encrypted-tbn0.gstatic.com/images?q=tb...</td>\n",
       "    </tr>\n",
       "    <tr>\n",
       "      <th>78</th>\n",
       "      <td>79</td>\n",
       "      <td>https://encrypted-tbn0.gstatic.com/images?q=tb...</td>\n",
       "    </tr>\n",
       "    <tr>\n",
       "      <th>79</th>\n",
       "      <td>80</td>\n",
       "      <td>https://encrypted-tbn0.gstatic.com/images?q=tb...</td>\n",
       "    </tr>\n",
       "  </tbody>\n",
       "</table>\n",
       "<p>80 rows × 2 columns</p>\n",
       "</div>"
      ],
      "text/plain": [
       "    S.No.                                          Image URL\n",
       "0       1  data:image/png;base64,iVBORw0KGgoAAAANSUhEUgAA...\n",
       "1       2  data:image/png;base64,iVBORw0KGgoAAAANSUhEUgAA...\n",
       "2       3  data:image/jpeg;base64,/9j/4AAQSkZJRgABAQAAAQA...\n",
       "3       4  data:image/jpeg;base64,/9j/4AAQSkZJRgABAQAAAQA...\n",
       "4       5  data:image/jpeg;base64,/9j/4AAQSkZJRgABAQAAAQA...\n",
       "..    ...                                                ...\n",
       "75     76                                               None\n",
       "76     77                                               None\n",
       "77     78  https://encrypted-tbn0.gstatic.com/images?q=tb...\n",
       "78     79  https://encrypted-tbn0.gstatic.com/images?q=tb...\n",
       "79     80  https://encrypted-tbn0.gstatic.com/images?q=tb...\n",
       "\n",
       "[80 rows x 2 columns]"
      ]
     },
     "execution_count": 139,
     "metadata": {},
     "output_type": "execute_result"
    }
   ],
   "source": [
    "image_df2 = pd.DataFrame()\n",
    "image_df2['S.No.'] = range(1,81)\n",
    "image_df2['Image URL'] = url2\n",
    "image_df2"
   ]
  },
  {
   "cell_type": "code",
   "execution_count": null,
   "metadata": {},
   "outputs": [],
   "source": [
    "driver.get('https://www.google.co.in/')\n",
    "img_btn = driver.find_element_by_xpath('//*[@id=\"gb\"]/div/div[1]/div/div[2]/a')\n",
    "img_btn.click()\n",
    "search = driver.find_element_by_xpath('//*[@id=\"sbtc\"]/div/div[2]/input')\n",
    "search.send_keys('Machine Learning')\n",
    "search.send_keys(Keys.ENTER)\n",
    "img_url3 = driver.find_elements_by_tag_name('img')\n",
    "url3 = []\n",
    "for i in img_url3:\n",
    "    url3.append(i.get_attribute('src'))\n",
    "len(url3)"
   ]
  },
  {
   "cell_type": "code",
   "execution_count": 141,
   "metadata": {},
   "outputs": [
    {
     "data": {
      "text/html": [
       "<div>\n",
       "<style scoped>\n",
       "    .dataframe tbody tr th:only-of-type {\n",
       "        vertical-align: middle;\n",
       "    }\n",
       "\n",
       "    .dataframe tbody tr th {\n",
       "        vertical-align: top;\n",
       "    }\n",
       "\n",
       "    .dataframe thead th {\n",
       "        text-align: right;\n",
       "    }\n",
       "</style>\n",
       "<table border=\"1\" class=\"dataframe\">\n",
       "  <thead>\n",
       "    <tr style=\"text-align: right;\">\n",
       "      <th></th>\n",
       "      <th>S.No.</th>\n",
       "      <th>Image URL</th>\n",
       "    </tr>\n",
       "  </thead>\n",
       "  <tbody>\n",
       "    <tr>\n",
       "      <th>0</th>\n",
       "      <td>1</td>\n",
       "      <td>data:image/png;base64,iVBORw0KGgoAAAANSUhEUgAA...</td>\n",
       "    </tr>\n",
       "    <tr>\n",
       "      <th>1</th>\n",
       "      <td>2</td>\n",
       "      <td>data:image/png;base64,iVBORw0KGgoAAAANSUhEUgAA...</td>\n",
       "    </tr>\n",
       "    <tr>\n",
       "      <th>2</th>\n",
       "      <td>3</td>\n",
       "      <td>data:image/png;base64,iVBORw0KGgoAAAANSUhEUgAA...</td>\n",
       "    </tr>\n",
       "    <tr>\n",
       "      <th>3</th>\n",
       "      <td>4</td>\n",
       "      <td>data:image/png;base64,iVBORw0KGgoAAAANSUhEUgAA...</td>\n",
       "    </tr>\n",
       "    <tr>\n",
       "      <th>4</th>\n",
       "      <td>5</td>\n",
       "      <td>data:image/jpeg;base64,/9j/4AAQSkZJRgABAQAAAQA...</td>\n",
       "    </tr>\n",
       "    <tr>\n",
       "      <th>...</th>\n",
       "      <td>...</td>\n",
       "      <td>...</td>\n",
       "    </tr>\n",
       "    <tr>\n",
       "      <th>78</th>\n",
       "      <td>79</td>\n",
       "      <td>None</td>\n",
       "    </tr>\n",
       "    <tr>\n",
       "      <th>79</th>\n",
       "      <td>80</td>\n",
       "      <td>None</td>\n",
       "    </tr>\n",
       "    <tr>\n",
       "      <th>80</th>\n",
       "      <td>81</td>\n",
       "      <td>https://encrypted-tbn0.gstatic.com/images?q=tb...</td>\n",
       "    </tr>\n",
       "    <tr>\n",
       "      <th>81</th>\n",
       "      <td>82</td>\n",
       "      <td>https://encrypted-tbn0.gstatic.com/images?q=tb...</td>\n",
       "    </tr>\n",
       "    <tr>\n",
       "      <th>82</th>\n",
       "      <td>83</td>\n",
       "      <td>https://encrypted-tbn0.gstatic.com/images?q=tb...</td>\n",
       "    </tr>\n",
       "  </tbody>\n",
       "</table>\n",
       "<p>83 rows × 2 columns</p>\n",
       "</div>"
      ],
      "text/plain": [
       "    S.No.                                          Image URL\n",
       "0       1  data:image/png;base64,iVBORw0KGgoAAAANSUhEUgAA...\n",
       "1       2  data:image/png;base64,iVBORw0KGgoAAAANSUhEUgAA...\n",
       "2       3  data:image/png;base64,iVBORw0KGgoAAAANSUhEUgAA...\n",
       "3       4  data:image/png;base64,iVBORw0KGgoAAAANSUhEUgAA...\n",
       "4       5  data:image/jpeg;base64,/9j/4AAQSkZJRgABAQAAAQA...\n",
       "..    ...                                                ...\n",
       "78     79                                               None\n",
       "79     80                                               None\n",
       "80     81  https://encrypted-tbn0.gstatic.com/images?q=tb...\n",
       "81     82  https://encrypted-tbn0.gstatic.com/images?q=tb...\n",
       "82     83  https://encrypted-tbn0.gstatic.com/images?q=tb...\n",
       "\n",
       "[83 rows x 2 columns]"
      ]
     },
     "execution_count": 141,
     "metadata": {},
     "output_type": "execute_result"
    }
   ],
   "source": [
    "image_df3 = pd.DataFrame()\n",
    "image_df3['S.No.'] = range(1,84)\n",
    "image_df3['Image URL'] = url3\n",
    "image_df3"
   ]
  },
  {
   "cell_type": "markdown",
   "metadata": {},
   "source": [
    "# ----------------------------------------Quesstion 4-----------------------------------------------------"
   ]
  },
  {
   "cell_type": "code",
   "execution_count": 142,
   "metadata": {},
   "outputs": [],
   "source": [
    "driver.get('https://www.flipkart.com/')"
   ]
  },
  {
   "cell_type": "code",
   "execution_count": 143,
   "metadata": {},
   "outputs": [],
   "source": [
    "search = driver.find_element_by_xpath('/html/body/div/div/div[1]/div[1]/div[2]/div[2]/form/div/div/input')\n",
    "search.send_keys('Smartphons')"
   ]
  },
  {
   "cell_type": "code",
   "execution_count": 144,
   "metadata": {},
   "outputs": [],
   "source": [
    "search.send_keys(Keys.ENTER)"
   ]
  },
  {
   "cell_type": "code",
   "execution_count": 197,
   "metadata": {},
   "outputs": [],
   "source": [
    "name = driver.find_elements_by_xpath('//div[@class = \"_4rR01T\"]')\n",
    "brand = []\n",
    "for i in name:\n",
    "    brand.append(i.text.split()[0])\n",
    "mob_name = []\n",
    "for i in name:\n",
    "    mob_name.append(i.text.split()[1])\n",
    "color = []\n",
    "for i in name:\n",
    "    color.append(i.text.split()[-4:-2])"
   ]
  },
  {
   "cell_type": "code",
   "execution_count": 173,
   "metadata": {},
   "outputs": [],
   "source": [
    "price = []\n",
    "prices = driver.find_elements_by_xpath('//div[@class = \"_30jeq3 _1_WHN1\"]')\n",
    "for i in prices:\n",
    "    price.append(i.text)"
   ]
  },
  {
   "cell_type": "code",
   "execution_count": 177,
   "metadata": {},
   "outputs": [],
   "source": [
    "prd_url = []\n",
    "url = driver.find_elements_by_xpath('//a[@class = \"_1fQZEK\"]')\n",
    "for i in url:\n",
    "    prd_url.append(i.get_attribute('href'))"
   ]
  },
  {
   "cell_type": "code",
   "execution_count": 179,
   "metadata": {},
   "outputs": [
    {
     "data": {
      "text/plain": [
       "['3 GB RAM | 32 GB ROM | Expandable Upto 256 GB',\n",
       " '16.54 cm (6.51 inch) HD+ Display',\n",
       " '13MP + 2MP | 8MP Front Camera',\n",
       " '6000 mAh Battery',\n",
       " 'MediaTek Helio G85 Processor',\n",
       " '1 Year Warranty for Mobile and 6 Months for Accessories',\n",
       " '4 GB RAM | 64 GB ROM | Expandable Upto 256 GB',\n",
       " '16.54 cm (6.51 inch) HD+ Display',\n",
       " '13MP + 2MP | 8MP Front Camera',\n",
       " '6000 mAh Battery']"
      ]
     },
     "execution_count": 179,
     "metadata": {},
     "output_type": "execute_result"
    }
   ],
   "source": [
    "extra = []\n",
    "data = driver.find_elements_by_xpath('//li[@class = \"rgWa7D\"]')\n",
    "for i in data:\n",
    "    extra.append(i.text)\n",
    "extra[:10]"
   ]
  },
  {
   "cell_type": "code",
   "execution_count": 196,
   "metadata": {},
   "outputs": [
    {
     "data": {
      "text/plain": [
       "24"
      ]
     },
     "execution_count": 196,
     "metadata": {},
     "output_type": "execute_result"
    }
   ],
   "source": [
    "ram = []\n",
    "for i in extra:\n",
    "    ram.append(i[0:8])\n",
    "ram = ram[::6]\n",
    "len(ram)"
   ]
  },
  {
   "cell_type": "code",
   "execution_count": 201,
   "metadata": {},
   "outputs": [
    {
     "data": {
      "text/plain": [
       "24"
      ]
     },
     "execution_count": 201,
     "metadata": {},
     "output_type": "execute_result"
    }
   ],
   "source": [
    "battery = []\n",
    "for i in extra:\n",
    "    battery.append(i[0:8])\n",
    "battery = battery[3::6]\n",
    "len(battery)"
   ]
  },
  {
   "cell_type": "code",
   "execution_count": 216,
   "metadata": {},
   "outputs": [
    {
     "data": {
      "text/plain": [
       "24"
      ]
     },
     "execution_count": 216,
     "metadata": {},
     "output_type": "execute_result"
    }
   ],
   "source": [
    "pcamera = []\n",
    "for i in extra:\n",
    "    pcamera.append(i[0:11])\n",
    "pcamera = pcamera[2::6]\n",
    "len(pcamera)"
   ]
  },
  {
   "cell_type": "code",
   "execution_count": 217,
   "metadata": {},
   "outputs": [
    {
     "data": {
      "text/plain": [
       "24"
      ]
     },
     "execution_count": 217,
     "metadata": {},
     "output_type": "execute_result"
    }
   ],
   "source": [
    "fcamera = []\n",
    "for i in extra:\n",
    "    fcamera.append(i[-17:])\n",
    "fcamera = fcamera[2::6]\n",
    "len(fcamera)"
   ]
  },
  {
   "cell_type": "code",
   "execution_count": 215,
   "metadata": {},
   "outputs": [
    {
     "data": {
      "text/plain": [
       "24"
      ]
     },
     "execution_count": 215,
     "metadata": {},
     "output_type": "execute_result"
    }
   ],
   "source": [
    "rom = []\n",
    "for i in extra:\n",
    "    rom.append(i[11:20])\n",
    "rom = rom[::6]\n",
    "len(rom)"
   ]
  },
  {
   "cell_type": "code",
   "execution_count": 220,
   "metadata": {},
   "outputs": [
    {
     "data": {
      "text/plain": [
       "24"
      ]
     },
     "execution_count": 220,
     "metadata": {},
     "output_type": "execute_result"
    }
   ],
   "source": [
    "processor = extra[4::6]\n",
    "len(processor)"
   ]
  },
  {
   "cell_type": "code",
   "execution_count": 222,
   "metadata": {},
   "outputs": [
    {
     "data": {
      "text/plain": [
       "24"
      ]
     },
     "execution_count": 222,
     "metadata": {},
     "output_type": "execute_result"
    }
   ],
   "source": [
    "display = extra[1::6]\n",
    "len(display)"
   ]
  },
  {
   "cell_type": "code",
   "execution_count": 223,
   "metadata": {},
   "outputs": [
    {
     "data": {
      "text/html": [
       "<div>\n",
       "<style scoped>\n",
       "    .dataframe tbody tr th:only-of-type {\n",
       "        vertical-align: middle;\n",
       "    }\n",
       "\n",
       "    .dataframe tbody tr th {\n",
       "        vertical-align: top;\n",
       "    }\n",
       "\n",
       "    .dataframe thead th {\n",
       "        text-align: right;\n",
       "    }\n",
       "</style>\n",
       "<table border=\"1\" class=\"dataframe\">\n",
       "  <thead>\n",
       "    <tr style=\"text-align: right;\">\n",
       "      <th></th>\n",
       "      <th>Brand Name</th>\n",
       "      <th>Mobile Name</th>\n",
       "      <th>Color</th>\n",
       "      <th>Price</th>\n",
       "      <th>RAM</th>\n",
       "      <th>ROM</th>\n",
       "      <th>Display</th>\n",
       "      <th>Processor</th>\n",
       "      <th>Front Camera</th>\n",
       "      <th>Rear Camera</th>\n",
       "      <th>Battery</th>\n",
       "      <th>Product URL</th>\n",
       "    </tr>\n",
       "  </thead>\n",
       "  <tbody>\n",
       "    <tr>\n",
       "      <th>0</th>\n",
       "      <td>realme</td>\n",
       "      <td>Narzo</td>\n",
       "      <td>[(Laser, Black,]</td>\n",
       "      <td>₹8,249</td>\n",
       "      <td>3 GB RAM</td>\n",
       "      <td>32 GB ROM</td>\n",
       "      <td>16.54 cm (6.51 inch) HD+ Display</td>\n",
       "      <td>MediaTek Helio G85 Processor</td>\n",
       "      <td>8MP Front Camera</td>\n",
       "      <td>8MP Front Camera</td>\n",
       "      <td>6000 mAh</td>\n",
       "      <td>https://www.flipkart.com/realme-narzo-30a-lase...</td>\n",
       "    </tr>\n",
       "    <tr>\n",
       "      <th>1</th>\n",
       "      <td>realme</td>\n",
       "      <td>Narzo</td>\n",
       "      <td>[(Laser, Black,]</td>\n",
       "      <td>₹9,999</td>\n",
       "      <td>4 GB RAM</td>\n",
       "      <td>64 GB ROM</td>\n",
       "      <td>16.54 cm (6.51 inch) HD+ Display</td>\n",
       "      <td>MediaTek Helio G85 Processor</td>\n",
       "      <td>8MP Front Camera</td>\n",
       "      <td>8MP Front Camera</td>\n",
       "      <td>6000 mAh</td>\n",
       "      <td>https://www.flipkart.com/realme-narzo-30a-lase...</td>\n",
       "    </tr>\n",
       "    <tr>\n",
       "      <th>2</th>\n",
       "      <td>realme</td>\n",
       "      <td>Narzo</td>\n",
       "      <td>[(Laser, Blue,]</td>\n",
       "      <td>₹9,999</td>\n",
       "      <td>4 GB RAM</td>\n",
       "      <td>64 GB ROM</td>\n",
       "      <td>16.54 cm (6.51 inch) HD+ Display</td>\n",
       "      <td>MediaTek Helio G85 Processor</td>\n",
       "      <td>8MP Front Camera</td>\n",
       "      <td>8MP Front Camera</td>\n",
       "      <td>6000 mAh</td>\n",
       "      <td>https://www.flipkart.com/realme-narzo-30a-lase...</td>\n",
       "    </tr>\n",
       "    <tr>\n",
       "      <th>3</th>\n",
       "      <td>realme</td>\n",
       "      <td>Narzo</td>\n",
       "      <td>[(Laser, Blue,]</td>\n",
       "      <td>₹8,249</td>\n",
       "      <td>3 GB RAM</td>\n",
       "      <td>32 GB ROM</td>\n",
       "      <td>16.54 cm (6.51 inch) HD+ Display</td>\n",
       "      <td>MediaTek Helio G85 Processor</td>\n",
       "      <td>8MP Front Camera</td>\n",
       "      <td>8MP Front Camera</td>\n",
       "      <td>6000 mAh</td>\n",
       "      <td>https://www.flipkart.com/realme-narzo-30a-lase...</td>\n",
       "    </tr>\n",
       "    <tr>\n",
       "      <th>4</th>\n",
       "      <td>realme</td>\n",
       "      <td>C21</td>\n",
       "      <td>[(Cross, Black,]</td>\n",
       "      <td>₹8,999</td>\n",
       "      <td>4 GB RAM</td>\n",
       "      <td>64 GB ROM</td>\n",
       "      <td>16.51 cm (6.5 inch) HD+ Display</td>\n",
       "      <td>MediaTek Helio G35 Processor</td>\n",
       "      <td>5MP Front Camera</td>\n",
       "      <td>5MP Front Camera</td>\n",
       "      <td>5000 mAh</td>\n",
       "      <td>https://www.flipkart.com/realme-c21-cross-blac...</td>\n",
       "    </tr>\n",
       "    <tr>\n",
       "      <th>5</th>\n",
       "      <td>realme</td>\n",
       "      <td>C21</td>\n",
       "      <td>[(Cross, Blue,]</td>\n",
       "      <td>₹8,999</td>\n",
       "      <td>4 GB RAM</td>\n",
       "      <td>64 GB ROM</td>\n",
       "      <td>16.51 cm (6.5 inch) HD+ Display</td>\n",
       "      <td>MediaTek Helio G35 Processor</td>\n",
       "      <td>5MP Front Camera</td>\n",
       "      <td>5MP Front Camera</td>\n",
       "      <td>5000 mAh</td>\n",
       "      <td>https://www.flipkart.com/realme-c21-cross-blue...</td>\n",
       "    </tr>\n",
       "    <tr>\n",
       "      <th>6</th>\n",
       "      <td>realme</td>\n",
       "      <td>C21</td>\n",
       "      <td>[(Cross, Black,]</td>\n",
       "      <td>₹7,999</td>\n",
       "      <td>3 GB RAM</td>\n",
       "      <td>32 GB ROM</td>\n",
       "      <td>16.51 cm (6.5 inch) HD+ Display</td>\n",
       "      <td>MediaTek Helio G35 Processor</td>\n",
       "      <td>5MP Front Camera</td>\n",
       "      <td>5MP Front Camera</td>\n",
       "      <td>5000 mAh</td>\n",
       "      <td>https://www.flipkart.com/realme-c21-cross-blac...</td>\n",
       "    </tr>\n",
       "    <tr>\n",
       "      <th>7</th>\n",
       "      <td>realme</td>\n",
       "      <td>C21</td>\n",
       "      <td>[(Cross, Blue,]</td>\n",
       "      <td>₹7,999</td>\n",
       "      <td>3 GB RAM</td>\n",
       "      <td>32 GB ROM</td>\n",
       "      <td>16.51 cm (6.5 inch) HD+ Display</td>\n",
       "      <td>MediaTek Helio G35 Processor</td>\n",
       "      <td>5MP Front Camera</td>\n",
       "      <td>5MP Front Camera</td>\n",
       "      <td>5000 mAh</td>\n",
       "      <td>https://www.flipkart.com/realme-c21-cross-blue...</td>\n",
       "    </tr>\n",
       "    <tr>\n",
       "      <th>8</th>\n",
       "      <td>POCO</td>\n",
       "      <td>M3</td>\n",
       "      <td>[(Cool, Blue,]</td>\n",
       "      <td>₹10,999</td>\n",
       "      <td>6 GB RAM</td>\n",
       "      <td>64 GB ROM</td>\n",
       "      <td>16.59 cm (6.53 inch) Full HD+ Display</td>\n",
       "      <td>Qualcomm Snapdragon 662 Processor</td>\n",
       "      <td>8MP Front Camera</td>\n",
       "      <td>8MP Front Camera</td>\n",
       "      <td>6000 mAh</td>\n",
       "      <td>https://www.flipkart.com/poco-m3-cool-blue-64-...</td>\n",
       "    </tr>\n",
       "    <tr>\n",
       "      <th>9</th>\n",
       "      <td>POCO</td>\n",
       "      <td>M3</td>\n",
       "      <td>[(Power, Black,]</td>\n",
       "      <td>₹10,999</td>\n",
       "      <td>6 GB RAM</td>\n",
       "      <td>64 GB ROM</td>\n",
       "      <td>16.59 cm (6.53 inch) Full HD+ Display</td>\n",
       "      <td>Qualcomm Snapdragon 662 Processor</td>\n",
       "      <td>8MP Front Camera</td>\n",
       "      <td>8MP Front Camera</td>\n",
       "      <td>6000 mAh</td>\n",
       "      <td>https://www.flipkart.com/poco-m3-power-black-6...</td>\n",
       "    </tr>\n",
       "    <tr>\n",
       "      <th>10</th>\n",
       "      <td>REDMI</td>\n",
       "      <td>9i</td>\n",
       "      <td>[(Midnight, Black,]</td>\n",
       "      <td>₹8,299</td>\n",
       "      <td>4 GB RAM</td>\n",
       "      <td>64 GB ROM</td>\n",
       "      <td>16.59 cm (6.53 inch) HD+ Display</td>\n",
       "      <td>MediaTek Helio G25 Processor</td>\n",
       "      <td>5MP Front Camera</td>\n",
       "      <td>5MP Front Camera</td>\n",
       "      <td>5000 mAh</td>\n",
       "      <td>https://www.flipkart.com/redmi-9i-midnight-bla...</td>\n",
       "    </tr>\n",
       "    <tr>\n",
       "      <th>11</th>\n",
       "      <td>POCO</td>\n",
       "      <td>M3</td>\n",
       "      <td>[(Cool, Blue,]</td>\n",
       "      <td>₹11,999</td>\n",
       "      <td>6 GB RAM</td>\n",
       "      <td>128 GB RO</td>\n",
       "      <td>16.59 cm (6.53 inch) Full HD+ Display</td>\n",
       "      <td>Qualcomm Snapdragon 662 Processor</td>\n",
       "      <td>8MP Front Camera</td>\n",
       "      <td>8MP Front Camera</td>\n",
       "      <td>6000 mAh</td>\n",
       "      <td>https://www.flipkart.com/poco-m3-cool-blue-128...</td>\n",
       "    </tr>\n",
       "    <tr>\n",
       "      <th>12</th>\n",
       "      <td>realme</td>\n",
       "      <td>C20</td>\n",
       "      <td>[(Cool, Grey,]</td>\n",
       "      <td>₹6,999</td>\n",
       "      <td>2 GB RAM</td>\n",
       "      <td>32 GB ROM</td>\n",
       "      <td>16.51 cm (6.5 inch) HD+ Display</td>\n",
       "      <td>MediaTek Helio G35 Processor</td>\n",
       "      <td>5MP Front Camera</td>\n",
       "      <td>5MP Front Camera</td>\n",
       "      <td>5000 mAh</td>\n",
       "      <td>https://www.flipkart.com/realme-c20-cool-grey-...</td>\n",
       "    </tr>\n",
       "    <tr>\n",
       "      <th>13</th>\n",
       "      <td>realme</td>\n",
       "      <td>C20</td>\n",
       "      <td>[(Cool, Blue,]</td>\n",
       "      <td>₹6,999</td>\n",
       "      <td>2 GB RAM</td>\n",
       "      <td>32 GB ROM</td>\n",
       "      <td>16.51 cm (6.5 inch) HD+ Display</td>\n",
       "      <td>MediaTek Helio G35 Processor</td>\n",
       "      <td>5MP Front Camera</td>\n",
       "      <td>5MP Front Camera</td>\n",
       "      <td>5000 mAh</td>\n",
       "      <td>https://www.flipkart.com/realme-c20-cool-blue-...</td>\n",
       "    </tr>\n",
       "    <tr>\n",
       "      <th>14</th>\n",
       "      <td>REDMI</td>\n",
       "      <td>Note</td>\n",
       "      <td>[(Shadow, Black,]</td>\n",
       "      <td>₹10,999</td>\n",
       "      <td>4 GB RAM</td>\n",
       "      <td>64 GB ROM</td>\n",
       "      <td>16.59 cm (6.53 inch) Full HD+ Display</td>\n",
       "      <td>MediaTek Helio G85 Processor</td>\n",
       "      <td>13MP Front Camera</td>\n",
       "      <td>13MP Front Camera</td>\n",
       "      <td>5020 mAh</td>\n",
       "      <td>https://www.flipkart.com/redmi-note-9-shadow-b...</td>\n",
       "    </tr>\n",
       "    <tr>\n",
       "      <th>15</th>\n",
       "      <td>POCO</td>\n",
       "      <td>M3</td>\n",
       "      <td>[M3, (Yellow,]</td>\n",
       "      <td>₹11,999</td>\n",
       "      <td>6 GB RAM</td>\n",
       "      <td>128 GB RO</td>\n",
       "      <td>16.59 cm (6.53 inch) Full HD+ Display</td>\n",
       "      <td>Qualcomm Snapdragon 662 Processor</td>\n",
       "      <td>8MP Front Camera</td>\n",
       "      <td>8MP Front Camera</td>\n",
       "      <td>6000 mAh</td>\n",
       "      <td>https://www.flipkart.com/poco-m3-yellow-128-gb...</td>\n",
       "    </tr>\n",
       "    <tr>\n",
       "      <th>16</th>\n",
       "      <td>REDMI</td>\n",
       "      <td>9i</td>\n",
       "      <td>[(Nature, Green,]</td>\n",
       "      <td>₹8,299</td>\n",
       "      <td>4 GB RAM</td>\n",
       "      <td>64 GB ROM</td>\n",
       "      <td>16.59 cm (6.53 inch) HD+ Display</td>\n",
       "      <td>MediaTek Helio G25 Processor</td>\n",
       "      <td>5MP Front Camera</td>\n",
       "      <td>5MP Front Camera</td>\n",
       "      <td>5000 mAh</td>\n",
       "      <td>https://www.flipkart.com/redmi-9i-nature-green...</td>\n",
       "    </tr>\n",
       "    <tr>\n",
       "      <th>17</th>\n",
       "      <td>POCO</td>\n",
       "      <td>C3</td>\n",
       "      <td>[(Matte, Black,]</td>\n",
       "      <td>₹7,499</td>\n",
       "      <td>3 GB RAM</td>\n",
       "      <td>32 GB ROM</td>\n",
       "      <td>16.59 cm (6.53 inch) HD+ Display</td>\n",
       "      <td>Mediatek Helio G35 Processor</td>\n",
       "      <td>5MP Front Camera</td>\n",
       "      <td>5MP Front Camera</td>\n",
       "      <td>5000 mAh</td>\n",
       "      <td>https://www.flipkart.com/poco-c3-matte-black-3...</td>\n",
       "    </tr>\n",
       "    <tr>\n",
       "      <th>18</th>\n",
       "      <td>POCO</td>\n",
       "      <td>M3</td>\n",
       "      <td>[M3, (Yellow,]</td>\n",
       "      <td>₹10,999</td>\n",
       "      <td>6 GB RAM</td>\n",
       "      <td>64 GB ROM</td>\n",
       "      <td>16.59 cm (6.53 inch) Full HD+ Display</td>\n",
       "      <td>Qualcomm Snapdragon 662 Processor</td>\n",
       "      <td>8MP Front Camera</td>\n",
       "      <td>8MP Front Camera</td>\n",
       "      <td>6000 mAh</td>\n",
       "      <td>https://www.flipkart.com/poco-m3-yellow-64-gb/...</td>\n",
       "    </tr>\n",
       "    <tr>\n",
       "      <th>19</th>\n",
       "      <td>REDMI</td>\n",
       "      <td>9i</td>\n",
       "      <td>[(Sea, Blue,]</td>\n",
       "      <td>₹8,299</td>\n",
       "      <td>4 GB RAM</td>\n",
       "      <td>64 GB ROM</td>\n",
       "      <td>16.59 cm (6.53 inch) HD+ Display</td>\n",
       "      <td>MediaTek Helio G25 Processor</td>\n",
       "      <td>5MP Front Camera</td>\n",
       "      <td>5MP Front Camera</td>\n",
       "      <td>5000 mAh</td>\n",
       "      <td>https://www.flipkart.com/redmi-9i-sea-blue-64-...</td>\n",
       "    </tr>\n",
       "    <tr>\n",
       "      <th>20</th>\n",
       "      <td>POCO</td>\n",
       "      <td>M3</td>\n",
       "      <td>[(Power, Black,]</td>\n",
       "      <td>₹11,999</td>\n",
       "      <td>6 GB RAM</td>\n",
       "      <td>128 GB RO</td>\n",
       "      <td>16.59 cm (6.53 inch) Full HD+ Display</td>\n",
       "      <td>Qualcomm Snapdragon 662 Processor</td>\n",
       "      <td>8MP Front Camera</td>\n",
       "      <td>8MP Front Camera</td>\n",
       "      <td>6000 mAh</td>\n",
       "      <td>https://www.flipkart.com/poco-m3-power-black-1...</td>\n",
       "    </tr>\n",
       "    <tr>\n",
       "      <th>21</th>\n",
       "      <td>realme</td>\n",
       "      <td>Narzo</td>\n",
       "      <td>[(Racing, Blue,]</td>\n",
       "      <td>₹15,999</td>\n",
       "      <td>6 GB RAM</td>\n",
       "      <td>128 GB RO</td>\n",
       "      <td>16.51 cm (6.5 inch) Full HD+ Display</td>\n",
       "      <td>MediaTek Dimensity 700 (MT6833) Processor</td>\n",
       "      <td>16MP Front Camera</td>\n",
       "      <td>16MP Front Camera</td>\n",
       "      <td>5000 mAh</td>\n",
       "      <td>https://www.flipkart.com/realme-narzo-30-5g-ra...</td>\n",
       "    </tr>\n",
       "    <tr>\n",
       "      <th>22</th>\n",
       "      <td>realme</td>\n",
       "      <td>Narzo</td>\n",
       "      <td>[(Racing, Silver,]</td>\n",
       "      <td>₹15,999</td>\n",
       "      <td>6 GB RAM</td>\n",
       "      <td>128 GB RO</td>\n",
       "      <td>16.51 cm (6.5 inch) Full HD+ Display</td>\n",
       "      <td>MediaTek Dimensity 700 (MT6833) Processor</td>\n",
       "      <td>16MP Front Camera</td>\n",
       "      <td>16MP Front Camera</td>\n",
       "      <td>5000 mAh</td>\n",
       "      <td>https://www.flipkart.com/realme-narzo-30-5g-ra...</td>\n",
       "    </tr>\n",
       "    <tr>\n",
       "      <th>23</th>\n",
       "      <td>realme</td>\n",
       "      <td>8</td>\n",
       "      <td>[(Supersonic, Black,]</td>\n",
       "      <td>₹13,999</td>\n",
       "      <td>4 GB RAM</td>\n",
       "      <td>64 GB ROM</td>\n",
       "      <td>16.51 cm (6.5 inch) Full HD+ Display</td>\n",
       "      <td>MediaTek Dimensity 700 (MT6833) Processor</td>\n",
       "      <td>16MP Front Camera</td>\n",
       "      <td>16MP Front Camera</td>\n",
       "      <td>5000 mAh</td>\n",
       "      <td>https://www.flipkart.com/realme-8-5g-supersoni...</td>\n",
       "    </tr>\n",
       "  </tbody>\n",
       "</table>\n",
       "</div>"
      ],
      "text/plain": [
       "   Brand Name Mobile Name                  Color    Price       RAM  \\\n",
       "0      realme       Narzo       [(Laser, Black,]   ₹8,249  3 GB RAM   \n",
       "1      realme       Narzo       [(Laser, Black,]   ₹9,999  4 GB RAM   \n",
       "2      realme       Narzo        [(Laser, Blue,]   ₹9,999  4 GB RAM   \n",
       "3      realme       Narzo        [(Laser, Blue,]   ₹8,249  3 GB RAM   \n",
       "4      realme         C21       [(Cross, Black,]   ₹8,999  4 GB RAM   \n",
       "5      realme         C21        [(Cross, Blue,]   ₹8,999  4 GB RAM   \n",
       "6      realme         C21       [(Cross, Black,]   ₹7,999  3 GB RAM   \n",
       "7      realme         C21        [(Cross, Blue,]   ₹7,999  3 GB RAM   \n",
       "8        POCO          M3         [(Cool, Blue,]  ₹10,999  6 GB RAM   \n",
       "9        POCO          M3       [(Power, Black,]  ₹10,999  6 GB RAM   \n",
       "10      REDMI          9i    [(Midnight, Black,]   ₹8,299  4 GB RAM   \n",
       "11       POCO          M3         [(Cool, Blue,]  ₹11,999  6 GB RAM   \n",
       "12     realme         C20         [(Cool, Grey,]   ₹6,999  2 GB RAM   \n",
       "13     realme         C20         [(Cool, Blue,]   ₹6,999  2 GB RAM   \n",
       "14      REDMI        Note      [(Shadow, Black,]  ₹10,999  4 GB RAM   \n",
       "15       POCO          M3         [M3, (Yellow,]  ₹11,999  6 GB RAM   \n",
       "16      REDMI          9i      [(Nature, Green,]   ₹8,299  4 GB RAM   \n",
       "17       POCO          C3       [(Matte, Black,]   ₹7,499  3 GB RAM   \n",
       "18       POCO          M3         [M3, (Yellow,]  ₹10,999  6 GB RAM   \n",
       "19      REDMI          9i          [(Sea, Blue,]   ₹8,299  4 GB RAM   \n",
       "20       POCO          M3       [(Power, Black,]  ₹11,999  6 GB RAM   \n",
       "21     realme       Narzo       [(Racing, Blue,]  ₹15,999  6 GB RAM   \n",
       "22     realme       Narzo     [(Racing, Silver,]  ₹15,999  6 GB RAM   \n",
       "23     realme           8  [(Supersonic, Black,]  ₹13,999  4 GB RAM   \n",
       "\n",
       "          ROM                                Display  \\\n",
       "0   32 GB ROM       16.54 cm (6.51 inch) HD+ Display   \n",
       "1   64 GB ROM       16.54 cm (6.51 inch) HD+ Display   \n",
       "2   64 GB ROM       16.54 cm (6.51 inch) HD+ Display   \n",
       "3   32 GB ROM       16.54 cm (6.51 inch) HD+ Display   \n",
       "4   64 GB ROM        16.51 cm (6.5 inch) HD+ Display   \n",
       "5   64 GB ROM        16.51 cm (6.5 inch) HD+ Display   \n",
       "6   32 GB ROM        16.51 cm (6.5 inch) HD+ Display   \n",
       "7   32 GB ROM        16.51 cm (6.5 inch) HD+ Display   \n",
       "8   64 GB ROM  16.59 cm (6.53 inch) Full HD+ Display   \n",
       "9   64 GB ROM  16.59 cm (6.53 inch) Full HD+ Display   \n",
       "10  64 GB ROM       16.59 cm (6.53 inch) HD+ Display   \n",
       "11  128 GB RO  16.59 cm (6.53 inch) Full HD+ Display   \n",
       "12  32 GB ROM        16.51 cm (6.5 inch) HD+ Display   \n",
       "13  32 GB ROM        16.51 cm (6.5 inch) HD+ Display   \n",
       "14  64 GB ROM  16.59 cm (6.53 inch) Full HD+ Display   \n",
       "15  128 GB RO  16.59 cm (6.53 inch) Full HD+ Display   \n",
       "16  64 GB ROM       16.59 cm (6.53 inch) HD+ Display   \n",
       "17  32 GB ROM       16.59 cm (6.53 inch) HD+ Display   \n",
       "18  64 GB ROM  16.59 cm (6.53 inch) Full HD+ Display   \n",
       "19  64 GB ROM       16.59 cm (6.53 inch) HD+ Display   \n",
       "20  128 GB RO  16.59 cm (6.53 inch) Full HD+ Display   \n",
       "21  128 GB RO   16.51 cm (6.5 inch) Full HD+ Display   \n",
       "22  128 GB RO   16.51 cm (6.5 inch) Full HD+ Display   \n",
       "23  64 GB ROM   16.51 cm (6.5 inch) Full HD+ Display   \n",
       "\n",
       "                                    Processor       Front Camera  \\\n",
       "0                MediaTek Helio G85 Processor   8MP Front Camera   \n",
       "1                MediaTek Helio G85 Processor   8MP Front Camera   \n",
       "2                MediaTek Helio G85 Processor   8MP Front Camera   \n",
       "3                MediaTek Helio G85 Processor   8MP Front Camera   \n",
       "4                MediaTek Helio G35 Processor   5MP Front Camera   \n",
       "5                MediaTek Helio G35 Processor   5MP Front Camera   \n",
       "6                MediaTek Helio G35 Processor   5MP Front Camera   \n",
       "7                MediaTek Helio G35 Processor   5MP Front Camera   \n",
       "8           Qualcomm Snapdragon 662 Processor   8MP Front Camera   \n",
       "9           Qualcomm Snapdragon 662 Processor   8MP Front Camera   \n",
       "10               MediaTek Helio G25 Processor   5MP Front Camera   \n",
       "11          Qualcomm Snapdragon 662 Processor   8MP Front Camera   \n",
       "12               MediaTek Helio G35 Processor   5MP Front Camera   \n",
       "13               MediaTek Helio G35 Processor   5MP Front Camera   \n",
       "14               MediaTek Helio G85 Processor  13MP Front Camera   \n",
       "15          Qualcomm Snapdragon 662 Processor   8MP Front Camera   \n",
       "16               MediaTek Helio G25 Processor   5MP Front Camera   \n",
       "17               Mediatek Helio G35 Processor   5MP Front Camera   \n",
       "18          Qualcomm Snapdragon 662 Processor   8MP Front Camera   \n",
       "19               MediaTek Helio G25 Processor   5MP Front Camera   \n",
       "20          Qualcomm Snapdragon 662 Processor   8MP Front Camera   \n",
       "21  MediaTek Dimensity 700 (MT6833) Processor  16MP Front Camera   \n",
       "22  MediaTek Dimensity 700 (MT6833) Processor  16MP Front Camera   \n",
       "23  MediaTek Dimensity 700 (MT6833) Processor  16MP Front Camera   \n",
       "\n",
       "          Rear Camera   Battery  \\\n",
       "0    8MP Front Camera  6000 mAh   \n",
       "1    8MP Front Camera  6000 mAh   \n",
       "2    8MP Front Camera  6000 mAh   \n",
       "3    8MP Front Camera  6000 mAh   \n",
       "4    5MP Front Camera  5000 mAh   \n",
       "5    5MP Front Camera  5000 mAh   \n",
       "6    5MP Front Camera  5000 mAh   \n",
       "7    5MP Front Camera  5000 mAh   \n",
       "8    8MP Front Camera  6000 mAh   \n",
       "9    8MP Front Camera  6000 mAh   \n",
       "10   5MP Front Camera  5000 mAh   \n",
       "11   8MP Front Camera  6000 mAh   \n",
       "12   5MP Front Camera  5000 mAh   \n",
       "13   5MP Front Camera  5000 mAh   \n",
       "14  13MP Front Camera  5020 mAh   \n",
       "15   8MP Front Camera  6000 mAh   \n",
       "16   5MP Front Camera  5000 mAh   \n",
       "17   5MP Front Camera  5000 mAh   \n",
       "18   8MP Front Camera  6000 mAh   \n",
       "19   5MP Front Camera  5000 mAh   \n",
       "20   8MP Front Camera  6000 mAh   \n",
       "21  16MP Front Camera  5000 mAh   \n",
       "22  16MP Front Camera  5000 mAh   \n",
       "23  16MP Front Camera  5000 mAh   \n",
       "\n",
       "                                          Product URL  \n",
       "0   https://www.flipkart.com/realme-narzo-30a-lase...  \n",
       "1   https://www.flipkart.com/realme-narzo-30a-lase...  \n",
       "2   https://www.flipkart.com/realme-narzo-30a-lase...  \n",
       "3   https://www.flipkart.com/realme-narzo-30a-lase...  \n",
       "4   https://www.flipkart.com/realme-c21-cross-blac...  \n",
       "5   https://www.flipkart.com/realme-c21-cross-blue...  \n",
       "6   https://www.flipkart.com/realme-c21-cross-blac...  \n",
       "7   https://www.flipkart.com/realme-c21-cross-blue...  \n",
       "8   https://www.flipkart.com/poco-m3-cool-blue-64-...  \n",
       "9   https://www.flipkart.com/poco-m3-power-black-6...  \n",
       "10  https://www.flipkart.com/redmi-9i-midnight-bla...  \n",
       "11  https://www.flipkart.com/poco-m3-cool-blue-128...  \n",
       "12  https://www.flipkart.com/realme-c20-cool-grey-...  \n",
       "13  https://www.flipkart.com/realme-c20-cool-blue-...  \n",
       "14  https://www.flipkart.com/redmi-note-9-shadow-b...  \n",
       "15  https://www.flipkart.com/poco-m3-yellow-128-gb...  \n",
       "16  https://www.flipkart.com/redmi-9i-nature-green...  \n",
       "17  https://www.flipkart.com/poco-c3-matte-black-3...  \n",
       "18  https://www.flipkart.com/poco-m3-yellow-64-gb/...  \n",
       "19  https://www.flipkart.com/redmi-9i-sea-blue-64-...  \n",
       "20  https://www.flipkart.com/poco-m3-power-black-1...  \n",
       "21  https://www.flipkart.com/realme-narzo-30-5g-ra...  \n",
       "22  https://www.flipkart.com/realme-narzo-30-5g-ra...  \n",
       "23  https://www.flipkart.com/realme-8-5g-supersoni...  "
      ]
     },
     "execution_count": 223,
     "metadata": {},
     "output_type": "execute_result"
    }
   ],
   "source": [
    "smartphone = pd.DataFrame()\n",
    "smartphone['Brand Name'] = brand\n",
    "smartphone['Mobile Name'] = mob_name\n",
    "smartphone['Color'] = color\n",
    "smartphone['Price'] = price\n",
    "smartphone['RAM'] = ram\n",
    "smartphone['ROM'] = rom\n",
    "smartphone['Display'] = display\n",
    "smartphone['Processor'] = processor\n",
    "smartphone['Front Camera'] = fcamera\n",
    "smartphone['Rear Camera'] = rcamera\n",
    "smartphone['Battery'] = battery\n",
    "smartphone['Product URL'] = prd_url\n",
    "smartphone"
   ]
  },
  {
   "cell_type": "markdown",
   "metadata": {},
   "source": [
    "# -----------------------------------QUESTION 5------------------------------------------------"
   ]
  },
  {
   "cell_type": "code",
   "execution_count": 224,
   "metadata": {},
   "outputs": [],
   "source": [
    "driver.get('https://www.google.com/maps/@18.8154265,76.7751434,7z')"
   ]
  },
  {
   "cell_type": "code",
   "execution_count": 226,
   "metadata": {},
   "outputs": [],
   "source": [
    "search = driver.find_element_by_xpath('//*[@id=\"searchboxinput\"]')\n",
    "search.send_keys('Pune')\n",
    "search.send_keys(Keys.ENTER)"
   ]
  },
  {
   "cell_type": "markdown",
   "metadata": {},
   "source": [
    "# -----------------------------------------QUESTION 6-----------------------------------"
   ]
  },
  {
   "cell_type": "code",
   "execution_count": null,
   "metadata": {},
   "outputs": [],
   "source": [
    "problem getting in further qestions."
   ]
  }
 ],
 "metadata": {
  "kernelspec": {
   "display_name": "Python 3",
   "language": "python",
   "name": "python3"
  },
  "language_info": {
   "codemirror_mode": {
    "name": "ipython",
    "version": 3
   },
   "file_extension": ".py",
   "mimetype": "text/x-python",
   "name": "python",
   "nbconvert_exporter": "python",
   "pygments_lexer": "ipython3",
   "version": "3.7.9"
  }
 },
 "nbformat": 4,
 "nbformat_minor": 4
}
