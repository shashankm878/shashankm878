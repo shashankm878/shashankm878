{
 "cells": [
  {
   "cell_type": "code",
   "execution_count": 243,
   "metadata": {},
   "outputs": [],
   "source": [
    "from selenium import webdriver\n",
    "import pandas as pd\n",
    "import numpy as np"
   ]
  },
  {
   "cell_type": "code",
   "execution_count": 244,
   "metadata": {},
   "outputs": [],
   "source": [
    "chrome_driver_path = \"C:\\devlopement\\chromedriver.exe\""
   ]
  },
  {
   "cell_type": "code",
   "execution_count": 245,
   "metadata": {},
   "outputs": [],
   "source": [
    "driver = webdriver.Chrome(executable_path=chrome_driver_path)"
   ]
  },
  {
   "cell_type": "markdown",
   "metadata": {},
   "source": [
    "# ----------------------------------------------Question 1-------------------------------------------------"
   ]
  },
  {
   "cell_type": "code",
   "execution_count": 4,
   "metadata": {},
   "outputs": [],
   "source": [
    "driver.get(\"https://www.naukri.com/\")"
   ]
  },
  {
   "cell_type": "code",
   "execution_count": 5,
   "metadata": {},
   "outputs": [],
   "source": [
    "job = driver.find_element_by_id('qsb-keyword-sugg')\n",
    "job.send_keys('Data Analyst')"
   ]
  },
  {
   "cell_type": "code",
   "execution_count": 7,
   "metadata": {},
   "outputs": [],
   "source": [
    "loc = driver.find_element_by_id('qsb-location-sugg')\n",
    "loc.send_keys('Banglore')"
   ]
  },
  {
   "cell_type": "code",
   "execution_count": 8,
   "metadata": {},
   "outputs": [],
   "source": [
    "btn = driver.find_element_by_xpath('//*[@id=\"root\"]/div[3]/div[2]/section/div/form/div[3]/button')\n",
    "btn.click()"
   ]
  },
  {
   "cell_type": "code",
   "execution_count": 38,
   "metadata": {},
   "outputs": [],
   "source": [
    "titles = driver.find_elements_by_xpath('//a[@class=\"title fw500 ellipsis\"]')"
   ]
  },
  {
   "cell_type": "code",
   "execution_count": 14,
   "metadata": {},
   "outputs": [
    {
     "data": {
      "text/plain": [
       "['Data Scientist / Data Analyst -Business Analyst',\n",
       " 'Senior Data Analyst - Data Lineage',\n",
       " 'Data analysts',\n",
       " 'Data Analyst - Informatica MDM',\n",
       " 'Excel VBA Jobs Bangalore | VBA data analyst Jobs',\n",
       " 'Data analysts',\n",
       " 'Business Data Analyst',\n",
       " 'Data Analyst',\n",
       " 'Data Analyst',\n",
       " 'Data Analyst - Category Demand Management (Revenue & Growth)']"
      ]
     },
     "execution_count": 14,
     "metadata": {},
     "output_type": "execute_result"
    }
   ],
   "source": [
    "titles_list = []\n",
    "for i in titles:\n",
    "    titles_list.append(i.text)\n",
    "\n",
    "titles_list = titles_list[:10] \n",
    "titles_list"
   ]
  },
  {
   "cell_type": "code",
   "execution_count": 39,
   "metadata": {},
   "outputs": [],
   "source": [
    "company = driver.find_elements_by_xpath(\"//div[@class = 'mt-7 companyInfo subheading lh16']\")"
   ]
  },
  {
   "cell_type": "code",
   "execution_count": 17,
   "metadata": {},
   "outputs": [
    {
     "data": {
      "text/plain": [
       "['Inflexion Analytix Private Limited',\n",
       " 'Opex Global Services',\n",
       " 'IBM India Pvt. Limited4.0(9831 Reviews)',\n",
       " 'Shell India Markets Private Limited4.1(665 Reviews)',\n",
       " 'Mind Circus Innovation',\n",
       " 'IBM India Pvt. Limited4.0(9831 Reviews)',\n",
       " 'dotSolved India Pvt., Ltd.',\n",
       " 'Myntra Designs Pvt. Ltd.4.1(761 Reviews)',\n",
       " 'Myntra Designs Pvt. Ltd.4.1(761 Reviews)',\n",
       " 'Myntra Designs Pvt. Ltd.4.1(761 Reviews)']"
      ]
     },
     "execution_count": 17,
     "metadata": {},
     "output_type": "execute_result"
    }
   ],
   "source": [
    "company_list = []\n",
    "for i in company:\n",
    "    company_list.append(i.text.replace('\\n',''))\n",
    "company_list = company_list[:10]\n",
    "company_list"
   ]
  },
  {
   "cell_type": "code",
   "execution_count": 33,
   "metadata": {},
   "outputs": [
    {
     "data": {
      "text/plain": [
       "60"
      ]
     },
     "execution_count": 33,
     "metadata": {},
     "output_type": "execute_result"
    }
   ],
   "source": [
    "exp = driver.find_elements_by_xpath(\"//span[@class = 'ellipsis fleft fs12 lh16']\")\n",
    "exp_list = []\n",
    "for i in exp:\n",
    "    exp_list.append(i.text)\n",
    "len(exp_list)"
   ]
  },
  {
   "cell_type": "code",
   "execution_count": 40,
   "metadata": {},
   "outputs": [],
   "source": [
    "experience = exp_list[0:30:3]\n",
    "location = exp_list[2:32:3]"
   ]
  },
  {
   "cell_type": "code",
   "execution_count": 42,
   "metadata": {},
   "outputs": [
    {
     "data": {
      "text/html": [
       "<div>\n",
       "<style scoped>\n",
       "    .dataframe tbody tr th:only-of-type {\n",
       "        vertical-align: middle;\n",
       "    }\n",
       "\n",
       "    .dataframe tbody tr th {\n",
       "        vertical-align: top;\n",
       "    }\n",
       "\n",
       "    .dataframe thead th {\n",
       "        text-align: right;\n",
       "    }\n",
       "</style>\n",
       "<table border=\"1\" class=\"dataframe\">\n",
       "  <thead>\n",
       "    <tr style=\"text-align: right;\">\n",
       "      <th></th>\n",
       "      <th>Position</th>\n",
       "      <th>Company</th>\n",
       "      <th>Experience</th>\n",
       "      <th>Location /s</th>\n",
       "    </tr>\n",
       "  </thead>\n",
       "  <tbody>\n",
       "    <tr>\n",
       "      <th>0</th>\n",
       "      <td>Data Scientist / Data Analyst -Business Analyst</td>\n",
       "      <td>Inflexion Analytix Private Limited</td>\n",
       "      <td>0-3 Yrs</td>\n",
       "      <td>Mumbai, Hyderabad/Secunderabad, Pune, Gurgaon/...</td>\n",
       "    </tr>\n",
       "    <tr>\n",
       "      <th>1</th>\n",
       "      <td>Senior Data Analyst - Data Lineage</td>\n",
       "      <td>Opex Global Services</td>\n",
       "      <td>5-10 Yrs</td>\n",
       "      <td>Bangalore/Bengaluru</td>\n",
       "    </tr>\n",
       "    <tr>\n",
       "      <th>2</th>\n",
       "      <td>Data analysts</td>\n",
       "      <td>IBM India Pvt. Limited4.0(9831 Reviews)</td>\n",
       "      <td>5-6 Yrs</td>\n",
       "      <td>Bengaluru/Bangalore</td>\n",
       "    </tr>\n",
       "    <tr>\n",
       "      <th>3</th>\n",
       "      <td>Data Analyst - Informatica MDM</td>\n",
       "      <td>Shell India Markets Private Limited4.1(665 Rev...</td>\n",
       "      <td>6-9 Yrs</td>\n",
       "      <td>Bangalore/Bengaluru</td>\n",
       "    </tr>\n",
       "    <tr>\n",
       "      <th>4</th>\n",
       "      <td>Excel VBA Jobs Bangalore | VBA data analyst Jobs</td>\n",
       "      <td>Mind Circus Innovation</td>\n",
       "      <td>0-1 Yrs</td>\n",
       "      <td>Mysore/Mysuru, Coimbatore, Bangalore/Bengaluru</td>\n",
       "    </tr>\n",
       "    <tr>\n",
       "      <th>5</th>\n",
       "      <td>Data analysts</td>\n",
       "      <td>IBM India Pvt. Limited4.0(9831 Reviews)</td>\n",
       "      <td>3-5 Yrs</td>\n",
       "      <td>Bangalore/Bengaluru</td>\n",
       "    </tr>\n",
       "    <tr>\n",
       "      <th>6</th>\n",
       "      <td>Business Data Analyst</td>\n",
       "      <td>dotSolved India Pvt., Ltd.</td>\n",
       "      <td>9-13 Yrs</td>\n",
       "      <td>Chennai, Bangalore/Bengaluru, Mumbai (All Areas)</td>\n",
       "    </tr>\n",
       "    <tr>\n",
       "      <th>7</th>\n",
       "      <td>Data Analyst</td>\n",
       "      <td>Myntra Designs Pvt. Ltd.4.1(761 Reviews)</td>\n",
       "      <td>3-5 Yrs</td>\n",
       "      <td>Bangalore/Bengaluru</td>\n",
       "    </tr>\n",
       "    <tr>\n",
       "      <th>8</th>\n",
       "      <td>Data Analyst</td>\n",
       "      <td>Myntra Designs Pvt. Ltd.4.1(761 Reviews)</td>\n",
       "      <td>3-8 Yrs</td>\n",
       "      <td>Bangalore/Bengaluru</td>\n",
       "    </tr>\n",
       "    <tr>\n",
       "      <th>9</th>\n",
       "      <td>Data Analyst - Category Demand Management (Rev...</td>\n",
       "      <td>Myntra Designs Pvt. Ltd.4.1(761 Reviews)</td>\n",
       "      <td>1-4 Yrs</td>\n",
       "      <td>Bangalore/Bengaluru</td>\n",
       "    </tr>\n",
       "  </tbody>\n",
       "</table>\n",
       "</div>"
      ],
      "text/plain": [
       "                                            Position  \\\n",
       "0    Data Scientist / Data Analyst -Business Analyst   \n",
       "1                 Senior Data Analyst - Data Lineage   \n",
       "2                                      Data analysts   \n",
       "3                     Data Analyst - Informatica MDM   \n",
       "4   Excel VBA Jobs Bangalore | VBA data analyst Jobs   \n",
       "5                                      Data analysts   \n",
       "6                              Business Data Analyst   \n",
       "7                                       Data Analyst   \n",
       "8                                       Data Analyst   \n",
       "9  Data Analyst - Category Demand Management (Rev...   \n",
       "\n",
       "                                             Company Experience  \\\n",
       "0                 Inflexion Analytix Private Limited    0-3 Yrs   \n",
       "1                               Opex Global Services   5-10 Yrs   \n",
       "2            IBM India Pvt. Limited4.0(9831 Reviews)    5-6 Yrs   \n",
       "3  Shell India Markets Private Limited4.1(665 Rev...    6-9 Yrs   \n",
       "4                             Mind Circus Innovation    0-1 Yrs   \n",
       "5            IBM India Pvt. Limited4.0(9831 Reviews)    3-5 Yrs   \n",
       "6                         dotSolved India Pvt., Ltd.   9-13 Yrs   \n",
       "7           Myntra Designs Pvt. Ltd.4.1(761 Reviews)    3-5 Yrs   \n",
       "8           Myntra Designs Pvt. Ltd.4.1(761 Reviews)    3-8 Yrs   \n",
       "9           Myntra Designs Pvt. Ltd.4.1(761 Reviews)    1-4 Yrs   \n",
       "\n",
       "                                         Location /s  \n",
       "0  Mumbai, Hyderabad/Secunderabad, Pune, Gurgaon/...  \n",
       "1                                Bangalore/Bengaluru  \n",
       "2                                Bengaluru/Bangalore  \n",
       "3                                Bangalore/Bengaluru  \n",
       "4     Mysore/Mysuru, Coimbatore, Bangalore/Bengaluru  \n",
       "5                                Bangalore/Bengaluru  \n",
       "6   Chennai, Bangalore/Bengaluru, Mumbai (All Areas)  \n",
       "7                                Bangalore/Bengaluru  \n",
       "8                                Bangalore/Bengaluru  \n",
       "9                                Bangalore/Bengaluru  "
      ]
     },
     "execution_count": 42,
     "metadata": {},
     "output_type": "execute_result"
    }
   ],
   "source": [
    "job_df = pd.DataFrame()\n",
    "job_df['Position'] = titles_list\n",
    "job_df['Company'] = company_list\n",
    "job_df['Experience'] = experience\n",
    "job_df['Location /s'] = location\n",
    "job_df"
   ]
  },
  {
   "cell_type": "markdown",
   "metadata": {},
   "source": [
    "# -------------------------------------------Question 2----------------------------------------------------"
   ]
  },
  {
   "cell_type": "code",
   "execution_count": 60,
   "metadata": {},
   "outputs": [],
   "source": [
    "from selenium.common.exceptions import NoSuchElementException\n",
    "import time"
   ]
  },
  {
   "cell_type": "code",
   "execution_count": 61,
   "metadata": {},
   "outputs": [],
   "source": [
    "driver.get(\"https://www.naukri.com/\")"
   ]
  },
  {
   "cell_type": "code",
   "execution_count": 62,
   "metadata": {},
   "outputs": [],
   "source": [
    "job = driver.find_element_by_id('qsb-keyword-sugg')\n",
    "job.send_keys('Data Scientist')"
   ]
  },
  {
   "cell_type": "code",
   "execution_count": 63,
   "metadata": {},
   "outputs": [],
   "source": [
    "loc = driver.find_element_by_id('qsb-location-sugg')\n",
    "loc.send_keys('Banglore')"
   ]
  },
  {
   "cell_type": "code",
   "execution_count": 64,
   "metadata": {},
   "outputs": [],
   "source": [
    "btn = driver.find_element_by_xpath('//*[@id=\"root\"]/div[3]/div[2]/section/div/form/div[3]/button')\n",
    "btn.click()"
   ]
  },
  {
   "cell_type": "code",
   "execution_count": 50,
   "metadata": {},
   "outputs": [
    {
     "data": {
      "text/plain": [
       "['Data Scientist / Data Analyst -Business Analyst',\n",
       " 'Senior Data Scientist',\n",
       " 'Senior Data Scientist',\n",
       " 'VP - Sr. Data Scientist For Morgan Stanley, Bangalore',\n",
       " 'Lead Data Scientist',\n",
       " 'Lead Data Scientist',\n",
       " 'data scientist',\n",
       " 'Data analytics / Data scientist intern (work from Home)',\n",
       " 'Data Scientist - IBM Garage',\n",
       " 'Digital Enterprise Architect (Data Scientist)']"
      ]
     },
     "execution_count": 50,
     "metadata": {},
     "output_type": "execute_result"
    }
   ],
   "source": [
    "job_title = driver.find_elements_by_xpath(\"//a[@class = 'title fw500 ellipsis']\")\n",
    "job_title_list = []\n",
    "for i in job_title:\n",
    "    job_title_list.append(i.text)\n",
    "job_title_list = job_title_list[:10]\n",
    "job_title_list"
   ]
  },
  {
   "cell_type": "code",
   "execution_count": 51,
   "metadata": {},
   "outputs": [
    {
     "data": {
      "text/plain": [
       "['Inflexion Analytix Private Limited',\n",
       " 'RedBus4.0(85 Reviews)',\n",
       " 'Fractal Analytics3.9(94 Reviews)',\n",
       " 'Morgan Stanley Advantage Services3.6(263 Reviews)',\n",
       " 'FICO3.8(59 Reviews)',\n",
       " 'Fractal Analytics3.9(94 Reviews)',\n",
       " 'Global Talent Pool',\n",
       " 'TalkValley LLC',\n",
       " 'IBM India Pvt. Limited4.0(9831 Reviews)',\n",
       " 'Mphasis Limited3.7(2955 Reviews)']"
      ]
     },
     "execution_count": 51,
     "metadata": {},
     "output_type": "execute_result"
    }
   ],
   "source": [
    "company = driver.find_elements_by_xpath(\"//div[@class = 'mt-7 companyInfo subheading lh16']\")\n",
    "comp_list = []\n",
    "for i in company:\n",
    "    comp_list.append(i.text.replace('\\n',''))\n",
    "comp_list = comp_list[:10]\n",
    "comp_list"
   ]
  },
  {
   "cell_type": "code",
   "execution_count": 54,
   "metadata": {},
   "outputs": [
    {
     "data": {
      "text/plain": [
       "['Mumbai, Hyderabad/Secunderabad, Pune, Gurgaon/Gurugram, Chennai, Bangalore/Bengaluru',\n",
       " 'Bangalore/Bengaluru',\n",
       " 'Mumbai, Gurgaon/Gurugram, Bangalore/Bengaluru',\n",
       " 'Bangalore/Bengaluru',\n",
       " 'Bangalore/Bengaluru',\n",
       " 'Gurgaon/Gurugram, Bangalore/Bengaluru, Mumbai (All Areas)',\n",
       " 'Bangalore/Bengaluru',\n",
       " 'Kolkata, Bangalore/Bengaluru, Delhi / NCR',\n",
       " 'Bengaluru/Bangalore',\n",
       " 'Bangalore/Bengaluru']"
      ]
     },
     "execution_count": 54,
     "metadata": {},
     "output_type": "execute_result"
    }
   ],
   "source": [
    "loc = driver.find_elements_by_xpath('//li[@class=\"fleft grey-text br2 placeHolderLi location\"]')\n",
    "loc_list = []\n",
    "for i in loc:\n",
    "    loc_list.append(i.text)\n",
    "loc_list = loc_list[:10]\n",
    "loc_list"
   ]
  },
  {
   "cell_type": "code",
   "execution_count": 65,
   "metadata": {},
   "outputs": [],
   "source": [
    "page_urls = driver.find_elements_by_xpath(\"//a[@class = 'title fw500 ellipsis']\")\n",
    "urls=[]\n",
    "for i in page_urls:\n",
    "    urls.append(i.get_attribute('href'))"
   ]
  },
  {
   "cell_type": "code",
   "execution_count": 66,
   "metadata": {},
   "outputs": [
    {
     "data": {
      "text/plain": [
       "['https://www.naukri.com/job-listings-data-scientist-data-analyst-business-analyst-inflexion-analytix-private-limited-mumbai-hyderabad-secunderabad-pune-gurgaon-gurugram-chennai-bangalore-bengaluru-0-to-3-years-100521000368?src=jobsearchDesk&sid=16238483537648562&xp=1&px=1',\n",
       " 'https://www.naukri.com/job-listings-senior-data-scientist-redbus-in-ibibo-group-private-limited-bangalore-bengaluru-5-to-8-years-090621001584?src=jobsearchDesk&sid=16238483537648562&xp=2&px=1',\n",
       " 'https://www.naukri.com/job-listings-immediate-opening-senior-data-scientist-redbus-in-ibibo-group-private-limited-bangalore-bengaluru-5-to-8-years-140621005528?src=jobsearchDesk&sid=16238483537648562&xp=3&px=1',\n",
       " 'https://www.naukri.com/job-listings-senior-data-scientist-fractal-analytics-ltd-mumbai-gurgaon-gurugram-bangalore-bengaluru-5-to-9-years-140621500966?src=jobsearchDesk&sid=16238483537648562&xp=4&px=1',\n",
       " 'https://www.naukri.com/job-listings-vp-sr-data-scientist-for-morgan-stanley-bangalore-morgan-stanley-advantage-services-pvt-ltd-bangalore-bengaluru-8-to-13-years-010621002131?src=jobsearchDesk&sid=16238483537648562&xp=5&px=1',\n",
       " 'https://www.naukri.com/job-listings-lead-data-scientist-fico-bangalore-bengaluru-6-to-11-years-090621500701?src=jobsearchDesk&sid=16238483537648562&xp=6&px=1',\n",
       " 'https://www.naukri.com/job-listings-lead-data-scientist-fractal-analytics-pvt-ltd-gurgaon-gurugram-bangalore-bengaluru-mumbai-all-areas-10-to-15-years-110621003012?src=jobsearchDesk&sid=16238483537648562&xp=7&px=1',\n",
       " 'https://www.naukri.com/job-listings-data-analytics-data-scientist-intern-work-from-home-talkvalley-llc-kolkata-bangalore-bengaluru-delhi-ncr-0-to-5-years-050621000128?src=jobsearchDesk&sid=16238483537648562&xp=8&px=1',\n",
       " 'https://www.naukri.com/job-listings-data-scientist-ibm-garage-ibm-india-pvt-limited-bengaluru-bangalore-2-to-6-years-080621904251?src=jobsearchDesk&sid=16238483537648562&xp=9&px=1',\n",
       " 'https://www.naukri.com/job-listings-digital-enterprise-architect-data-scientist-mphasis-limited-bangalore-bengaluru-10-to-13-years-030621902728?src=jobsearchDesk&sid=16238483537648562&xp=10&px=1',\n",
       " 'https://www.naukri.com/job-listings-data-scientist-ibm-india-pvt-limited-bangalore-bengaluru-3-to-6-years-020621905994?src=jobsearchDesk&sid=16238483537648562&xp=11&px=1',\n",
       " 'https://www.naukri.com/job-listings-data-scientist-ibm-india-pvt-limited-bangalore-bengaluru-3-to-6-years-030621907010?src=jobsearchDesk&sid=16238483537648562&xp=12&px=1',\n",
       " 'https://www.naukri.com/job-listings-data-scientist-oracle-india-pvt-ltd-noida-bangalore-bengaluru-5-to-9-years-010621004567?src=jobsearchDesk&sid=16238483537648562&xp=13&px=1',\n",
       " 'https://www.naukri.com/job-listings-senior-data-scientist-walmart-labs-bangalore-bengaluru-8-to-10-years-020621500403?src=jobsearchDesk&sid=16238483537648562&xp=14&px=1',\n",
       " 'https://www.naukri.com/job-listings-senior-data-scientist-execboardinasia-bangalore-bengaluru-5-to-10-years-030621500359?src=jobsearchDesk&sid=16238483537648562&xp=15&px=1',\n",
       " 'https://www.naukri.com/job-listings-senior-data-scientist-with-python-next-bee-corporation-kolkata-chandigarh-hyderabad-secunderabad-pune-ahmedabad-chennai-bangalore-bengaluru-delhi-ncr-mumbai-all-areas-6-to-10-years-140621002374?src=jobsearchDesk&sid=16238483537648562&xp=16&px=1',\n",
       " 'https://www.naukri.com/job-listings-senior-data-scientist-publicis-groupe-bangalore-bengaluru-2-to-5-years-140621501233?src=jobsearchDesk&sid=16238483537648562&xp=17&px=1',\n",
       " 'https://www.naukri.com/job-listings-sr-data-scientist-intelligent-industrial-internet-systems-pvt-ltd-bangalore-bengaluru-mumbai-all-areas-3-to-6-years-030621003155?src=jobsearchDesk&sid=16238483537648562&xp=18&px=1',\n",
       " 'https://www.naukri.com/job-listings-data-scientist-visualization-aruba-networks-bangalore-bengaluru-4-to-8-years-090621501101?src=jobsearchDesk&sid=16238483537648562&xp=19&px=1',\n",
       " 'https://www.naukri.com/job-listings-data-scientist-fractal-analytics-ltd-mumbai-gurgaon-gurugram-bangalore-bengaluru-3-to-7-years-070621501457?src=jobsearchDesk&sid=16238483537648562&xp=20&px=1']"
      ]
     },
     "execution_count": 66,
     "metadata": {},
     "output_type": "execute_result"
    }
   ],
   "source": [
    "urls"
   ]
  },
  {
   "cell_type": "code",
   "execution_count": 79,
   "metadata": {},
   "outputs": [],
   "source": [
    "# my solution\n",
    "job_desc_list = []   \n",
    "for i in urls[:10]:\n",
    "    driver.get(i)\n",
    "    job_desc = driver.find_elements_by_class_name(\"job-desc\")\n",
    "    for j in job_desc:\n",
    "        job_desc_list.append(j.text.replace('\\n',' '))"
   ]
  },
  {
   "cell_type": "code",
   "execution_count": 81,
   "metadata": {},
   "outputs": [
    {
     "data": {
      "text/plain": [
       "10"
      ]
     },
     "execution_count": 81,
     "metadata": {},
     "output_type": "execute_result"
    }
   ],
   "source": [
    "len(job_desc_list)"
   ]
  },
  {
   "cell_type": "code",
   "execution_count": 77,
   "metadata": {},
   "outputs": [
    {
     "data": {
      "text/html": [
       "<div>\n",
       "<style scoped>\n",
       "    .dataframe tbody tr th:only-of-type {\n",
       "        vertical-align: middle;\n",
       "    }\n",
       "\n",
       "    .dataframe tbody tr th {\n",
       "        vertical-align: top;\n",
       "    }\n",
       "\n",
       "    .dataframe thead th {\n",
       "        text-align: right;\n",
       "    }\n",
       "</style>\n",
       "<table border=\"1\" class=\"dataframe\">\n",
       "  <thead>\n",
       "    <tr style=\"text-align: right;\">\n",
       "      <th></th>\n",
       "      <th>Job Title</th>\n",
       "      <th>Company</th>\n",
       "      <th>Location</th>\n",
       "      <th>Job Description</th>\n",
       "    </tr>\n",
       "  </thead>\n",
       "  <tbody>\n",
       "    <tr>\n",
       "      <th>0</th>\n",
       "      <td>Data Scientist / Data Analyst -Business Analyst</td>\n",
       "      <td>Inflexion Analytix Private Limited</td>\n",
       "      <td>Mumbai, Hyderabad/Secunderabad, Pune, Gurgaon/...</td>\n",
       "      <td>Job description Job Role : Data Scientist/Data...</td>\n",
       "    </tr>\n",
       "    <tr>\n",
       "      <th>1</th>\n",
       "      <td>Senior Data Scientist</td>\n",
       "      <td>RedBus4.0(85 Reviews)</td>\n",
       "      <td>Bangalore/Bengaluru</td>\n",
       "      <td>SENIOR DATA SCIENTIST from 5 to 8 year(s) of E...</td>\n",
       "    </tr>\n",
       "    <tr>\n",
       "      <th>2</th>\n",
       "      <td>Senior Data Scientist</td>\n",
       "      <td>Fractal Analytics3.9(94 Reviews)</td>\n",
       "      <td>Mumbai, Gurgaon/Gurugram, Bangalore/Bengaluru</td>\n",
       "      <td>IMMEDIATE JOB OPENING – SENIOR DATA SCIENTIST ...</td>\n",
       "    </tr>\n",
       "    <tr>\n",
       "      <th>3</th>\n",
       "      <td>VP - Sr. Data Scientist For Morgan Stanley, Ba...</td>\n",
       "      <td>Morgan Stanley Advantage Services3.6(263 Reviews)</td>\n",
       "      <td>Bangalore/Bengaluru</td>\n",
       "      <td>Job description Serve as primary technical lea...</td>\n",
       "    </tr>\n",
       "    <tr>\n",
       "      <th>4</th>\n",
       "      <td>Lead Data Scientist</td>\n",
       "      <td>FICO3.8(59 Reviews)</td>\n",
       "      <td>Bangalore/Bengaluru</td>\n",
       "      <td>Job description About Us Morgan Stanley is a l...</td>\n",
       "    </tr>\n",
       "    <tr>\n",
       "      <th>5</th>\n",
       "      <td>Lead Data Scientist</td>\n",
       "      <td>Fractal Analytics3.9(94 Reviews)</td>\n",
       "      <td>Gurgaon/Gurugram, Bangalore/Bengaluru, Mumbai ...</td>\n",
       "      <td>Job description Job Summary The candidate shou...</td>\n",
       "    </tr>\n",
       "    <tr>\n",
       "      <th>6</th>\n",
       "      <td>data scientist</td>\n",
       "      <td>Global Talent Pool</td>\n",
       "      <td>Bangalore/Bengaluru</td>\n",
       "      <td>Job description Position Description: The Arti...</td>\n",
       "    </tr>\n",
       "    <tr>\n",
       "      <th>7</th>\n",
       "      <td>Data analytics / Data scientist intern (work f...</td>\n",
       "      <td>TalkValley LLC</td>\n",
       "      <td>Kolkata, Bangalore/Bengaluru, Delhi / NCR</td>\n",
       "      <td>Job description We are a group of tenured prof...</td>\n",
       "    </tr>\n",
       "    <tr>\n",
       "      <th>8</th>\n",
       "      <td>Data Scientist - IBM Garage</td>\n",
       "      <td>IBM India Pvt. Limited4.0(9831 Reviews)</td>\n",
       "      <td>Bengaluru/Bangalore</td>\n",
       "      <td>DATA SCIENTIST – IBM GARAGE from 2 to 6 year(s...</td>\n",
       "    </tr>\n",
       "    <tr>\n",
       "      <th>9</th>\n",
       "      <td>Digital Enterprise Architect (Data Scientist)</td>\n",
       "      <td>Mphasis Limited3.7(2955 Reviews)</td>\n",
       "      <td>Bangalore/Bengaluru</td>\n",
       "      <td>DIGITAL ENTERPRISE ARCHITECT (DATA SCIENTIST) ...</td>\n",
       "    </tr>\n",
       "  </tbody>\n",
       "</table>\n",
       "</div>"
      ],
      "text/plain": [
       "                                           Job Title  \\\n",
       "0    Data Scientist / Data Analyst -Business Analyst   \n",
       "1                              Senior Data Scientist   \n",
       "2                              Senior Data Scientist   \n",
       "3  VP - Sr. Data Scientist For Morgan Stanley, Ba...   \n",
       "4                                Lead Data Scientist   \n",
       "5                                Lead Data Scientist   \n",
       "6                                     data scientist   \n",
       "7  Data analytics / Data scientist intern (work f...   \n",
       "8                        Data Scientist - IBM Garage   \n",
       "9      Digital Enterprise Architect (Data Scientist)   \n",
       "\n",
       "                                             Company  \\\n",
       "0                 Inflexion Analytix Private Limited   \n",
       "1                              RedBus4.0(85 Reviews)   \n",
       "2                   Fractal Analytics3.9(94 Reviews)   \n",
       "3  Morgan Stanley Advantage Services3.6(263 Reviews)   \n",
       "4                                FICO3.8(59 Reviews)   \n",
       "5                   Fractal Analytics3.9(94 Reviews)   \n",
       "6                                 Global Talent Pool   \n",
       "7                                     TalkValley LLC   \n",
       "8            IBM India Pvt. Limited4.0(9831 Reviews)   \n",
       "9                   Mphasis Limited3.7(2955 Reviews)   \n",
       "\n",
       "                                            Location  \\\n",
       "0  Mumbai, Hyderabad/Secunderabad, Pune, Gurgaon/...   \n",
       "1                                Bangalore/Bengaluru   \n",
       "2      Mumbai, Gurgaon/Gurugram, Bangalore/Bengaluru   \n",
       "3                                Bangalore/Bengaluru   \n",
       "4                                Bangalore/Bengaluru   \n",
       "5  Gurgaon/Gurugram, Bangalore/Bengaluru, Mumbai ...   \n",
       "6                                Bangalore/Bengaluru   \n",
       "7          Kolkata, Bangalore/Bengaluru, Delhi / NCR   \n",
       "8                                Bengaluru/Bangalore   \n",
       "9                                Bangalore/Bengaluru   \n",
       "\n",
       "                                     Job Description  \n",
       "0  Job description Job Role : Data Scientist/Data...  \n",
       "1  SENIOR DATA SCIENTIST from 5 to 8 year(s) of E...  \n",
       "2  IMMEDIATE JOB OPENING – SENIOR DATA SCIENTIST ...  \n",
       "3  Job description Serve as primary technical lea...  \n",
       "4  Job description About Us Morgan Stanley is a l...  \n",
       "5  Job description Job Summary The candidate shou...  \n",
       "6  Job description Position Description: The Arti...  \n",
       "7  Job description We are a group of tenured prof...  \n",
       "8  DATA SCIENTIST – IBM GARAGE from 2 to 6 year(s...  \n",
       "9  DIGITAL ENTERPRISE ARCHITECT (DATA SCIENTIST) ...  "
      ]
     },
     "execution_count": 77,
     "metadata": {},
     "output_type": "execute_result"
    }
   ],
   "source": [
    "job_desc_df = pd.DataFrame()\n",
    "job_desc_df['Job Title'] = job_title_list\n",
    "job_desc_df['Company'] = comp_list\n",
    "job_desc_df['Location'] = loc_list\n",
    "job_desc_df['Job Description'] = job_desc_list\n",
    "\n",
    "job_desc_df"
   ]
  },
  {
   "cell_type": "code",
   "execution_count": 86,
   "metadata": {},
   "outputs": [],
   "source": [
    "# provided solution\n",
    "position = []\n",
    "job_description = []\n",
    "for i in urls[:10]:\n",
    "    driver.get(i)\n",
    "    time.sleep(3)\n",
    "    # fetching job title\n",
    "    try:\n",
    "        job = driver.find_element_by_xpath(\"//h1[@class = 'jd-header-title']\")\n",
    "        position.append(job.text)\n",
    "    except NoSuchElementException:\n",
    "        position.append('NA')\n",
    "    # fetching job description\n",
    "    try:\n",
    "        job_descr = driver.find_element_by_xpath(\"//section[@class = 'job-desc']\")\n",
    "        job_description.append(job_descr.text)\n",
    "    except NoSuchElementException:\n",
    "            job_description.append('NA')"
   ]
  },
  {
   "cell_type": "code",
   "execution_count": 87,
   "metadata": {},
   "outputs": [
    {
     "name": "stdout",
     "output_type": "stream",
     "text": [
      "10\n",
      "10\n",
      "10\n",
      "10\n"
     ]
    }
   ],
   "source": [
    "print(len(position))\n",
    "print(len(job_description))\n",
    "print(len(loc_list))\n",
    "print(len(comp_list))"
   ]
  },
  {
   "cell_type": "code",
   "execution_count": 89,
   "metadata": {},
   "outputs": [
    {
     "data": {
      "text/html": [
       "<div>\n",
       "<style scoped>\n",
       "    .dataframe tbody tr th:only-of-type {\n",
       "        vertical-align: middle;\n",
       "    }\n",
       "\n",
       "    .dataframe tbody tr th {\n",
       "        vertical-align: top;\n",
       "    }\n",
       "\n",
       "    .dataframe thead th {\n",
       "        text-align: right;\n",
       "    }\n",
       "</style>\n",
       "<table border=\"1\" class=\"dataframe\">\n",
       "  <thead>\n",
       "    <tr style=\"text-align: right;\">\n",
       "      <th></th>\n",
       "      <th>Job Title</th>\n",
       "      <th>Company</th>\n",
       "      <th>Location</th>\n",
       "      <th>Job Description</th>\n",
       "    </tr>\n",
       "  </thead>\n",
       "  <tbody>\n",
       "    <tr>\n",
       "      <th>0</th>\n",
       "      <td>Data Scientist / Data Analyst -Business Analyst</td>\n",
       "      <td>Inflexion Analytix Private Limited</td>\n",
       "      <td>Mumbai, Hyderabad/Secunderabad, Pune, Gurgaon/...</td>\n",
       "      <td>Job description\\nJob Role : Data Scientist/Dat...</td>\n",
       "    </tr>\n",
       "    <tr>\n",
       "      <th>1</th>\n",
       "      <td>NA</td>\n",
       "      <td>RedBus4.0(85 Reviews)</td>\n",
       "      <td>Bangalore/Bengaluru</td>\n",
       "      <td>NA</td>\n",
       "    </tr>\n",
       "    <tr>\n",
       "      <th>2</th>\n",
       "      <td>NA</td>\n",
       "      <td>Fractal Analytics3.9(94 Reviews)</td>\n",
       "      <td>Mumbai, Gurgaon/Gurugram, Bangalore/Bengaluru</td>\n",
       "      <td>NA</td>\n",
       "    </tr>\n",
       "    <tr>\n",
       "      <th>3</th>\n",
       "      <td>Senior Data Scientist</td>\n",
       "      <td>Morgan Stanley Advantage Services3.6(263 Reviews)</td>\n",
       "      <td>Bangalore/Bengaluru</td>\n",
       "      <td>Job description\\nServe as primary technical le...</td>\n",
       "    </tr>\n",
       "    <tr>\n",
       "      <th>4</th>\n",
       "      <td>VP - Sr. Data Scientist For Morgan Stanley, Ba...</td>\n",
       "      <td>FICO3.8(59 Reviews)</td>\n",
       "      <td>Bangalore/Bengaluru</td>\n",
       "      <td>Job description\\nAbout Us\\nMorgan Stanley is a...</td>\n",
       "    </tr>\n",
       "    <tr>\n",
       "      <th>5</th>\n",
       "      <td>Lead Data Scientist</td>\n",
       "      <td>Fractal Analytics3.9(94 Reviews)</td>\n",
       "      <td>Gurgaon/Gurugram, Bangalore/Bengaluru, Mumbai ...</td>\n",
       "      <td>Job description\\nJob Summary\\nThe candidate sh...</td>\n",
       "    </tr>\n",
       "    <tr>\n",
       "      <th>6</th>\n",
       "      <td>Lead Data Scientist</td>\n",
       "      <td>Global Talent Pool</td>\n",
       "      <td>Bangalore/Bengaluru</td>\n",
       "      <td>Job description\\nPosition Description:\\nThe Ar...</td>\n",
       "    </tr>\n",
       "    <tr>\n",
       "      <th>7</th>\n",
       "      <td>Data analytics / Data scientist intern (work f...</td>\n",
       "      <td>TalkValley LLC</td>\n",
       "      <td>Kolkata, Bangalore/Bengaluru, Delhi / NCR</td>\n",
       "      <td>Job description\\nWe are a group of tenured pro...</td>\n",
       "    </tr>\n",
       "    <tr>\n",
       "      <th>8</th>\n",
       "      <td>NA</td>\n",
       "      <td>IBM India Pvt. Limited4.0(9831 Reviews)</td>\n",
       "      <td>Bengaluru/Bangalore</td>\n",
       "      <td>NA</td>\n",
       "    </tr>\n",
       "    <tr>\n",
       "      <th>9</th>\n",
       "      <td>NA</td>\n",
       "      <td>Mphasis Limited3.7(2955 Reviews)</td>\n",
       "      <td>Bangalore/Bengaluru</td>\n",
       "      <td>NA</td>\n",
       "    </tr>\n",
       "  </tbody>\n",
       "</table>\n",
       "</div>"
      ],
      "text/plain": [
       "                                           Job Title  \\\n",
       "0    Data Scientist / Data Analyst -Business Analyst   \n",
       "1                                                 NA   \n",
       "2                                                 NA   \n",
       "3                              Senior Data Scientist   \n",
       "4  VP - Sr. Data Scientist For Morgan Stanley, Ba...   \n",
       "5                                Lead Data Scientist   \n",
       "6                                Lead Data Scientist   \n",
       "7  Data analytics / Data scientist intern (work f...   \n",
       "8                                                 NA   \n",
       "9                                                 NA   \n",
       "\n",
       "                                             Company  \\\n",
       "0                 Inflexion Analytix Private Limited   \n",
       "1                              RedBus4.0(85 Reviews)   \n",
       "2                   Fractal Analytics3.9(94 Reviews)   \n",
       "3  Morgan Stanley Advantage Services3.6(263 Reviews)   \n",
       "4                                FICO3.8(59 Reviews)   \n",
       "5                   Fractal Analytics3.9(94 Reviews)   \n",
       "6                                 Global Talent Pool   \n",
       "7                                     TalkValley LLC   \n",
       "8            IBM India Pvt. Limited4.0(9831 Reviews)   \n",
       "9                   Mphasis Limited3.7(2955 Reviews)   \n",
       "\n",
       "                                            Location  \\\n",
       "0  Mumbai, Hyderabad/Secunderabad, Pune, Gurgaon/...   \n",
       "1                                Bangalore/Bengaluru   \n",
       "2      Mumbai, Gurgaon/Gurugram, Bangalore/Bengaluru   \n",
       "3                                Bangalore/Bengaluru   \n",
       "4                                Bangalore/Bengaluru   \n",
       "5  Gurgaon/Gurugram, Bangalore/Bengaluru, Mumbai ...   \n",
       "6                                Bangalore/Bengaluru   \n",
       "7          Kolkata, Bangalore/Bengaluru, Delhi / NCR   \n",
       "8                                Bengaluru/Bangalore   \n",
       "9                                Bangalore/Bengaluru   \n",
       "\n",
       "                                     Job Description  \n",
       "0  Job description\\nJob Role : Data Scientist/Dat...  \n",
       "1                                                 NA  \n",
       "2                                                 NA  \n",
       "3  Job description\\nServe as primary technical le...  \n",
       "4  Job description\\nAbout Us\\nMorgan Stanley is a...  \n",
       "5  Job description\\nJob Summary\\nThe candidate sh...  \n",
       "6  Job description\\nPosition Description:\\nThe Ar...  \n",
       "7  Job description\\nWe are a group of tenured pro...  \n",
       "8                                                 NA  \n",
       "9                                                 NA  "
      ]
     },
     "execution_count": 89,
     "metadata": {},
     "output_type": "execute_result"
    }
   ],
   "source": [
    "job_desc_df2 = pd.DataFrame()\n",
    "job_desc_df2['Job Title'] = position\n",
    "job_desc_df2['Company'] = comp_list\n",
    "job_desc_df2['Location'] = loc_list\n",
    "job_desc_df2['Job Description'] = job_description\n",
    "\n",
    "job_desc_df2"
   ]
  },
  {
   "cell_type": "markdown",
   "metadata": {},
   "source": [
    "# ---------------------------------------- Question 3 -----------------------------------------------------"
   ]
  },
  {
   "cell_type": "code",
   "execution_count": 94,
   "metadata": {},
   "outputs": [],
   "source": [
    "driver.get(\"https://www.naukri.com/\")"
   ]
  },
  {
   "cell_type": "code",
   "execution_count": 95,
   "metadata": {},
   "outputs": [],
   "source": [
    "job = driver.find_element_by_id('qsb-keyword-sugg')\n",
    "job.send_keys('Data Analyst')"
   ]
  },
  {
   "cell_type": "code",
   "execution_count": 96,
   "metadata": {},
   "outputs": [],
   "source": [
    "btn = driver.find_element_by_xpath('//*[@id=\"root\"]/div[3]/div[2]/section/div/form/div[3]/button')\n",
    "btn.click()"
   ]
  },
  {
   "cell_type": "code",
   "execution_count": 98,
   "metadata": {},
   "outputs": [],
   "source": [
    "check_box = driver.find_element_by_xpath('/html/body/div[1]/div[3]/div[2]/section[1]/div[2]/div[2]/div[2]/div[2]/label/i')\n",
    "check_box.click()"
   ]
  },
  {
   "cell_type": "code",
   "execution_count": 99,
   "metadata": {},
   "outputs": [],
   "source": [
    "check_box2 = driver.find_element_by_xpath('/html/body/div[1]/div[3]/div[2]/section[1]/div[2]/div[3]/div[2]/div[2]/label/i')\n",
    "check_box2.click()"
   ]
  },
  {
   "cell_type": "code",
   "execution_count": 100,
   "metadata": {},
   "outputs": [
    {
     "data": {
      "text/plain": [
       "['Data Scientist / Data Analyst -Business Analyst',\n",
       " 'Data Analyst / Business Analytics / MIS Analyst - Fresher Jobs - MNC',\n",
       " 'Business Data Analyst',\n",
       " 'Senior Data Analyst',\n",
       " 'Business Analytics / Data Analyst / Fresher Analyst - Job - MNC',\n",
       " 'Urgent Opening For Data Analyst - Business Excellence Team- Noida',\n",
       " 'Job Opportunity For Talent Data Analyst - Cornerstone OnDemand',\n",
       " 'Data Analyst',\n",
       " 'Data Analyst',\n",
       " 'Data Analyst/Scientist Big Data, Statistical Techniques']"
      ]
     },
     "execution_count": 100,
     "metadata": {},
     "output_type": "execute_result"
    }
   ],
   "source": [
    "titles = driver.find_elements_by_xpath('//a[@class=\"title fw500 ellipsis\"]')\n",
    "titles_list = []\n",
    "for i in titles:\n",
    "    titles_list.append(i.text)\n",
    "\n",
    "titles_list = titles_list[:10] \n",
    "titles_list"
   ]
  },
  {
   "cell_type": "code",
   "execution_count": 101,
   "metadata": {},
   "outputs": [
    {
     "data": {
      "text/plain": [
       "['Inflexion Analytix Private Limited',\n",
       " 'GABA Consultancy services',\n",
       " 'Incuspaze Solutions Private Limited',\n",
       " 'Eli Research India Private limited3.3(398 Reviews)',\n",
       " 'GABA Consultancy services',\n",
       " 'Ison Bpo India Pvt Ltd3.6(478 Reviews)',\n",
       " 'Cornerstone OnDemand Services India Pvt Ltd4.4(14 Reviews)',\n",
       " 'Eli Research India Private limited3.3(398 Reviews)',\n",
       " 'Metrichive Private Limited',\n",
       " 'The Search House (A Div of JSD Search House Pvt. L td.)2.3(4 Reviews)']"
      ]
     },
     "execution_count": 101,
     "metadata": {},
     "output_type": "execute_result"
    }
   ],
   "source": [
    "company = driver.find_elements_by_xpath(\"//div[@class = 'mt-7 companyInfo subheading lh16']\")\n",
    "company_list = []\n",
    "for i in company:\n",
    "    company_list.append(i.text.replace('\\n',''))\n",
    "company_list = company_list[:10]\n",
    "company_list"
   ]
  },
  {
   "cell_type": "code",
   "execution_count": 102,
   "metadata": {},
   "outputs": [
    {
     "data": {
      "text/plain": [
       "60"
      ]
     },
     "execution_count": 102,
     "metadata": {},
     "output_type": "execute_result"
    }
   ],
   "source": [
    "exp = driver.find_elements_by_xpath(\"//span[@class = 'ellipsis fleft fs12 lh16']\")\n",
    "exp_list = []\n",
    "for i in exp:\n",
    "    exp_list.append(i.text)\n",
    "len(exp_list)"
   ]
  },
  {
   "cell_type": "code",
   "execution_count": 103,
   "metadata": {},
   "outputs": [],
   "source": [
    "experience = exp_list[0:30:3]\n",
    "location = exp_list[2:32:3]"
   ]
  },
  {
   "cell_type": "code",
   "execution_count": 106,
   "metadata": {},
   "outputs": [
    {
     "data": {
      "text/html": [
       "<div>\n",
       "<style scoped>\n",
       "    .dataframe tbody tr th:only-of-type {\n",
       "        vertical-align: middle;\n",
       "    }\n",
       "\n",
       "    .dataframe tbody tr th {\n",
       "        vertical-align: top;\n",
       "    }\n",
       "\n",
       "    .dataframe thead th {\n",
       "        text-align: right;\n",
       "    }\n",
       "</style>\n",
       "<table border=\"1\" class=\"dataframe\">\n",
       "  <thead>\n",
       "    <tr style=\"text-align: right;\">\n",
       "      <th></th>\n",
       "      <th>Job Title</th>\n",
       "      <th>Company</th>\n",
       "      <th>Experience</th>\n",
       "      <th>Location /s</th>\n",
       "    </tr>\n",
       "  </thead>\n",
       "  <tbody>\n",
       "    <tr>\n",
       "      <th>0</th>\n",
       "      <td>Data Scientist / Data Analyst -Business Analyst</td>\n",
       "      <td>Inflexion Analytix Private Limited</td>\n",
       "      <td>0-3 Yrs</td>\n",
       "      <td>Mumbai, Hyderabad/Secunderabad, Pune, Gurgaon/...</td>\n",
       "    </tr>\n",
       "    <tr>\n",
       "      <th>1</th>\n",
       "      <td>Data Analyst / Business Analytics / MIS Analys...</td>\n",
       "      <td>GABA Consultancy services</td>\n",
       "      <td>0-5 Yrs</td>\n",
       "      <td>Noida, Gurgaon/Gurugram, Delhi / NCR</td>\n",
       "    </tr>\n",
       "    <tr>\n",
       "      <th>2</th>\n",
       "      <td>Business Data Analyst</td>\n",
       "      <td>Incuspaze Solutions Private Limited</td>\n",
       "      <td>3-4 Yrs</td>\n",
       "      <td>Gurgaon/Gurugram</td>\n",
       "    </tr>\n",
       "    <tr>\n",
       "      <th>3</th>\n",
       "      <td>Senior Data Analyst</td>\n",
       "      <td>Eli Research India Private limited3.3(398 Revi...</td>\n",
       "      <td>3-5 Yrs</td>\n",
       "      <td>Hyderabad/Secunderabad, Faridabad</td>\n",
       "    </tr>\n",
       "    <tr>\n",
       "      <th>4</th>\n",
       "      <td>Business Analytics / Data Analyst / Fresher An...</td>\n",
       "      <td>GABA Consultancy services</td>\n",
       "      <td>0-5 Yrs</td>\n",
       "      <td>Noida, Gurgaon/Gurugram, Delhi / NCR</td>\n",
       "    </tr>\n",
       "    <tr>\n",
       "      <th>5</th>\n",
       "      <td>Urgent Opening For Data Analyst - Business Exc...</td>\n",
       "      <td>Ison Bpo India Pvt Ltd3.6(478 Reviews)</td>\n",
       "      <td>2-5 Yrs</td>\n",
       "      <td>Noida</td>\n",
       "    </tr>\n",
       "    <tr>\n",
       "      <th>6</th>\n",
       "      <td>Job Opportunity For Talent Data Analyst - Corn...</td>\n",
       "      <td>Cornerstone OnDemand Services India Pvt Ltd4.4...</td>\n",
       "      <td>3-5 Yrs</td>\n",
       "      <td>Kolkata, Pune, Chennai, Bangalore/Bengaluru, D...</td>\n",
       "    </tr>\n",
       "    <tr>\n",
       "      <th>7</th>\n",
       "      <td>Data Analyst</td>\n",
       "      <td>Eli Research India Private limited3.3(398 Revi...</td>\n",
       "      <td>2-4 Yrs</td>\n",
       "      <td>Hyderabad/Secunderabad, Faridabad</td>\n",
       "    </tr>\n",
       "    <tr>\n",
       "      <th>8</th>\n",
       "      <td>Data Analyst</td>\n",
       "      <td>Metrichive Private Limited</td>\n",
       "      <td>3-4 Yrs</td>\n",
       "      <td>Chennai, Bangalore/Bengaluru, Delhi / NCR</td>\n",
       "    </tr>\n",
       "    <tr>\n",
       "      <th>9</th>\n",
       "      <td>Data Analyst/Scientist Big Data, Statistical T...</td>\n",
       "      <td>The Search House (A Div of JSD Search House Pv...</td>\n",
       "      <td>2-7 Yrs</td>\n",
       "      <td>Gurgaon/Gurugram</td>\n",
       "    </tr>\n",
       "  </tbody>\n",
       "</table>\n",
       "</div>"
      ],
      "text/plain": [
       "                                           Job Title  \\\n",
       "0    Data Scientist / Data Analyst -Business Analyst   \n",
       "1  Data Analyst / Business Analytics / MIS Analys...   \n",
       "2                              Business Data Analyst   \n",
       "3                                Senior Data Analyst   \n",
       "4  Business Analytics / Data Analyst / Fresher An...   \n",
       "5  Urgent Opening For Data Analyst - Business Exc...   \n",
       "6  Job Opportunity For Talent Data Analyst - Corn...   \n",
       "7                                       Data Analyst   \n",
       "8                                       Data Analyst   \n",
       "9  Data Analyst/Scientist Big Data, Statistical T...   \n",
       "\n",
       "                                             Company Experience  \\\n",
       "0                 Inflexion Analytix Private Limited    0-3 Yrs   \n",
       "1                          GABA Consultancy services    0-5 Yrs   \n",
       "2                Incuspaze Solutions Private Limited    3-4 Yrs   \n",
       "3  Eli Research India Private limited3.3(398 Revi...    3-5 Yrs   \n",
       "4                          GABA Consultancy services    0-5 Yrs   \n",
       "5             Ison Bpo India Pvt Ltd3.6(478 Reviews)    2-5 Yrs   \n",
       "6  Cornerstone OnDemand Services India Pvt Ltd4.4...    3-5 Yrs   \n",
       "7  Eli Research India Private limited3.3(398 Revi...    2-4 Yrs   \n",
       "8                         Metrichive Private Limited    3-4 Yrs   \n",
       "9  The Search House (A Div of JSD Search House Pv...    2-7 Yrs   \n",
       "\n",
       "                                         Location /s  \n",
       "0  Mumbai, Hyderabad/Secunderabad, Pune, Gurgaon/...  \n",
       "1               Noida, Gurgaon/Gurugram, Delhi / NCR  \n",
       "2                                   Gurgaon/Gurugram  \n",
       "3                  Hyderabad/Secunderabad, Faridabad  \n",
       "4               Noida, Gurgaon/Gurugram, Delhi / NCR  \n",
       "5                                              Noida  \n",
       "6  Kolkata, Pune, Chennai, Bangalore/Bengaluru, D...  \n",
       "7                  Hyderabad/Secunderabad, Faridabad  \n",
       "8          Chennai, Bangalore/Bengaluru, Delhi / NCR  \n",
       "9                                   Gurgaon/Gurugram  "
      ]
     },
     "execution_count": 106,
     "metadata": {},
     "output_type": "execute_result"
    }
   ],
   "source": [
    "job_df3 = pd.DataFrame()\n",
    "job_df3['Job Title'] = titles_list\n",
    "job_df3['Company'] = company_list\n",
    "job_df3['Experience'] = experience\n",
    "job_df3['Location /s'] = location\n",
    "job_df3"
   ]
  },
  {
   "cell_type": "markdown",
   "metadata": {},
   "source": [
    "# -----------------------------------------------Question 4------------------------------------------------"
   ]
  },
  {
   "cell_type": "code",
   "execution_count": 31,
   "metadata": {},
   "outputs": [],
   "source": [
    "import time\n",
    "from selenium.common.exceptions import NoSuchElementException"
   ]
  },
  {
   "cell_type": "code",
   "execution_count": 25,
   "metadata": {},
   "outputs": [],
   "source": [
    "driver.get('https://www.glassdoor.co.in/index.htm')\n",
    "time.sleep(5)\n",
    "try:\n",
    "    job_btn =  driver.find_element_by_xpath('/html/body/footer/div/div/div[1]/span[3]/a')\n",
    "    job_btn.click()\n",
    "except ElementClickInterceptedException as e:\n",
    "    print('Exception Raised: ' , e)\n",
    "\n",
    "try:\n",
    "    job = driver.find_element_by_xpath('//input[@class=\"css-1etjok6\"]')\n",
    "    job.click()\n",
    "except NoSuchElementException as e:\n",
    "    print('Exception Raised: ', e)\n",
    "    "
   ]
  },
  {
   "cell_type": "code",
   "execution_count": 26,
   "metadata": {},
   "outputs": [],
   "source": [
    "job_search = driver.find_element_by_id(\"scKeyword\")"
   ]
  },
  {
   "cell_type": "code",
   "execution_count": 27,
   "metadata": {},
   "outputs": [],
   "source": [
    "job_search.send_keys('Data Scientist')"
   ]
  },
  {
   "cell_type": "code",
   "execution_count": 28,
   "metadata": {},
   "outputs": [],
   "source": [
    "loc_search = driver.find_element_by_id(\"scLocation\")\n",
    "loc_search.send_keys('Noida')"
   ]
  },
  {
   "cell_type": "code",
   "execution_count": 33,
   "metadata": {},
   "outputs": [],
   "source": [
    "time.sleep(3)\n",
    "try:\n",
    "    btn = driver.find_element_by_xpath('/html/body/header/nav[1]/div/div/div/div[3]/div[4]/div[2]/form/div[2]/div[1]/button')\n",
    "    btn.click()\n",
    "except NoSuchElementException as e:\n",
    "    print('Exception Raised: ', e)"
   ]
  },
  {
   "cell_type": "code",
   "execution_count": 37,
   "metadata": {},
   "outputs": [
    {
     "data": {
      "text/plain": [
       "['Bechtel',\n",
       " 'Ericsson',\n",
       " 'Data Patterns',\n",
       " 'Crowe',\n",
       " 'Biz2Credit Inc',\n",
       " 'Priority Vendor',\n",
       " 'xtLytics',\n",
       " 'Lantern Digital Services',\n",
       " 'Techlive',\n",
       " 'United Airlines Inc.']"
      ]
     },
     "execution_count": 37,
     "metadata": {},
     "output_type": "execute_result"
    }
   ],
   "source": [
    "comp_name = driver.find_elements_by_xpath('//div[@class=\"d-flex justify-content-between align-items-start\"]')\n",
    "comp_name_list = []\n",
    "for c in comp_name:\n",
    "    comp_name_list.append(c.text)\n",
    "comp_name_list = comp_name_list[:10]\n",
    "comp_name_list"
   ]
  },
  {
   "cell_type": "code",
   "execution_count": 40,
   "metadata": {},
   "outputs": [
    {
     "data": {
      "text/plain": [
       "['16d', '24h', '2d', '14d', '22d', '14d', '24h', '8d', '20d', '5d']"
      ]
     },
     "execution_count": 40,
     "metadata": {},
     "output_type": "execute_result"
    }
   ],
   "source": [
    "job_age = driver.find_elements_by_xpath('//div[@data-test=\"job-age\"]')\n",
    "job_age_list = []\n",
    "for j in job_age:\n",
    "    job_age_list.append(j.text)\n",
    "job_age_list = job_age_list[:10]\n",
    "job_age_list"
   ]
  },
  {
   "cell_type": "code",
   "execution_count": 42,
   "metadata": {},
   "outputs": [
    {
     "data": {
      "text/plain": [
       "['3.9', '4.1', '3.0', '3.8', '3.7', '3.7', '3.5', '5.0', '4.1', '3.0']"
      ]
     },
     "execution_count": 42,
     "metadata": {},
     "output_type": "execute_result"
    }
   ],
   "source": [
    "comp_rating = driver.find_elements_by_xpath('//span[@class=\"css-19pjha7 e1cjmv6j1\"]')\n",
    "comp_rating_list = []\n",
    "for r in comp_rating:\n",
    "    comp_rating_list.append(r.text)\n",
    "comp_rating_list = comp_rating_list[:10]\n",
    "comp_rating_list"
   ]
  },
  {
   "cell_type": "code",
   "execution_count": 43,
   "metadata": {},
   "outputs": [],
   "source": [
    "glassdoor_df = pd.DataFrame()\n",
    "glassdoor_df['Company'] = comp_name_list\n",
    "glassdoor_df['Job Posted Age'] = job_age_list\n",
    "glassdoor_df['Company Rating'] = comp_rating_list"
   ]
  },
  {
   "cell_type": "code",
   "execution_count": 44,
   "metadata": {},
   "outputs": [
    {
     "data": {
      "text/html": [
       "<div>\n",
       "<style scoped>\n",
       "    .dataframe tbody tr th:only-of-type {\n",
       "        vertical-align: middle;\n",
       "    }\n",
       "\n",
       "    .dataframe tbody tr th {\n",
       "        vertical-align: top;\n",
       "    }\n",
       "\n",
       "    .dataframe thead th {\n",
       "        text-align: right;\n",
       "    }\n",
       "</style>\n",
       "<table border=\"1\" class=\"dataframe\">\n",
       "  <thead>\n",
       "    <tr style=\"text-align: right;\">\n",
       "      <th></th>\n",
       "      <th>Company</th>\n",
       "      <th>Job Posted Age</th>\n",
       "      <th>Company Rating</th>\n",
       "    </tr>\n",
       "  </thead>\n",
       "  <tbody>\n",
       "    <tr>\n",
       "      <th>0</th>\n",
       "      <td>Bechtel</td>\n",
       "      <td>16d</td>\n",
       "      <td>3.9</td>\n",
       "    </tr>\n",
       "    <tr>\n",
       "      <th>1</th>\n",
       "      <td>Ericsson</td>\n",
       "      <td>24h</td>\n",
       "      <td>4.1</td>\n",
       "    </tr>\n",
       "    <tr>\n",
       "      <th>2</th>\n",
       "      <td>Data Patterns</td>\n",
       "      <td>2d</td>\n",
       "      <td>3.0</td>\n",
       "    </tr>\n",
       "    <tr>\n",
       "      <th>3</th>\n",
       "      <td>Crowe</td>\n",
       "      <td>14d</td>\n",
       "      <td>3.8</td>\n",
       "    </tr>\n",
       "    <tr>\n",
       "      <th>4</th>\n",
       "      <td>Biz2Credit Inc</td>\n",
       "      <td>22d</td>\n",
       "      <td>3.7</td>\n",
       "    </tr>\n",
       "    <tr>\n",
       "      <th>5</th>\n",
       "      <td>Priority Vendor</td>\n",
       "      <td>14d</td>\n",
       "      <td>3.7</td>\n",
       "    </tr>\n",
       "    <tr>\n",
       "      <th>6</th>\n",
       "      <td>xtLytics</td>\n",
       "      <td>24h</td>\n",
       "      <td>3.5</td>\n",
       "    </tr>\n",
       "    <tr>\n",
       "      <th>7</th>\n",
       "      <td>Lantern Digital Services</td>\n",
       "      <td>8d</td>\n",
       "      <td>5.0</td>\n",
       "    </tr>\n",
       "    <tr>\n",
       "      <th>8</th>\n",
       "      <td>Techlive</td>\n",
       "      <td>20d</td>\n",
       "      <td>4.1</td>\n",
       "    </tr>\n",
       "    <tr>\n",
       "      <th>9</th>\n",
       "      <td>United Airlines Inc.</td>\n",
       "      <td>5d</td>\n",
       "      <td>3.0</td>\n",
       "    </tr>\n",
       "  </tbody>\n",
       "</table>\n",
       "</div>"
      ],
      "text/plain": [
       "                    Company Job Posted Age Company Rating\n",
       "0                   Bechtel            16d            3.9\n",
       "1                  Ericsson            24h            4.1\n",
       "2             Data Patterns             2d            3.0\n",
       "3                     Crowe            14d            3.8\n",
       "4            Biz2Credit Inc            22d            3.7\n",
       "5           Priority Vendor            14d            3.7\n",
       "6                  xtLytics            24h            3.5\n",
       "7  Lantern Digital Services             8d            5.0\n",
       "8                  Techlive            20d            4.1\n",
       "9      United Airlines Inc.             5d            3.0"
      ]
     },
     "execution_count": 44,
     "metadata": {},
     "output_type": "execute_result"
    }
   ],
   "source": [
    "glassdoor_df"
   ]
  },
  {
   "cell_type": "markdown",
   "metadata": {},
   "source": [
    "# ------------------------------------------------Question 5-----------------------------------------------"
   ]
  },
  {
   "cell_type": "code",
   "execution_count": 46,
   "metadata": {},
   "outputs": [],
   "source": [
    "driver.get('https://www.glassdoor.co.in/Salaries/index.htm')"
   ]
  },
  {
   "cell_type": "code",
   "execution_count": 50,
   "metadata": {},
   "outputs": [],
   "source": [
    "time.sleep(5)\n",
    "try:\n",
    "    job_search = driver.find_element_by_xpath('//input[@id=\"KeywordSearch\"]')\n",
    "    job_search.send_keys('Data Scientist')\n",
    "except NoSuchElementException as e:\n",
    "    print('Exception Raised: ', e)"
   ]
  },
  {
   "cell_type": "code",
   "execution_count": 60,
   "metadata": {},
   "outputs": [
    {
     "name": "stdout",
     "output_type": "stream",
     "text": [
      "Exception Raised:  Message: element not interactable\n",
      "  (Session info: chrome=91.0.4472.106)\n",
      "\n"
     ]
    }
   ],
   "source": [
    "from selenium.common.exceptions import ElementNotInteractableException\n",
    "time.sleep(5)\n",
    "try:\n",
    "    loc_search = driver.find_element_by_id('LocationSearch')\n",
    "    loc_search.send_keys('Noida')\n",
    "except ElementNotInteractableException as e:\n",
    "    print('Exception Raised: ', e)"
   ]
  },
  {
   "cell_type": "markdown",
   "metadata": {},
   "source": [
    "# ---------------------------------------------Question 6--------------------------------------------------"
   ]
  },
  {
   "cell_type": "code",
   "execution_count": 80,
   "metadata": {},
   "outputs": [],
   "source": [
    "driver.get('https://www.flipkart.com/')"
   ]
  },
  {
   "cell_type": "code",
   "execution_count": 81,
   "metadata": {},
   "outputs": [],
   "source": [
    "search = driver.find_element_by_xpath('/html/body/div/div/div[1]/div[1]/div[2]/div[2]/form/div/div/input')"
   ]
  },
  {
   "cell_type": "code",
   "execution_count": 82,
   "metadata": {},
   "outputs": [],
   "source": [
    "search.send_keys('Sunglasses')"
   ]
  },
  {
   "cell_type": "code",
   "execution_count": 84,
   "metadata": {},
   "outputs": [],
   "source": [
    "from selenium.webdriver.common.keys import Keys"
   ]
  },
  {
   "cell_type": "code",
   "execution_count": 83,
   "metadata": {},
   "outputs": [],
   "source": [
    "search.send_keys(Keys.ENTER)"
   ]
  },
  {
   "cell_type": "code",
   "execution_count": 89,
   "metadata": {},
   "outputs": [
    {
     "data": {
      "text/plain": [
       "['https://www.flipkart.com/search?q=Sunglasses&otracker=search&otracker1=search&marketplace=FLIPKART&as-show=on&as=off&page=2',\n",
       " 'https://www.flipkart.com/search?q=Sunglasses&otracker=search&otracker1=search&marketplace=FLIPKART&as-show=on&as=off&page=3',\n",
       " 'https://www.flipkart.com/search?q=Sunglasses&otracker=search&otracker1=search&marketplace=FLIPKART&as-show=on&as=off&page=4']"
      ]
     },
     "execution_count": 89,
     "metadata": {},
     "output_type": "execute_result"
    }
   ],
   "source": [
    "page_url = driver.find_elements_by_xpath(\"//a[@class = 'ge-49M']\")\n",
    "page_urls = []\n",
    "for p in page_url:\n",
    "    page_urls.append(p.get_attribute('href'))\n",
    "page_urls = page_urls[:3]\n",
    "page_urls"
   ]
  },
  {
   "cell_type": "code",
   "execution_count": 92,
   "metadata": {},
   "outputs": [
    {
     "data": {
      "text/plain": [
       "100"
      ]
     },
     "execution_count": 92,
     "metadata": {},
     "output_type": "execute_result"
    }
   ],
   "source": [
    "urls=[]\n",
    "for i in page_urls:\n",
    "    url = driver.find_elements_by_xpath(\"//a[@class = 'IRpwTa']\")\n",
    "    \n",
    "    for u in url:\n",
    "        urls.append(u.get_attribute('href'))\n",
    "urls = urls[:100]\n",
    "len(urls)"
   ]
  },
  {
   "cell_type": "code",
   "execution_count": 103,
   "metadata": {},
   "outputs": [
    {
     "data": {
      "text/plain": [
       "['Fastrack ',\n",
       " 'PIRASO ',\n",
       " 'NuVew ',\n",
       " 'Singco ',\n",
       " 'Silver Kartz ',\n",
       " 'kingsunglasses ',\n",
       " 'Singco India ',\n",
       " 'ROZZETTA CRAFT ',\n",
       " 'GANSTA ',\n",
       " 'HIPPON ',\n",
       " 'DEIXELS ',\n",
       " 'PHENOMENAL ',\n",
       " 'ROYAL SON ',\n",
       " 'Wrogn ',\n",
       " 'hipe ',\n",
       " 'Fravy ',\n",
       " 'IRUS by IDEE ',\n",
       " 'elegante ',\n",
       " 'FOSSIL ',\n",
       " 'Mi ',\n",
       " 'Cristiano Ronnie ',\n",
       " 'Flizz ',\n",
       " 'United Colors of Benetton. ',\n",
       " 'IDEE ',\n",
       " 'AISLIN ',\n",
       " 'Fastrack ',\n",
       " 'PIRASO ',\n",
       " 'Singco India ',\n",
       " 'NuVew ',\n",
       " 'ROZZETTA CRAFT ',\n",
       " 'PHENOMENAL ',\n",
       " 'ROYAL SON ',\n",
       " 'GANSTA ',\n",
       " 'Wrogn ',\n",
       " 'DEIXELS ',\n",
       " 'elegante ',\n",
       " 'hipe ',\n",
       " 'Fravy ',\n",
       " 'United Colors of Benetton. ',\n",
       " 'FOSSIL ',\n",
       " 'Fastrack ',\n",
       " 'PIRASO ',\n",
       " 'NuVew ',\n",
       " 'Singco ',\n",
       " 'Silver Kartz ',\n",
       " 'kingsunglasses ',\n",
       " 'Singco India ',\n",
       " 'ROZZETTA CRAFT ',\n",
       " 'GANSTA ',\n",
       " 'HIPPON ',\n",
       " 'DEIXELS ',\n",
       " 'PHENOMENAL ',\n",
       " 'ROYAL SON ',\n",
       " 'Wrogn ',\n",
       " 'hipe ',\n",
       " 'Fravy ',\n",
       " 'IRUS by IDEE ',\n",
       " 'elegante ',\n",
       " 'FOSSIL ',\n",
       " 'Mi ',\n",
       " 'Cristiano Ronnie ',\n",
       " 'Flizz ',\n",
       " 'United Colors of Benetton. ',\n",
       " 'IDEE ',\n",
       " 'AISLIN ',\n",
       " 'Fastrack ',\n",
       " 'PIRASO ',\n",
       " 'Singco India ',\n",
       " 'NuVew ',\n",
       " 'ROZZETTA CRAFT ',\n",
       " 'PHENOMENAL ',\n",
       " 'ROYAL SON ',\n",
       " 'GANSTA ',\n",
       " 'Wrogn ',\n",
       " 'DEIXELS ',\n",
       " 'elegante ',\n",
       " 'hipe ',\n",
       " 'Fravy ',\n",
       " 'United Colors of Benetton. ',\n",
       " 'FOSSIL ',\n",
       " 'Fastrack ',\n",
       " 'PIRASO ',\n",
       " 'NuVew ',\n",
       " 'Singco ',\n",
       " 'Silver Kartz ',\n",
       " 'kingsunglasses ',\n",
       " 'Singco India ',\n",
       " 'ROZZETTA CRAFT ',\n",
       " 'GANSTA ',\n",
       " 'HIPPON ',\n",
       " 'DEIXELS ',\n",
       " 'PHENOMENAL ',\n",
       " 'ROYAL SON ',\n",
       " 'Wrogn ',\n",
       " 'hipe ',\n",
       " 'Fravy ',\n",
       " 'IRUS by IDEE ',\n",
       " 'elegante ',\n",
       " 'FOSSIL ',\n",
       " 'Mi ']"
      ]
     },
     "execution_count": 103,
     "metadata": {},
     "output_type": "execute_result"
    }
   ],
   "source": [
    "brand_name = []\n",
    "time.sleep(5)\n",
    "for i in urls:\n",
    "    driver.get(i)\n",
    "    try:\n",
    "        brand = driver.find_element_by_xpath('//span[@class = \"G6XhRU\"]')\n",
    "        brand_name.append(brand.text)\n",
    "    except NoSuchElementException as e:\n",
    "        print('Exception Raised: ', e)\n",
    "        \n",
    "brand_name"
   ]
  },
  {
   "cell_type": "code",
   "execution_count": 105,
   "metadata": {},
   "outputs": [],
   "source": [
    "price_list = []\n",
    "time.sleep(5)\n",
    "for i in urls:\n",
    "    driver.get(i)\n",
    "    try:\n",
    "        price = driver.find_element_by_xpath('//div[@class = \"_30jeq3 _16Jk6d\"]')\n",
    "        price_list.append(price.text)\n",
    "    except NoSuchElementException as e:\n",
    "        price_list.append('NA')"
   ]
  },
  {
   "cell_type": "code",
   "execution_count": 106,
   "metadata": {},
   "outputs": [],
   "source": [
    "discount_list = []\n",
    "time.sleep(5)\n",
    "for i in urls:\n",
    "    driver.get(i)\n",
    "    try:\n",
    "        discount = driver.find_element_by_xpath('//div[@class = \"_3Ay6Sb _31Dcoz pZkvcx\"]')\n",
    "        discount_list.append(discount.text)\n",
    "    except NoSuchElementException as e:\n",
    "        discount_list.append('NA')"
   ]
  },
  {
   "cell_type": "code",
   "execution_count": 115,
   "metadata": {},
   "outputs": [],
   "source": [
    "prd_desc = []\n",
    "time.sleep(5)\n",
    "for i in urls:\n",
    "    driver.get(i)\n",
    "    try:\n",
    "        prd = driver.find_element_by_xpath('//span[@class = \"B_NuCI\"]')\n",
    "        prd_desc.append(prd.text)\n",
    "    except NoSuchElementException as e:\n",
    "        prd_desc.append('NA')"
   ]
  },
  {
   "cell_type": "code",
   "execution_count": 116,
   "metadata": {},
   "outputs": [
    {
     "data": {
      "text/html": [
       "<div>\n",
       "<style scoped>\n",
       "    .dataframe tbody tr th:only-of-type {\n",
       "        vertical-align: middle;\n",
       "    }\n",
       "\n",
       "    .dataframe tbody tr th {\n",
       "        vertical-align: top;\n",
       "    }\n",
       "\n",
       "    .dataframe thead th {\n",
       "        text-align: right;\n",
       "    }\n",
       "</style>\n",
       "<table border=\"1\" class=\"dataframe\">\n",
       "  <thead>\n",
       "    <tr style=\"text-align: right;\">\n",
       "      <th></th>\n",
       "      <th>Brand</th>\n",
       "      <th>Product</th>\n",
       "      <th>Price</th>\n",
       "      <th>Discount</th>\n",
       "    </tr>\n",
       "  </thead>\n",
       "  <tbody>\n",
       "    <tr>\n",
       "      <th>0</th>\n",
       "      <td>Fastrack</td>\n",
       "      <td>UV Protection Rectangular Sunglasses (Free Siz...</td>\n",
       "      <td>₹695</td>\n",
       "      <td>13% off</td>\n",
       "    </tr>\n",
       "    <tr>\n",
       "      <th>1</th>\n",
       "      <td>PIRASO</td>\n",
       "      <td>UV Protection Aviator Sunglasses (54)  (For Me...</td>\n",
       "      <td>₹237</td>\n",
       "      <td>85% off</td>\n",
       "    </tr>\n",
       "    <tr>\n",
       "      <th>2</th>\n",
       "      <td>NuVew</td>\n",
       "      <td>UV Protection, Gradient, Night Vision, Mirrore...</td>\n",
       "      <td>₹282</td>\n",
       "      <td>75% off</td>\n",
       "    </tr>\n",
       "    <tr>\n",
       "      <th>3</th>\n",
       "      <td>Singco</td>\n",
       "      <td>Mirrored Aviator Sunglasses (53)  (For Men &amp; W...</td>\n",
       "      <td>₹249</td>\n",
       "      <td>75% off</td>\n",
       "    </tr>\n",
       "    <tr>\n",
       "      <th>4</th>\n",
       "      <td>Silver Kartz</td>\n",
       "      <td>UV Protection Wayfarer Sunglasses (Free Size) ...</td>\n",
       "      <td>₹246</td>\n",
       "      <td>83% off</td>\n",
       "    </tr>\n",
       "    <tr>\n",
       "      <th>...</th>\n",
       "      <td>...</td>\n",
       "      <td>...</td>\n",
       "      <td>...</td>\n",
       "      <td>...</td>\n",
       "    </tr>\n",
       "    <tr>\n",
       "      <th>95</th>\n",
       "      <td>Fravy</td>\n",
       "      <td>NA</td>\n",
       "      <td>₹329</td>\n",
       "      <td>83% off</td>\n",
       "    </tr>\n",
       "    <tr>\n",
       "      <th>96</th>\n",
       "      <td>IRUS by IDEE</td>\n",
       "      <td>Others Rectangular Sunglasses (56)  (For Men, ...</td>\n",
       "      <td>₹573</td>\n",
       "      <td>55% off</td>\n",
       "    </tr>\n",
       "    <tr>\n",
       "      <th>97</th>\n",
       "      <td>elegante</td>\n",
       "      <td>NA</td>\n",
       "      <td>₹199</td>\n",
       "      <td>80% off</td>\n",
       "    </tr>\n",
       "    <tr>\n",
       "      <th>98</th>\n",
       "      <td>FOSSIL</td>\n",
       "      <td>Mirrored Round Sunglasses (51)  (For Men, Grey)</td>\n",
       "      <td>₹2,136</td>\n",
       "      <td>51% off</td>\n",
       "    </tr>\n",
       "    <tr>\n",
       "      <th>99</th>\n",
       "      <td>Mi</td>\n",
       "      <td>NA</td>\n",
       "      <td>₹1,199</td>\n",
       "      <td>NA</td>\n",
       "    </tr>\n",
       "  </tbody>\n",
       "</table>\n",
       "<p>100 rows × 4 columns</p>\n",
       "</div>"
      ],
      "text/plain": [
       "            Brand                                            Product   Price  \\\n",
       "0       Fastrack   UV Protection Rectangular Sunglasses (Free Siz...    ₹695   \n",
       "1         PIRASO   UV Protection Aviator Sunglasses (54)  (For Me...    ₹237   \n",
       "2          NuVew   UV Protection, Gradient, Night Vision, Mirrore...    ₹282   \n",
       "3         Singco   Mirrored Aviator Sunglasses (53)  (For Men & W...    ₹249   \n",
       "4   Silver Kartz   UV Protection Wayfarer Sunglasses (Free Size) ...    ₹246   \n",
       "..            ...                                                ...     ...   \n",
       "95         Fravy                                                  NA    ₹329   \n",
       "96  IRUS by IDEE   Others Rectangular Sunglasses (56)  (For Men, ...    ₹573   \n",
       "97      elegante                                                  NA    ₹199   \n",
       "98        FOSSIL     Mirrored Round Sunglasses (51)  (For Men, Grey)  ₹2,136   \n",
       "99            Mi                                                  NA  ₹1,199   \n",
       "\n",
       "   Discount  \n",
       "0   13% off  \n",
       "1   85% off  \n",
       "2   75% off  \n",
       "3   75% off  \n",
       "4   83% off  \n",
       "..      ...  \n",
       "95  83% off  \n",
       "96  55% off  \n",
       "97  80% off  \n",
       "98  51% off  \n",
       "99       NA  \n",
       "\n",
       "[100 rows x 4 columns]"
      ]
     },
     "execution_count": 116,
     "metadata": {},
     "output_type": "execute_result"
    }
   ],
   "source": [
    "sunglasses = pd.DataFrame()\n",
    "sunglasses['Brand'] = brand_name\n",
    "sunglasses['Product'] = prd_desc\n",
    "sunglasses['Price'] = price_list\n",
    "sunglasses['Discount'] = discount_list\n",
    "sunglasses"
   ]
  },
  {
   "cell_type": "markdown",
   "metadata": {},
   "source": [
    "# -------------------------------------------------Question 7----------------------------------------------"
   ]
  },
  {
   "cell_type": "code",
   "execution_count": 117,
   "metadata": {},
   "outputs": [],
   "source": [
    "driver.get('https://www.flipkart.com/apple-iphone-11-black-64-gb-includes-earpods-power-adapter/p/itm0f37c2240b217?pid=MOBFKCTSVZAXUHGR&lid=LSTMOBFKCTSVZAXUHGREPBFGI&marketplace')"
   ]
  },
  {
   "cell_type": "code",
   "execution_count": 125,
   "metadata": {},
   "outputs": [],
   "source": [
    "btn = driver.find_element_by_xpath('/html/body/div[1]/div/div[3]/div[1]/div[2]/div[9]/div/div/div[5]/div/a')\n",
    "btn.click()"
   ]
  },
  {
   "cell_type": "code",
   "execution_count": 143,
   "metadata": {},
   "outputs": [
    {
     "data": {
      "text/plain": [
       "9"
      ]
     },
     "execution_count": 143,
     "metadata": {},
     "output_type": "execute_result"
    }
   ],
   "source": [
    "page_url = driver.find_elements_by_xpath(\"//a[@class = 'ge-49M']\")\n",
    "page_urls = []\n",
    "for p in page_url:\n",
    "    page_urls.append(p.get_attribute('href'))\n",
    "page_urls = page_urls[:9]\n",
    "len(page_urls)"
   ]
  },
  {
   "cell_type": "code",
   "execution_count": 144,
   "metadata": {},
   "outputs": [
    {
     "data": {
      "text/plain": [
       "<selenium.webdriver.remote.webelement.WebElement (session=\"b84b8ce0b8db127942da4b0a456e8f5a\", element=\"3b18af83-225b-4d28-9935-a977d76bee31\")>"
      ]
     },
     "execution_count": 144,
     "metadata": {},
     "output_type": "execute_result"
    }
   ],
   "source": [
    "page_url10 = driver.find_element_by_xpath(\"//a[@class = 'ge-49M _2Kfbh8']\")\n",
    "page_url10"
   ]
  },
  {
   "cell_type": "code",
   "execution_count": 145,
   "metadata": {},
   "outputs": [],
   "source": [
    "page_urls.append(page_url10)"
   ]
  },
  {
   "cell_type": "code",
   "execution_count": 146,
   "metadata": {},
   "outputs": [
    {
     "data": {
      "text/plain": [
       "10"
      ]
     },
     "execution_count": 146,
     "metadata": {},
     "output_type": "execute_result"
    }
   ],
   "source": [
    "len(page_urls)"
   ]
  },
  {
   "cell_type": "code",
   "execution_count": 147,
   "metadata": {},
   "outputs": [
    {
     "data": {
      "text/plain": [
       "100"
      ]
     },
     "execution_count": 147,
     "metadata": {},
     "output_type": "execute_result"
    }
   ],
   "source": [
    "summary=[]\n",
    "for i in page_urls:\n",
    "    url = driver.find_elements_by_xpath(\"//p[@class = '_2-N8zT']\")\n",
    "    \n",
    "    for s in url:\n",
    "        summary.append(s.text)\n",
    "len(summary)"
   ]
  },
  {
   "cell_type": "code",
   "execution_count": 149,
   "metadata": {},
   "outputs": [
    {
     "data": {
      "text/plain": [
       "100"
      ]
     },
     "execution_count": 149,
     "metadata": {},
     "output_type": "execute_result"
    }
   ],
   "source": [
    "rating = []\n",
    "for i in page_urls:\n",
    "    url = driver.find_elements_by_xpath(\"//div[@class = '_3LWZlK _1BLPMq']\")\n",
    "    \n",
    "    for r in url:\n",
    "        rating.append(r.text)\n",
    "len(rating)"
   ]
  },
  {
   "cell_type": "code",
   "execution_count": 150,
   "metadata": {},
   "outputs": [
    {
     "data": {
      "text/plain": [
       "100"
      ]
     },
     "execution_count": 150,
     "metadata": {},
     "output_type": "execute_result"
    }
   ],
   "source": [
    "desc = []\n",
    "for i in page_urls:\n",
    "    url = driver.find_elements_by_xpath(\"//div[@class = '']\")\n",
    "    \n",
    "    for d in url:\n",
    "        desc.append(d.text)\n",
    "len(desc)"
   ]
  },
  {
   "cell_type": "code",
   "execution_count": 152,
   "metadata": {},
   "outputs": [
    {
     "data": {
      "text/html": [
       "<div>\n",
       "<style scoped>\n",
       "    .dataframe tbody tr th:only-of-type {\n",
       "        vertical-align: middle;\n",
       "    }\n",
       "\n",
       "    .dataframe tbody tr th {\n",
       "        vertical-align: top;\n",
       "    }\n",
       "\n",
       "    .dataframe thead th {\n",
       "        text-align: right;\n",
       "    }\n",
       "</style>\n",
       "<table border=\"1\" class=\"dataframe\">\n",
       "  <thead>\n",
       "    <tr style=\"text-align: right;\">\n",
       "      <th></th>\n",
       "      <th>Rating</th>\n",
       "      <th>Summary</th>\n",
       "      <th>Description</th>\n",
       "    </tr>\n",
       "  </thead>\n",
       "  <tbody>\n",
       "    <tr>\n",
       "      <th>0</th>\n",
       "      <td>5</td>\n",
       "      <td>Brilliant</td>\n",
       "      <td>The Best Phone for the Money\\n\\nThe iPhone 11 ...</td>\n",
       "    </tr>\n",
       "    <tr>\n",
       "      <th>1</th>\n",
       "      <td>5</td>\n",
       "      <td>Perfect product!</td>\n",
       "      <td>Amazing phone with great cameras and better ba...</td>\n",
       "    </tr>\n",
       "    <tr>\n",
       "      <th>2</th>\n",
       "      <td>5</td>\n",
       "      <td>Great product</td>\n",
       "      <td>Amazing Powerful and Durable Gadget.\\n\\nI’m am...</td>\n",
       "    </tr>\n",
       "    <tr>\n",
       "      <th>3</th>\n",
       "      <td>5</td>\n",
       "      <td>Worth every penny</td>\n",
       "      <td>Previously I was using one plus 3t it was a gr...</td>\n",
       "    </tr>\n",
       "    <tr>\n",
       "      <th>4</th>\n",
       "      <td>5</td>\n",
       "      <td>Fabulous!</td>\n",
       "      <td>This is my first iOS phone. I am very happy wi...</td>\n",
       "    </tr>\n",
       "    <tr>\n",
       "      <th>...</th>\n",
       "      <td>...</td>\n",
       "      <td>...</td>\n",
       "      <td>...</td>\n",
       "    </tr>\n",
       "    <tr>\n",
       "      <th>95</th>\n",
       "      <td>4</td>\n",
       "      <td>Good choice</td>\n",
       "      <td>So far it’s been an AMAZING experience coming ...</td>\n",
       "    </tr>\n",
       "    <tr>\n",
       "      <th>96</th>\n",
       "      <td>5</td>\n",
       "      <td>Highly recommended</td>\n",
       "      <td>iphone 11 is a very good phone to buy only if ...</td>\n",
       "    </tr>\n",
       "    <tr>\n",
       "      <th>97</th>\n",
       "      <td>5</td>\n",
       "      <td>Perfect product!</td>\n",
       "      <td>It’s a must buy who is looking for an upgrade ...</td>\n",
       "    </tr>\n",
       "    <tr>\n",
       "      <th>98</th>\n",
       "      <td>5</td>\n",
       "      <td>Perfect product!</td>\n",
       "      <td>Value for money❤️❤️\\nIts awesome mobile phone ...</td>\n",
       "    </tr>\n",
       "    <tr>\n",
       "      <th>99</th>\n",
       "      <td>5</td>\n",
       "      <td>Highly recommended</td>\n",
       "      <td>What a camera .....just awesome ..you can feel...</td>\n",
       "    </tr>\n",
       "  </tbody>\n",
       "</table>\n",
       "<p>100 rows × 3 columns</p>\n",
       "</div>"
      ],
      "text/plain": [
       "   Rating             Summary  \\\n",
       "0       5           Brilliant   \n",
       "1       5    Perfect product!   \n",
       "2       5       Great product   \n",
       "3       5   Worth every penny   \n",
       "4       5           Fabulous!   \n",
       "..    ...                 ...   \n",
       "95      4         Good choice   \n",
       "96      5  Highly recommended   \n",
       "97      5    Perfect product!   \n",
       "98      5    Perfect product!   \n",
       "99      5  Highly recommended   \n",
       "\n",
       "                                          Description  \n",
       "0   The Best Phone for the Money\\n\\nThe iPhone 11 ...  \n",
       "1   Amazing phone with great cameras and better ba...  \n",
       "2   Amazing Powerful and Durable Gadget.\\n\\nI’m am...  \n",
       "3   Previously I was using one plus 3t it was a gr...  \n",
       "4   This is my first iOS phone. I am very happy wi...  \n",
       "..                                                ...  \n",
       "95  So far it’s been an AMAZING experience coming ...  \n",
       "96  iphone 11 is a very good phone to buy only if ...  \n",
       "97  It’s a must buy who is looking for an upgrade ...  \n",
       "98  Value for money❤️❤️\\nIts awesome mobile phone ...  \n",
       "99  What a camera .....just awesome ..you can feel...  \n",
       "\n",
       "[100 rows x 3 columns]"
      ]
     },
     "execution_count": 152,
     "metadata": {},
     "output_type": "execute_result"
    }
   ],
   "source": [
    "iphone11review = pd.DataFrame()\n",
    "iphone11review['Rating'] = rating\n",
    "iphone11review['Summary'] = summary\n",
    "iphone11review['Description'] = desc\n",
    "iphone11review"
   ]
  },
  {
   "cell_type": "markdown",
   "metadata": {},
   "source": [
    "# ----------------------------------------------Question 8-------------------------------------------------"
   ]
  },
  {
   "cell_type": "code",
   "execution_count": 212,
   "metadata": {},
   "outputs": [],
   "source": [
    "driver.get('https://www.flipkart.com/')"
   ]
  },
  {
   "cell_type": "code",
   "execution_count": 213,
   "metadata": {},
   "outputs": [],
   "source": [
    "search = driver.find_element_by_xpath('/html/body/div/div/div[1]/div[1]/div[2]/div[2]/form/div/div/input')"
   ]
  },
  {
   "cell_type": "code",
   "execution_count": 214,
   "metadata": {},
   "outputs": [],
   "source": [
    "search.send_keys('sneakers')"
   ]
  },
  {
   "cell_type": "code",
   "execution_count": 215,
   "metadata": {},
   "outputs": [],
   "source": [
    "search.send_keys(Keys.ENTER)"
   ]
  },
  {
   "cell_type": "code",
   "execution_count": 216,
   "metadata": {},
   "outputs": [
    {
     "data": {
      "text/plain": [
       "['https://www.flipkart.com/search?q=sneakers&otracker=search&otracker1=search&marketplace=FLIPKART&as-show=on&as=off&page=2',\n",
       " 'https://www.flipkart.com/search?q=sneakers&otracker=search&otracker1=search&marketplace=FLIPKART&as-show=on&as=off&page=3',\n",
       " 'https://www.flipkart.com/search?q=sneakers&otracker=search&otracker1=search&marketplace=FLIPKART&as-show=on&as=off&page=4',\n",
       " 'https://www.flipkart.com/search?q=sneakers&otracker=search&otracker1=search&marketplace=FLIPKART&as-show=on&as=off&page=5',\n",
       " 'https://www.flipkart.com/search?q=sneakers&otracker=search&otracker1=search&marketplace=FLIPKART&as-show=on&as=off&page=6',\n",
       " 'https://www.flipkart.com/search?q=sneakers&otracker=search&otracker1=search&marketplace=FLIPKART&as-show=on&as=off&page=7',\n",
       " 'https://www.flipkart.com/search?q=sneakers&otracker=search&otracker1=search&marketplace=FLIPKART&as-show=on&as=off&page=8',\n",
       " 'https://www.flipkart.com/search?q=sneakers&otracker=search&otracker1=search&marketplace=FLIPKART&as-show=on&as=off&page=9',\n",
       " 'https://www.flipkart.com/search?q=sneakers&otracker=search&otracker1=search&marketplace=FLIPKART&as-show=on&as=off&page=10']"
      ]
     },
     "execution_count": 216,
     "metadata": {},
     "output_type": "execute_result"
    }
   ],
   "source": [
    "page_url = driver.find_elements_by_xpath(\"//a[@class = 'ge-49M']\")\n",
    "page_urls = []\n",
    "for p in page_url:\n",
    "    page_urls.append(p.get_attribute('href'))\n",
    "page_urls"
   ]
  },
  {
   "cell_type": "code",
   "execution_count": 193,
   "metadata": {},
   "outputs": [
    {
     "data": {
      "text/plain": [
       "100"
      ]
     },
     "execution_count": 193,
     "metadata": {},
     "output_type": "execute_result"
    }
   ],
   "source": [
    "urls=[]\n",
    "for i in page_urls[:100]:\n",
    "    url = driver.find_elements_by_xpath(\"//a[@class = 'IRpwTa']\")\n",
    "    \n",
    "    for u in url:\n",
    "        urls.append(u.get_attribute('href'))\n",
    "urls = urls[:100]\n",
    "len(urls)"
   ]
  },
  {
   "cell_type": "code",
   "execution_count": 196,
   "metadata": {},
   "outputs": [],
   "source": [
    "brand_name = []\n",
    "for i in urls:\n",
    "    driver.get(i)\n",
    "    time.sleep(3)\n",
    "    try:\n",
    "        brand = driver.find_element_by_xpath('//span[@class = \"G6XhRU\"]')\n",
    "        brand_name.append(brand.text)\n",
    "    except NoSuchElementException as e:\n",
    "        print('Exception Raised: ', e)\n"
   ]
  },
  {
   "cell_type": "code",
   "execution_count": 197,
   "metadata": {},
   "outputs": [
    {
     "data": {
      "text/plain": [
       "100"
      ]
     },
     "execution_count": 197,
     "metadata": {},
     "output_type": "execute_result"
    }
   ],
   "source": [
    "len(brand_name)"
   ]
  },
  {
   "cell_type": "code",
   "execution_count": 198,
   "metadata": {},
   "outputs": [],
   "source": [
    "price_list = []\n",
    "for i in urls:\n",
    "    driver.get(i)\n",
    "    time.sleep(3)\n",
    "    try:\n",
    "        price = driver.find_element_by_xpath('//div[@class = \"_30jeq3 _16Jk6d\"]')\n",
    "        price_list.append(price.text)\n",
    "    except NoSuchElementException as e:\n",
    "        price_list.append('NA')"
   ]
  },
  {
   "cell_type": "code",
   "execution_count": 199,
   "metadata": {},
   "outputs": [
    {
     "data": {
      "text/plain": [
       "100"
      ]
     },
     "execution_count": 199,
     "metadata": {},
     "output_type": "execute_result"
    }
   ],
   "source": [
    "len(price_list)"
   ]
  },
  {
   "cell_type": "code",
   "execution_count": 200,
   "metadata": {},
   "outputs": [],
   "source": [
    "discount_list = []\n",
    "\n",
    "for i in urls:\n",
    "    driver.get(i)\n",
    "    time.sleep(5)\n",
    "    try:\n",
    "        discount = driver.find_element_by_xpath('//div[@class = \"_3Ay6Sb _31Dcoz pZkvcx\"]')\n",
    "        discount_list.append(discount.text)\n",
    "    except NoSuchElementException as e:\n",
    "        discount_list.append('NA')"
   ]
  },
  {
   "cell_type": "code",
   "execution_count": 201,
   "metadata": {},
   "outputs": [
    {
     "data": {
      "text/plain": [
       "100"
      ]
     },
     "execution_count": 201,
     "metadata": {},
     "output_type": "execute_result"
    }
   ],
   "source": [
    "len(discount_list)"
   ]
  },
  {
   "cell_type": "code",
   "execution_count": 202,
   "metadata": {},
   "outputs": [],
   "source": [
    "prd_desc = []\n",
    "\n",
    "for i in urls:\n",
    "    driver.get(i)\n",
    "    time.sleep(5)\n",
    "    try:\n",
    "        prd = driver.find_element_by_xpath('//span[@class = \"B_NuCI\"]')\n",
    "        prd_desc.append(prd.text)\n",
    "    except NoSuchElementException as e:\n",
    "        prd_desc.append('NA')"
   ]
  },
  {
   "cell_type": "code",
   "execution_count": 203,
   "metadata": {},
   "outputs": [
    {
     "data": {
      "text/plain": [
       "100"
      ]
     },
     "execution_count": 203,
     "metadata": {},
     "output_type": "execute_result"
    }
   ],
   "source": [
    "len(prd_desc)"
   ]
  },
  {
   "cell_type": "code",
   "execution_count": 204,
   "metadata": {},
   "outputs": [
    {
     "data": {
      "text/html": [
       "<div>\n",
       "<style scoped>\n",
       "    .dataframe tbody tr th:only-of-type {\n",
       "        vertical-align: middle;\n",
       "    }\n",
       "\n",
       "    .dataframe tbody tr th {\n",
       "        vertical-align: top;\n",
       "    }\n",
       "\n",
       "    .dataframe thead th {\n",
       "        text-align: right;\n",
       "    }\n",
       "</style>\n",
       "<table border=\"1\" class=\"dataframe\">\n",
       "  <thead>\n",
       "    <tr style=\"text-align: right;\">\n",
       "      <th></th>\n",
       "      <th>Brand</th>\n",
       "      <th>Product</th>\n",
       "      <th>Price</th>\n",
       "      <th>Discount</th>\n",
       "    </tr>\n",
       "  </thead>\n",
       "  <tbody>\n",
       "    <tr>\n",
       "      <th>0</th>\n",
       "      <td>Chevit</td>\n",
       "      <td>Unique &amp; Perfect Collection Combo Pack of 02 S...</td>\n",
       "      <td>₹448</td>\n",
       "      <td>70% off</td>\n",
       "    </tr>\n",
       "    <tr>\n",
       "      <th>1</th>\n",
       "      <td>ORICUM</td>\n",
       "      <td>Combo pack of 2 casual sneaker shoes for men S...</td>\n",
       "      <td>₹377</td>\n",
       "      <td>62% off</td>\n",
       "    </tr>\n",
       "    <tr>\n",
       "      <th>2</th>\n",
       "      <td>bluemaker</td>\n",
       "      <td>casual for men (blue 06) Sneakers For Men  (Blue)</td>\n",
       "      <td>₹474</td>\n",
       "      <td>NA</td>\n",
       "    </tr>\n",
       "    <tr>\n",
       "      <th>3</th>\n",
       "      <td>PEHANOSA</td>\n",
       "      <td>Sneakers For Men  (Multicolor)</td>\n",
       "      <td>₹499</td>\n",
       "      <td>50% off</td>\n",
       "    </tr>\n",
       "    <tr>\n",
       "      <th>4</th>\n",
       "      <td>Alfiya</td>\n",
       "      <td>Shoes in Black Color Party wear/Outdoor/Casual...</td>\n",
       "      <td>₹377</td>\n",
       "      <td>62% off</td>\n",
       "    </tr>\n",
       "    <tr>\n",
       "      <th>...</th>\n",
       "      <td>...</td>\n",
       "      <td>...</td>\n",
       "      <td>...</td>\n",
       "      <td>...</td>\n",
       "    </tr>\n",
       "    <tr>\n",
       "      <th>95</th>\n",
       "      <td>PUMA</td>\n",
       "      <td>Simha IDP Sneakers For Men  (Black)</td>\n",
       "      <td>₹1,529</td>\n",
       "      <td>49% off</td>\n",
       "    </tr>\n",
       "    <tr>\n",
       "      <th>96</th>\n",
       "      <td>ASTEROID</td>\n",
       "      <td>Skate Board White Shoes Men Running Flat PU Sn...</td>\n",
       "      <td>₹451</td>\n",
       "      <td>54% off</td>\n",
       "    </tr>\n",
       "    <tr>\n",
       "      <th>97</th>\n",
       "      <td>TR</td>\n",
       "      <td>Sneakers For Men  (White)</td>\n",
       "      <td>₹379</td>\n",
       "      <td>81% off</td>\n",
       "    </tr>\n",
       "    <tr>\n",
       "      <th>98</th>\n",
       "      <td>FILA</td>\n",
       "      <td>EMAN Sneakers For Men  (White)</td>\n",
       "      <td>₹1,266</td>\n",
       "      <td>59% off</td>\n",
       "    </tr>\n",
       "    <tr>\n",
       "      <th>99</th>\n",
       "      <td>Chevit</td>\n",
       "      <td>Unique &amp; Perfect Collection Combo Pack of 02 S...</td>\n",
       "      <td>₹448</td>\n",
       "      <td>70% off</td>\n",
       "    </tr>\n",
       "  </tbody>\n",
       "</table>\n",
       "<p>100 rows × 4 columns</p>\n",
       "</div>"
      ],
      "text/plain": [
       "         Brand                                            Product   Price  \\\n",
       "0      Chevit   Unique & Perfect Collection Combo Pack of 02 S...    ₹448   \n",
       "1      ORICUM   Combo pack of 2 casual sneaker shoes for men S...    ₹377   \n",
       "2   bluemaker   casual for men (blue 06) Sneakers For Men  (Blue)    ₹474   \n",
       "3    PEHANOSA                      Sneakers For Men  (Multicolor)    ₹499   \n",
       "4      Alfiya   Shoes in Black Color Party wear/Outdoor/Casual...    ₹377   \n",
       "..         ...                                                ...     ...   \n",
       "95       PUMA                 Simha IDP Sneakers For Men  (Black)  ₹1,529   \n",
       "96   ASTEROID   Skate Board White Shoes Men Running Flat PU Sn...    ₹451   \n",
       "97         TR                           Sneakers For Men  (White)    ₹379   \n",
       "98       FILA                      EMAN Sneakers For Men  (White)  ₹1,266   \n",
       "99     Chevit   Unique & Perfect Collection Combo Pack of 02 S...    ₹448   \n",
       "\n",
       "   Discount  \n",
       "0   70% off  \n",
       "1   62% off  \n",
       "2        NA  \n",
       "3   50% off  \n",
       "4   62% off  \n",
       "..      ...  \n",
       "95  49% off  \n",
       "96  54% off  \n",
       "97  81% off  \n",
       "98  59% off  \n",
       "99  70% off  \n",
       "\n",
       "[100 rows x 4 columns]"
      ]
     },
     "execution_count": 204,
     "metadata": {},
     "output_type": "execute_result"
    }
   ],
   "source": [
    "sneakers = pd.DataFrame()\n",
    "sneakers['Brand'] = brand_name\n",
    "sneakers['Product'] = prd_desc\n",
    "sneakers['Price'] = price_list\n",
    "sneakers['Discount'] = discount_list\n",
    "sneakers"
   ]
  },
  {
   "cell_type": "markdown",
   "metadata": {},
   "source": [
    "# ---------------------------------------------Question 9--------------------------------------------------"
   ]
  },
  {
   "cell_type": "code",
   "execution_count": 246,
   "metadata": {},
   "outputs": [],
   "source": [
    "driver.get('https://www.myntra.com/shoes')"
   ]
  },
  {
   "cell_type": "code",
   "execution_count": 247,
   "metadata": {},
   "outputs": [],
   "source": [
    "chckbx = driver.find_element_by_xpath('/html/body/div[2]/div/div[1]/main/div[3]/div[1]/section/div/div[5]/ul/li[2]/label/div')\n",
    "chckbx.click()"
   ]
  },
  {
   "cell_type": "code",
   "execution_count": 248,
   "metadata": {},
   "outputs": [],
   "source": [
    "chckbx2 = driver.find_element_by_xpath('/html/body/div[2]/div/div[1]/main/div[3]/div[1]/section/div/div[6]/ul/li[1]/label/div')\n",
    "chckbx2.click()"
   ]
  },
  {
   "cell_type": "code",
   "execution_count": 262,
   "metadata": {},
   "outputs": [
    {
     "data": {
      "text/plain": [
       "1"
      ]
     },
     "execution_count": 262,
     "metadata": {},
     "output_type": "execute_result"
    }
   ],
   "source": [
    "page_url = driver.find_elements_by_xpath(\"/html/body/div[2]/div/div[1]/main/div[3]/div[2]/div/div[2]/section/div[2]/ul/li[3]/a\")\n",
    "page_url1 = []\n",
    "for p in page_url:\n",
    "    page_url1.append(p.get_attribute('href'))\n",
    "len(page_url1)"
   ]
  },
  {
   "cell_type": "code",
   "execution_count": 263,
   "metadata": {},
   "outputs": [
    {
     "data": {
      "text/plain": [
       "1"
      ]
     },
     "execution_count": 263,
     "metadata": {},
     "output_type": "execute_result"
    }
   ],
   "source": [
    "page_url2 = driver.find_elements_by_xpath(\"/html/body/div[2]/div/div[1]/main/div[3]/div[2]/div/div[2]/section/div[2]/ul/li[4]/a\")\n",
    "page_url2_list = []\n",
    "for p in page_url2:\n",
    "    page_url2_list.append(p.get_attribute('href'))\n",
    "len(page_url2_list)"
   ]
  },
  {
   "cell_type": "code",
   "execution_count": 274,
   "metadata": {},
   "outputs": [
    {
     "data": {
      "text/plain": [
       "['https://www.myntra.com/shoes?f=Color%3ABlack_36454f&plaEnabled=false&rf=Price%3A6649.0_13099.0_6649.0%20TO%2013099.0&p=2',\n",
       " 'https://www.myntra.com/shoes?f=Color%3ABlack_36454f&plaEnabled=false&rf=Price%3A6649.0_13099.0_6649.0%20TO%2013099.0&p=3']"
      ]
     },
     "execution_count": 274,
     "metadata": {},
     "output_type": "execute_result"
    }
   ],
   "source": [
    "page_urls = page_url1+page_url2_list\n",
    "page_urls"
   ]
  },
  {
   "cell_type": "code",
   "execution_count": 276,
   "metadata": {},
   "outputs": [
    {
     "data": {
      "text/plain": [
       "100"
      ]
     },
     "execution_count": 276,
     "metadata": {},
     "output_type": "execute_result"
    }
   ],
   "source": [
    "url_list=[]\n",
    "for p in page_urls[:100]:\n",
    "    url = driver.find_elements_by_xpath(\"//a[@target = '_blank']\")\n",
    "    \n",
    "    for u in url:\n",
    "        url_list.append(u.get_attribute('href'))\n",
    "\n",
    "len(url_list)"
   ]
  },
  {
   "cell_type": "code",
   "execution_count": 279,
   "metadata": {},
   "outputs": [],
   "source": [
    "brand = []\n",
    "\n",
    "for i in url_list:\n",
    "    driver.get(i)\n",
    "    time.sleep(2)\n",
    "    try:\n",
    "        prd = driver.find_element_by_xpath('//h1[@class = \"pdp-title\"]')\n",
    "        brand.append(prd.text)\n",
    "    except NoSuchElementException as e:\n",
    "        brand.append('NA')"
   ]
  },
  {
   "cell_type": "code",
   "execution_count": 291,
   "metadata": {},
   "outputs": [
    {
     "data": {
      "text/plain": [
       "100"
      ]
     },
     "execution_count": 291,
     "metadata": {},
     "output_type": "execute_result"
    }
   ],
   "source": [
    "brand = brand[:100]\n",
    "len(brand)"
   ]
  },
  {
   "cell_type": "code",
   "execution_count": 286,
   "metadata": {},
   "outputs": [],
   "source": [
    "desc = []\n",
    "\n",
    "for i in url_list:\n",
    "    driver.get(i)\n",
    "    try:\n",
    "        prd_desc = driver.find_element_by_xpath('//h1[@class = \"pdp-name\"]')\n",
    "        desc.append(prd_desc.text)\n",
    "    except NoSuchElementException as e:\n",
    "        brand.append('NA')"
   ]
  },
  {
   "cell_type": "code",
   "execution_count": 287,
   "metadata": {},
   "outputs": [
    {
     "data": {
      "text/plain": [
       "100"
      ]
     },
     "execution_count": 287,
     "metadata": {},
     "output_type": "execute_result"
    }
   ],
   "source": [
    "len(desc)"
   ]
  },
  {
   "cell_type": "code",
   "execution_count": 289,
   "metadata": {},
   "outputs": [],
   "source": [
    "price_list = []\n",
    "for i in url_list:\n",
    "    driver.get(i)\n",
    "    time.sleep(1)\n",
    "    try:\n",
    "        price = driver.find_element_by_xpath('//span[@class = \"pdp-price\"]')\n",
    "        price_list.append(price.text)\n",
    "    except NoSuchElementException as e:\n",
    "        price_list.append('NA')"
   ]
  },
  {
   "cell_type": "code",
   "execution_count": 290,
   "metadata": {},
   "outputs": [
    {
     "data": {
      "text/plain": [
       "100"
      ]
     },
     "execution_count": 290,
     "metadata": {},
     "output_type": "execute_result"
    }
   ],
   "source": [
    "len(price_list)"
   ]
  },
  {
   "cell_type": "code",
   "execution_count": 293,
   "metadata": {},
   "outputs": [
    {
     "data": {
      "text/html": [
       "<div>\n",
       "<style scoped>\n",
       "    .dataframe tbody tr th:only-of-type {\n",
       "        vertical-align: middle;\n",
       "    }\n",
       "\n",
       "    .dataframe tbody tr th {\n",
       "        vertical-align: top;\n",
       "    }\n",
       "\n",
       "    .dataframe thead th {\n",
       "        text-align: right;\n",
       "    }\n",
       "</style>\n",
       "<table border=\"1\" class=\"dataframe\">\n",
       "  <thead>\n",
       "    <tr style=\"text-align: right;\">\n",
       "      <th></th>\n",
       "      <th>Brand</th>\n",
       "      <th>Description</th>\n",
       "      <th>Price</th>\n",
       "    </tr>\n",
       "  </thead>\n",
       "  <tbody>\n",
       "    <tr>\n",
       "      <th>0</th>\n",
       "      <td>FILA</td>\n",
       "      <td>Women Black &amp; Off White PU Sneakers Casual Shoes</td>\n",
       "      <td>Rs. 7999</td>\n",
       "    </tr>\n",
       "    <tr>\n",
       "      <th>1</th>\n",
       "      <td>Ruosh</td>\n",
       "      <td>Men Black Formal Leather Brogues</td>\n",
       "      <td>Rs. 7490</td>\n",
       "    </tr>\n",
       "    <tr>\n",
       "      <th>2</th>\n",
       "      <td>Cole Haan</td>\n",
       "      <td>Women Black Leather Sneakers</td>\n",
       "      <td>Rs. 7699</td>\n",
       "    </tr>\n",
       "    <tr>\n",
       "      <th>3</th>\n",
       "      <td>Florsheim</td>\n",
       "      <td>Men Black &amp; Brown Solid Leather Formal Loafers</td>\n",
       "      <td>Rs. 6995</td>\n",
       "    </tr>\n",
       "    <tr>\n",
       "      <th>4</th>\n",
       "      <td>FILA</td>\n",
       "      <td>Men Black Woven Design Leather Sneakers</td>\n",
       "      <td>Rs. 11599</td>\n",
       "    </tr>\n",
       "    <tr>\n",
       "      <th>...</th>\n",
       "      <td>...</td>\n",
       "      <td>...</td>\n",
       "      <td>...</td>\n",
       "    </tr>\n",
       "    <tr>\n",
       "      <th>95</th>\n",
       "      <td>Hush Puppies</td>\n",
       "      <td>Men Black Solid Formal Leather Derbys</td>\n",
       "      <td>Rs. 6999</td>\n",
       "    </tr>\n",
       "    <tr>\n",
       "      <th>96</th>\n",
       "      <td>San Frissco</td>\n",
       "      <td>Men Black Embellished Leather Loafers</td>\n",
       "      <td>Rs. 7497</td>\n",
       "    </tr>\n",
       "    <tr>\n",
       "      <th>97</th>\n",
       "      <td>Cole Haan</td>\n",
       "      <td>Women Black Solid Leather Ballerinas</td>\n",
       "      <td>Rs. 9799</td>\n",
       "    </tr>\n",
       "    <tr>\n",
       "      <th>98</th>\n",
       "      <td>FILA</td>\n",
       "      <td>Women Black &amp; White Heritage Disruptor II Snea...</td>\n",
       "      <td>Rs. 8999</td>\n",
       "    </tr>\n",
       "    <tr>\n",
       "      <th>99</th>\n",
       "      <td>Cole Haan</td>\n",
       "      <td>Women Black Zerogrand Global Trainer Sneakers</td>\n",
       "      <td>Rs. 6749</td>\n",
       "    </tr>\n",
       "  </tbody>\n",
       "</table>\n",
       "<p>100 rows × 3 columns</p>\n",
       "</div>"
      ],
      "text/plain": [
       "           Brand                                        Description      Price\n",
       "0           FILA   Women Black & Off White PU Sneakers Casual Shoes   Rs. 7999\n",
       "1          Ruosh                   Men Black Formal Leather Brogues   Rs. 7490\n",
       "2      Cole Haan                       Women Black Leather Sneakers   Rs. 7699\n",
       "3      Florsheim     Men Black & Brown Solid Leather Formal Loafers   Rs. 6995\n",
       "4           FILA            Men Black Woven Design Leather Sneakers  Rs. 11599\n",
       "..           ...                                                ...        ...\n",
       "95  Hush Puppies              Men Black Solid Formal Leather Derbys   Rs. 6999\n",
       "96   San Frissco              Men Black Embellished Leather Loafers   Rs. 7497\n",
       "97     Cole Haan               Women Black Solid Leather Ballerinas   Rs. 9799\n",
       "98          FILA  Women Black & White Heritage Disruptor II Snea...   Rs. 8999\n",
       "99     Cole Haan      Women Black Zerogrand Global Trainer Sneakers   Rs. 6749\n",
       "\n",
       "[100 rows x 3 columns]"
      ]
     },
     "execution_count": 293,
     "metadata": {},
     "output_type": "execute_result"
    }
   ],
   "source": [
    "shoes = pd.DataFrame()\n",
    "shoes['Brand'] = brand\n",
    "shoes['Description'] = desc\n",
    "shoes['Price'] = price_list\n",
    "shoes"
   ]
  },
  {
   "cell_type": "markdown",
   "metadata": {},
   "source": [
    "# ------------------------------------------------Question 10----------------------------------------------"
   ]
  },
  {
   "cell_type": "code",
   "execution_count": 297,
   "metadata": {},
   "outputs": [],
   "source": [
    "driver.get('https://www.amazon.in/')"
   ]
  },
  {
   "cell_type": "code",
   "execution_count": 298,
   "metadata": {},
   "outputs": [],
   "source": [
    "search = driver.find_element_by_xpath('/html/body/div[1]/header/div/div[1]/div[2]/div/form/div[2]/div[1]/input')\n",
    "search.send_keys('Laptop')\n",
    "search.send_keys(Keys.ENTER)"
   ]
  },
  {
   "cell_type": "code",
   "execution_count": 299,
   "metadata": {},
   "outputs": [],
   "source": [
    "checkbox = driver.find_element_by_xpath('/html/body/div[1]/div[2]/div[1]/div/div[2]/div/div[3]/span/div[1]/span/div/div/div[6]/ul[1]/li[26]/span/a/div/label/i')\n",
    "checkbox.click()"
   ]
  },
  {
   "cell_type": "code",
   "execution_count": 300,
   "metadata": {},
   "outputs": [],
   "source": [
    "checkbox2 = driver.find_element_by_xpath('/html/body/div[1]/div[2]/div[1]/div/div[2]/div/div[3]/span/div[1]/span/div/div/div[6]/ul[1]/li[28]/span/a/div/label/i')\n",
    "checkbox2.click()"
   ]
  },
  {
   "cell_type": "code",
   "execution_count": 303,
   "metadata": {},
   "outputs": [
    {
     "data": {
      "text/plain": [
       "['Mi Notebook Horizon Edition 14 Intel Core i5-10210U 10th Gen 14-inch (35.56 cms) Thin and Light Laptop(8GB/512GB SSD/Windows 10/Nvidia MX350 2GB Graphics/Grey/1.35Kg), XMA1904-AR+Webcam',\n",
       " 'HP 14 Thin & Light 14\" (35.56cms) FHD Laptop (11th Gen Intel i7-1165G7/8GB/512GB SSD/Windows 10/MS Office 2019/Alexa Built-in/Pale Gold/1.47 kg), 14s-dr2007TU',\n",
       " 'HP Pavilion (2021) Thin & Light 11th Gen Core i7 Laptop, 16 GB RAM, 1TB SSD, Iris Xe Graphics, 14\" (35.56cms) FHD Screen, Windows 10, MS Office, Backlit Keyboard (14-dv0058TU)',\n",
       " 'HP Pavilion Gaming 10th Gen Intel Core i7 Processor 15.6-inch FHD Gaming Laptop (16GB/512GB SSD + 32GB Intel Optane/Windows 10/NVIDIA 1650Ti 4GB/Shadow Black), 15-dk1509TX',\n",
       " 'Life Digital Laptop 15.6-inch (39.62 cms) (Intel Core i7, 4GB RAM, 256GB SSD, Windows 10), ZED AIR CX7',\n",
       " 'ASUS ROG Zephyrus Duo 15, 15.6\" 4K UHD, Intel Core i7-10875H 10th Gen, RTX 2080 Super Max-Q 8GB Graphics, Gaming Laptop (32GB/2TB RAID 0 SSD/Windows 10/MS Office/Gray/2.48 Kg) GX550LXS-HC145TS',\n",
       " 'Lenovo Ideapad 5 Intel i7 11th Gen 15.6\" Thin and Light (16GB/512SSD/Win10 +Office Home/Intel Iris Xe Graphics/Graphite Grey/1.66kg), 82FG0117IN',\n",
       " 'Lenovo ThinkPad E15 (2021) Intel Core i7 11th Gen 15.6\" FHD Thin and Light Laptop (16GB RAM/512GB SSD/Windows 10/MS Office/Fingerprint Reader/Black/Aluminium Surface/ 1.7 kg), 20TDS0G100',\n",
       " 'Lenovo IdeaPad Gaming 3 10th Gen Intel Core i7 15.6-inch FHD IPS Gaming Laptop (8GB/1TB HDD + 256 GB SSD/Windows 10/NVIDIA GTX 1650 4GB GDDR6/with M100 RGB Gaming Mouse/Onyx Black/2.2Kg), 81Y400VAIN',\n",
       " 'Lenovo ThinkPad E15 (2021) Intel Core i7 11th Gen 15.6\" FHD Thin and Light Laptop (16GB RAM/1TB SSD/Windows 10/MS Office/NVIDIA MX450 2GB Graphics/FPR/Black/Aluminium Surface/ 1.7 kg), 20TDS0G200']"
      ]
     },
     "execution_count": 303,
     "metadata": {},
     "output_type": "execute_result"
    }
   ],
   "source": [
    "title = driver.find_elements_by_xpath('//span[@class = \"a-size-medium a-color-base a-text-normal\"]')\n",
    "title_list = []\n",
    "for i in title:\n",
    "    title_list.append(i.text)\n",
    "title_list = title_list[:10]\n",
    "title_list"
   ]
  },
  {
   "cell_type": "code",
   "execution_count": 323,
   "metadata": {},
   "outputs": [
    {
     "data": {
      "text/plain": [
       "['', '', '', '', '', '', '', '', '', '']"
      ]
     },
     "execution_count": 323,
     "metadata": {},
     "output_type": "execute_result"
    }
   ],
   "source": [
    "rating = driver.find_elements_by_class_name('a-icon-alt')\n",
    "rating_list = []\n",
    "for i in rating:\n",
    "    rating_list.append(i.text)\n",
    "rating_list = rating_list[:10]\n",
    "rating_list"
   ]
  },
  {
   "cell_type": "code",
   "execution_count": 316,
   "metadata": {},
   "outputs": [
    {
     "data": {
      "text/plain": [
       "['54,999',\n",
       " '89,000',\n",
       " '84,990',\n",
       " '86,990',\n",
       " '26,990',\n",
       " '2,69,990',\n",
       " '78,990',\n",
       " '90,990',\n",
       " '77,990',\n",
       " '1,05,990']"
      ]
     },
     "execution_count": 316,
     "metadata": {},
     "output_type": "execute_result"
    }
   ],
   "source": [
    "price = driver.find_elements_by_xpath('//span[@class = \"a-price-whole\" ]')\n",
    "price_list = []\n",
    "for i in price:\n",
    "    price_list.append(i.text)\n",
    "price_list = price_list[:10]\n",
    "price_list"
   ]
  },
  {
   "cell_type": "code",
   "execution_count": 325,
   "metadata": {},
   "outputs": [
    {
     "data": {
      "text/html": [
       "<div>\n",
       "<style scoped>\n",
       "    .dataframe tbody tr th:only-of-type {\n",
       "        vertical-align: middle;\n",
       "    }\n",
       "\n",
       "    .dataframe tbody tr th {\n",
       "        vertical-align: top;\n",
       "    }\n",
       "\n",
       "    .dataframe thead th {\n",
       "        text-align: right;\n",
       "    }\n",
       "</style>\n",
       "<table border=\"1\" class=\"dataframe\">\n",
       "  <thead>\n",
       "    <tr style=\"text-align: right;\">\n",
       "      <th></th>\n",
       "      <th>Description</th>\n",
       "      <th>Rating</th>\n",
       "      <th>Price</th>\n",
       "    </tr>\n",
       "  </thead>\n",
       "  <tbody>\n",
       "    <tr>\n",
       "      <th>0</th>\n",
       "      <td>Mi Notebook Horizon Edition 14 Intel Core i5-1...</td>\n",
       "      <td></td>\n",
       "      <td>54,999</td>\n",
       "    </tr>\n",
       "    <tr>\n",
       "      <th>1</th>\n",
       "      <td>HP 14 Thin &amp; Light 14\" (35.56cms) FHD Laptop (...</td>\n",
       "      <td></td>\n",
       "      <td>89,000</td>\n",
       "    </tr>\n",
       "    <tr>\n",
       "      <th>2</th>\n",
       "      <td>HP Pavilion (2021) Thin &amp; Light 11th Gen Core ...</td>\n",
       "      <td></td>\n",
       "      <td>84,990</td>\n",
       "    </tr>\n",
       "    <tr>\n",
       "      <th>3</th>\n",
       "      <td>HP Pavilion Gaming 10th Gen Intel Core i7 Proc...</td>\n",
       "      <td></td>\n",
       "      <td>86,990</td>\n",
       "    </tr>\n",
       "    <tr>\n",
       "      <th>4</th>\n",
       "      <td>Life Digital Laptop 15.6-inch (39.62 cms) (Int...</td>\n",
       "      <td></td>\n",
       "      <td>26,990</td>\n",
       "    </tr>\n",
       "    <tr>\n",
       "      <th>5</th>\n",
       "      <td>ASUS ROG Zephyrus Duo 15, 15.6\" 4K UHD, Intel ...</td>\n",
       "      <td></td>\n",
       "      <td>2,69,990</td>\n",
       "    </tr>\n",
       "    <tr>\n",
       "      <th>6</th>\n",
       "      <td>Lenovo Ideapad 5 Intel i7 11th Gen 15.6\" Thin ...</td>\n",
       "      <td></td>\n",
       "      <td>78,990</td>\n",
       "    </tr>\n",
       "    <tr>\n",
       "      <th>7</th>\n",
       "      <td>Lenovo ThinkPad E15 (2021) Intel Core i7 11th ...</td>\n",
       "      <td></td>\n",
       "      <td>90,990</td>\n",
       "    </tr>\n",
       "    <tr>\n",
       "      <th>8</th>\n",
       "      <td>Lenovo IdeaPad Gaming 3 10th Gen Intel Core i7...</td>\n",
       "      <td></td>\n",
       "      <td>77,990</td>\n",
       "    </tr>\n",
       "    <tr>\n",
       "      <th>9</th>\n",
       "      <td>Lenovo ThinkPad E15 (2021) Intel Core i7 11th ...</td>\n",
       "      <td></td>\n",
       "      <td>1,05,990</td>\n",
       "    </tr>\n",
       "  </tbody>\n",
       "</table>\n",
       "</div>"
      ],
      "text/plain": [
       "                                         Description Rating     Price\n",
       "0  Mi Notebook Horizon Edition 14 Intel Core i5-1...           54,999\n",
       "1  HP 14 Thin & Light 14\" (35.56cms) FHD Laptop (...           89,000\n",
       "2  HP Pavilion (2021) Thin & Light 11th Gen Core ...           84,990\n",
       "3  HP Pavilion Gaming 10th Gen Intel Core i7 Proc...           86,990\n",
       "4  Life Digital Laptop 15.6-inch (39.62 cms) (Int...           26,990\n",
       "5  ASUS ROG Zephyrus Duo 15, 15.6\" 4K UHD, Intel ...         2,69,990\n",
       "6  Lenovo Ideapad 5 Intel i7 11th Gen 15.6\" Thin ...           78,990\n",
       "7  Lenovo ThinkPad E15 (2021) Intel Core i7 11th ...           90,990\n",
       "8  Lenovo IdeaPad Gaming 3 10th Gen Intel Core i7...           77,990\n",
       "9  Lenovo ThinkPad E15 (2021) Intel Core i7 11th ...         1,05,990"
      ]
     },
     "execution_count": 325,
     "metadata": {},
     "output_type": "execute_result"
    }
   ],
   "source": [
    "laptop = pd.DataFrame()\n",
    "laptop['Description'] = title_list\n",
    "laptop['Rating'] = rating_list\n",
    "laptop['Price'] = price_list\n",
    "laptop"
   ]
  },
  {
   "cell_type": "markdown",
   "metadata": {},
   "source": [
    "# ---------------------------------------END-------------------------------------------------"
   ]
  }
 ],
 "metadata": {
  "kernelspec": {
   "display_name": "Python 3",
   "language": "python",
   "name": "python3"
  },
  "language_info": {
   "codemirror_mode": {
    "name": "ipython",
    "version": 3
   },
   "file_extension": ".py",
   "mimetype": "text/x-python",
   "name": "python",
   "nbconvert_exporter": "python",
   "pygments_lexer": "ipython3",
   "version": "3.7.9"
  }
 },
 "nbformat": 4,
 "nbformat_minor": 4
}
