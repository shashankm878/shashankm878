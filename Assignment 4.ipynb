{
 "cells": [
  {
   "cell_type": "code",
   "execution_count": 1,
   "id": "7f772130",
   "metadata": {},
   "outputs": [],
   "source": [
    "from selenium import webdriver\n",
    "import pandas as pd\n",
    "import numpy as np"
   ]
  },
  {
   "cell_type": "code",
   "execution_count": 11,
   "id": "d2aa29a1",
   "metadata": {},
   "outputs": [],
   "source": [
    "import time\n",
    "from selenium.common.exceptions import StaleElementReferenceException, NoSuchElementException"
   ]
  },
  {
   "cell_type": "code",
   "execution_count": 2,
   "id": "5d7af490",
   "metadata": {},
   "outputs": [],
   "source": [
    "chrome_driver_path = \"C:\\devlopement\\chromedriver.exe\"\n",
    "driver = webdriver.Chrome(executable_path=chrome_driver_path)"
   ]
  },
  {
   "cell_type": "markdown",
   "id": "e803ab72",
   "metadata": {},
   "source": [
    "# ---------------------------------------QUESTION 1----------------------------------------------"
   ]
  },
  {
   "cell_type": "code",
   "execution_count": 4,
   "id": "1e431304",
   "metadata": {},
   "outputs": [],
   "source": [
    "driver.get('https://en.wikipedia.org/wiki/List_of_most-viewed_YouTube_videos')"
   ]
  },
  {
   "cell_type": "code",
   "execution_count": 6,
   "id": "efdd1e7e",
   "metadata": {},
   "outputs": [],
   "source": [
    "video_name = driver.find_elements_by_tag_name('a')"
   ]
  },
  {
   "cell_type": "code",
   "execution_count": 28,
   "id": "8d760c15",
   "metadata": {},
   "outputs": [],
   "source": [
    "video_name_list = []\n",
    "time.sleep(3)\n",
    "for i in video_name:\n",
    "    try:\n",
    "        video_name_list.append(i.text)\n",
    "    except NoSuchElementException:\n",
    "        position.append('NA')"
   ]
  },
  {
   "cell_type": "code",
   "execution_count": 29,
   "id": "61865c32",
   "metadata": {},
   "outputs": [],
   "source": [
    "video_name_list = video_name_list[87:180]"
   ]
  },
  {
   "cell_type": "code",
   "execution_count": 52,
   "id": "5f3b8347",
   "metadata": {},
   "outputs": [
    {
     "data": {
      "text/plain": [
       "10"
      ]
     },
     "execution_count": 52,
     "metadata": {},
     "output_type": "execute_result"
    }
   ],
   "source": [
    "vnl = []\n",
    "for i in video_name_list:\n",
    "    if len(i) >3:\n",
    "        vnl.append(i)\n",
    "vnl = vnl[0:20:2]\n",
    "len(vnl)"
   ]
  },
  {
   "cell_type": "code",
   "execution_count": 66,
   "id": "830a331b",
   "metadata": {},
   "outputs": [
    {
     "data": {
      "text/plain": [
       "10"
      ]
     },
     "execution_count": 66,
     "metadata": {},
     "output_type": "execute_result"
    }
   ],
   "source": [
    "artist = []\n",
    "for i in video_name_list:\n",
    "    if len(i)>4 and len(i)<=12:\n",
    "        artist.append(i)\n",
    "artist = artist [1:21:2]\n",
    "len(artist)"
   ]
  },
  {
   "cell_type": "code",
   "execution_count": 73,
   "id": "0e878ed4",
   "metadata": {},
   "outputs": [],
   "source": [
    "views = driver.find_elements_by_xpath(\"//td[@align = 'center']\")"
   ]
  },
  {
   "cell_type": "code",
   "execution_count": 81,
   "id": "38a72f37",
   "metadata": {},
   "outputs": [],
   "source": [
    "views_l = []\n",
    "for i in views:\n",
    "    views_l.append(i.text)\n",
    "views_l = views_l[1::2]"
   ]
  },
  {
   "cell_type": "code",
   "execution_count": 80,
   "id": "710ea6fe",
   "metadata": {},
   "outputs": [
    {
     "data": {
      "text/plain": [
       "10"
      ]
     },
     "execution_count": 80,
     "metadata": {},
     "output_type": "execute_result"
    }
   ],
   "source": [
    "vw = []\n",
    "for i in views_l:\n",
    "    if len(i)==4:\n",
    "        vw.append(i)\n",
    "vw = vw[:10]\n",
    "len(vw)"
   ]
  },
  {
   "cell_type": "code",
   "execution_count": 82,
   "id": "55c06e68",
   "metadata": {},
   "outputs": [],
   "source": [
    "date = driver.find_elements_by_xpath(\"//td[@align = 'right']\")"
   ]
  },
  {
   "cell_type": "code",
   "execution_count": 86,
   "id": "5d64a2db",
   "metadata": {},
   "outputs": [
    {
     "data": {
      "text/plain": [
       "10"
      ]
     },
     "execution_count": 86,
     "metadata": {},
     "output_type": "execute_result"
    }
   ],
   "source": [
    "date_l = []\n",
    "for i in date:\n",
    "    date_l.append(i.text)\n",
    "date_l = date_l[:10]\n",
    "len(date_l)"
   ]
  },
  {
   "cell_type": "code",
   "execution_count": 88,
   "id": "5a95246e",
   "metadata": {},
   "outputs": [
    {
     "data": {
      "text/html": [
       "<div>\n",
       "<style scoped>\n",
       "    .dataframe tbody tr th:only-of-type {\n",
       "        vertical-align: middle;\n",
       "    }\n",
       "\n",
       "    .dataframe tbody tr th {\n",
       "        vertical-align: top;\n",
       "    }\n",
       "\n",
       "    .dataframe thead th {\n",
       "        text-align: right;\n",
       "    }\n",
       "</style>\n",
       "<table border=\"1\" class=\"dataframe\">\n",
       "  <thead>\n",
       "    <tr style=\"text-align: right;\">\n",
       "      <th></th>\n",
       "      <th>Rank</th>\n",
       "      <th>Video_name</th>\n",
       "      <th>Artist</th>\n",
       "      <th>Views in billion</th>\n",
       "      <th>Upload date</th>\n",
       "    </tr>\n",
       "  </thead>\n",
       "  <tbody>\n",
       "    <tr>\n",
       "      <th>0</th>\n",
       "      <td>1</td>\n",
       "      <td>Baby Shark Dance</td>\n",
       "      <td>Luis Fonsi</td>\n",
       "      <td>8.99</td>\n",
       "      <td>June 17, 2016</td>\n",
       "    </tr>\n",
       "    <tr>\n",
       "      <th>1</th>\n",
       "      <td>2</td>\n",
       "      <td>Pinkfong Kids' Songs &amp; Stories</td>\n",
       "      <td>Ed Sheeran</td>\n",
       "      <td>5.56</td>\n",
       "      <td>January 12, 2017</td>\n",
       "    </tr>\n",
       "    <tr>\n",
       "      <th>2</th>\n",
       "      <td>3</td>\n",
       "      <td>[24]</td>\n",
       "      <td>Uptown Funk</td>\n",
       "      <td>5.18</td>\n",
       "      <td>October 8, 2016</td>\n",
       "    </tr>\n",
       "    <tr>\n",
       "      <th>3</th>\n",
       "      <td>4</td>\n",
       "      <td>Johny Johny Yes Papa</td>\n",
       "      <td>ChuChu TV</td>\n",
       "      <td>4.33</td>\n",
       "      <td>January 30, 2017</td>\n",
       "    </tr>\n",
       "    <tr>\n",
       "      <th>4</th>\n",
       "      <td>5</td>\n",
       "      <td>Shape of You</td>\n",
       "      <td>Maroon 5</td>\n",
       "      <td>4.23</td>\n",
       "      <td>April 6, 2015</td>\n",
       "    </tr>\n",
       "    <tr>\n",
       "      <th>5</th>\n",
       "      <td>6</td>\n",
       "      <td>Ed Sheeran</td>\n",
       "      <td>Sorry</td>\n",
       "      <td>4.00</td>\n",
       "      <td>January 31, 2012</td>\n",
       "    </tr>\n",
       "    <tr>\n",
       "      <th>6</th>\n",
       "      <td>7</td>\n",
       "      <td>[27]</td>\n",
       "      <td>OneRepublic</td>\n",
       "      <td>3.51</td>\n",
       "      <td>May 2, 2018</td>\n",
       "    </tr>\n",
       "    <tr>\n",
       "      <th>7</th>\n",
       "      <td>8</td>\n",
       "      <td>Masha and the Bear</td>\n",
       "      <td>Dark Horse</td>\n",
       "      <td>3.47</td>\n",
       "      <td>February 27, 2018</td>\n",
       "    </tr>\n",
       "    <tr>\n",
       "      <th>8</th>\n",
       "      <td>9</td>\n",
       "      <td>[31]</td>\n",
       "      <td>Faded</td>\n",
       "      <td>3.45</td>\n",
       "      <td>November 19, 2014</td>\n",
       "    </tr>\n",
       "    <tr>\n",
       "      <th>9</th>\n",
       "      <td>10</td>\n",
       "      <td>[32]</td>\n",
       "      <td>Shake It Off</td>\n",
       "      <td>3.39</td>\n",
       "      <td>July 15, 2012</td>\n",
       "    </tr>\n",
       "  </tbody>\n",
       "</table>\n",
       "</div>"
      ],
      "text/plain": [
       "   Rank                      Video_name        Artist Views in billion  \\\n",
       "0     1                Baby Shark Dance    Luis Fonsi             8.99   \n",
       "1     2  Pinkfong Kids' Songs & Stories    Ed Sheeran             5.56   \n",
       "2     3                            [24]   Uptown Funk             5.18   \n",
       "3     4            Johny Johny Yes Papa     ChuChu TV             4.33   \n",
       "4     5                    Shape of You      Maroon 5             4.23   \n",
       "5     6                      Ed Sheeran         Sorry             4.00   \n",
       "6     7                            [27]   OneRepublic             3.51   \n",
       "7     8              Masha and the Bear    Dark Horse             3.47   \n",
       "8     9                            [31]         Faded             3.45   \n",
       "9    10                            [32]  Shake It Off             3.39   \n",
       "\n",
       "         Upload date  \n",
       "0      June 17, 2016  \n",
       "1   January 12, 2017  \n",
       "2    October 8, 2016  \n",
       "3   January 30, 2017  \n",
       "4      April 6, 2015  \n",
       "5   January 31, 2012  \n",
       "6        May 2, 2018  \n",
       "7  February 27, 2018  \n",
       "8  November 19, 2014  \n",
       "9      July 15, 2012  "
      ]
     },
     "execution_count": 88,
     "metadata": {},
     "output_type": "execute_result"
    }
   ],
   "source": [
    "you_tube = pd.DataFrame()\n",
    "you_tube['Rank'] = range(1,11)\n",
    "you_tube['Video_name'] = vnl\n",
    "you_tube['Artist'] = artist\n",
    "you_tube['Views in billion'] = vw\n",
    "you_tube['Upload date'] = date_l\n",
    "you_tube"
   ]
  },
  {
   "cell_type": "markdown",
   "id": "7da030ad",
   "metadata": {},
   "source": [
    "# ------------------------------ QUESTION 2-------------------------------------------"
   ]
  },
  {
   "cell_type": "code",
   "execution_count": 89,
   "id": "4c03d495",
   "metadata": {},
   "outputs": [],
   "source": [
    "url = \"https://www.bcci.tv\"\n",
    "driver.get(url)"
   ]
  },
  {
   "cell_type": "code",
   "execution_count": 92,
   "id": "594c2995",
   "metadata": {},
   "outputs": [],
   "source": [
    "dd_btn = driver.find_element_by_xpath('/html/body/footer/div/nav/ul/li[2]/ul/li[1]/a')\n",
    "dd_btn.click()"
   ]
  },
  {
   "cell_type": "code",
   "execution_count": 95,
   "id": "b6d04bfa",
   "metadata": {},
   "outputs": [],
   "source": [
    "mt = driver.find_elements_by_xpath ('//span[@class = \"u-unskewed-text fixture__tournament-label u-truncated\"]')"
   ]
  },
  {
   "cell_type": "code",
   "execution_count": 98,
   "id": "c0ba5d28",
   "metadata": {},
   "outputs": [],
   "source": [
    "mt_list = []\n",
    "time.sleep(3)\n",
    "for i in mt:\n",
    "    try:\n",
    "        mt_list.append(i.text)\n",
    "    except NoSuchElementException:\n",
    "        mt_list.append('-')  "
   ]
  },
  {
   "cell_type": "code",
   "execution_count": 106,
   "id": "ae894ec4",
   "metadata": {},
   "outputs": [],
   "source": [
    "d = driver.find_elements_by_xpath('/html/body/div[4]/div/div/div[2]/section/div/div/a/div[2]/div[2]/span/strong')"
   ]
  },
  {
   "cell_type": "code",
   "execution_count": 107,
   "id": "e2f9443e",
   "metadata": {},
   "outputs": [],
   "source": [
    "d_list = []\n",
    "time.sleep(3)\n",
    "for i in d:\n",
    "    try:\n",
    "        d_list.append(i.text)\n",
    "    except NoSuchElementException:\n",
    "        d_list.append('-')"
   ]
  },
  {
   "cell_type": "code",
   "execution_count": 108,
   "id": "6799585f",
   "metadata": {},
   "outputs": [],
   "source": [
    "t = driver.find_elements_by_xpath('/html/body/div[4]/div/div/div[2]/section/div/div/a/div[2]/div[2]/span')"
   ]
  },
  {
   "cell_type": "code",
   "execution_count": 109,
   "id": "f7c3e1b7",
   "metadata": {},
   "outputs": [],
   "source": [
    "t_list = []\n",
    "time.sleep(3)\n",
    "for i in t:\n",
    "    try:\n",
    "        t_list.append(i.text)\n",
    "    except NoSuchElementException:\n",
    "        t_list.append('-')"
   ]
  },
  {
   "cell_type": "code",
   "execution_count": 121,
   "id": "18673034",
   "metadata": {},
   "outputs": [],
   "source": [
    "n_t_l=[i[-9:] for i in t_list]"
   ]
  },
  {
   "cell_type": "code",
   "execution_count": 123,
   "id": "1ca45ee0",
   "metadata": {},
   "outputs": [],
   "source": [
    "ser = driver.find_elements_by_xpath('/html/body/div[4]/div/div/div[2]/section/div/div/a/div[2]/div[2]/p/strong')"
   ]
  },
  {
   "cell_type": "code",
   "execution_count": 124,
   "id": "5850e2a5",
   "metadata": {},
   "outputs": [],
   "source": [
    "ser_l = []\n",
    "for i in ser:\n",
    "    try:\n",
    "        ser_l.append(i.text)\n",
    "    except NoSuchElementException:\n",
    "        ser_l.append('-')"
   ]
  },
  {
   "cell_type": "code",
   "execution_count": 126,
   "id": "0fbc6133",
   "metadata": {},
   "outputs": [],
   "source": [
    "p = driver.find_elements_by_xpath('/html/body/div[4]/div/div/div[2]/section/div/div/a/div[2]/div[2]/p/span')\n",
    "p_l = []\n",
    "for i in p:\n",
    "    try:\n",
    "        p_l.append(i.text)\n",
    "    except NoSuchElementException:\n",
    "        p_l.append('-')"
   ]
  },
  {
   "cell_type": "code",
   "execution_count": 132,
   "id": "ec7980bc",
   "metadata": {},
   "outputs": [
    {
     "data": {
      "text/html": [
       "<div>\n",
       "<style scoped>\n",
       "    .dataframe tbody tr th:only-of-type {\n",
       "        vertical-align: middle;\n",
       "    }\n",
       "\n",
       "    .dataframe tbody tr th {\n",
       "        vertical-align: top;\n",
       "    }\n",
       "\n",
       "    .dataframe thead th {\n",
       "        text-align: right;\n",
       "    }\n",
       "</style>\n",
       "<table border=\"1\" class=\"dataframe\">\n",
       "  <thead>\n",
       "    <tr style=\"text-align: right;\">\n",
       "      <th></th>\n",
       "      <th>Match Title</th>\n",
       "      <th>Series</th>\n",
       "      <th>Place</th>\n",
       "      <th>Date</th>\n",
       "      <th>Time</th>\n",
       "    </tr>\n",
       "  </thead>\n",
       "  <tbody>\n",
       "    <tr>\n",
       "      <th>0</th>\n",
       "      <td>SRI LANKA V INDIA 2021</td>\n",
       "      <td>2nd ODI</td>\n",
       "      <td>R Premadasa Stadium, Colombo</td>\n",
       "      <td>Tuesday 20 July</td>\n",
       "      <td>15:00 IST</td>\n",
       "    </tr>\n",
       "    <tr>\n",
       "      <th>1</th>\n",
       "      <td>SRI LANKA V INDIA 2021</td>\n",
       "      <td>3rd ODI</td>\n",
       "      <td>R Premadasa Stadium, Colombo</td>\n",
       "      <td>Friday 23 July</td>\n",
       "      <td>15:00 IST</td>\n",
       "    </tr>\n",
       "    <tr>\n",
       "      <th>2</th>\n",
       "      <td>SRI LANKA V INDIA 2021</td>\n",
       "      <td>1st T20I</td>\n",
       "      <td>R Premadasa Stadium, Colombo</td>\n",
       "      <td>Sunday 25 July</td>\n",
       "      <td>20:00 IST</td>\n",
       "    </tr>\n",
       "    <tr>\n",
       "      <th>3</th>\n",
       "      <td>SRI LANKA V INDIA 2021</td>\n",
       "      <td>2nd T20I</td>\n",
       "      <td>R Premadasa Stadium, Colombo</td>\n",
       "      <td>Tuesday 27 July</td>\n",
       "      <td>20:00 IST</td>\n",
       "    </tr>\n",
       "    <tr>\n",
       "      <th>4</th>\n",
       "      <td>SRI LANKA V INDIA 2021</td>\n",
       "      <td>3rd T20I</td>\n",
       "      <td>R Premadasa Stadium, Colombo</td>\n",
       "      <td>Thursday 29 July</td>\n",
       "      <td>20:00 IST</td>\n",
       "    </tr>\n",
       "    <tr>\n",
       "      <th>5</th>\n",
       "      <td>ENGLAND V INDIA 2021</td>\n",
       "      <td>1st Test</td>\n",
       "      <td>Trent Bridge, Nottingham</td>\n",
       "      <td>Wednesday 4 August</td>\n",
       "      <td>15:30 IST</td>\n",
       "    </tr>\n",
       "    <tr>\n",
       "      <th>6</th>\n",
       "      <td>ENGLAND V INDIA 2021</td>\n",
       "      <td>2nd Test</td>\n",
       "      <td>Lord's, London</td>\n",
       "      <td>Thursday 12 August</td>\n",
       "      <td>15:30 IST</td>\n",
       "    </tr>\n",
       "    <tr>\n",
       "      <th>7</th>\n",
       "      <td>ENGLAND V INDIA 2021</td>\n",
       "      <td>3rd Test</td>\n",
       "      <td>Headingley, Leeds</td>\n",
       "      <td>Wednesday 25 August</td>\n",
       "      <td>15:30 IST</td>\n",
       "    </tr>\n",
       "    <tr>\n",
       "      <th>8</th>\n",
       "      <td>ENGLAND V INDIA 2021</td>\n",
       "      <td>4th Test</td>\n",
       "      <td>The Oval, London</td>\n",
       "      <td>Thursday 2 September</td>\n",
       "      <td>15:30 IST</td>\n",
       "    </tr>\n",
       "    <tr>\n",
       "      <th>9</th>\n",
       "      <td>ENGLAND V INDIA 2021</td>\n",
       "      <td>5th Test</td>\n",
       "      <td>Old Trafford, Manchester</td>\n",
       "      <td>Friday 10 September</td>\n",
       "      <td>15:30 IST</td>\n",
       "    </tr>\n",
       "  </tbody>\n",
       "</table>\n",
       "</div>"
      ],
      "text/plain": [
       "              Match Title    Series                         Place  \\\n",
       "0  SRI LANKA V INDIA 2021   2nd ODI  R Premadasa Stadium, Colombo   \n",
       "1  SRI LANKA V INDIA 2021   3rd ODI  R Premadasa Stadium, Colombo   \n",
       "2  SRI LANKA V INDIA 2021  1st T20I  R Premadasa Stadium, Colombo   \n",
       "3  SRI LANKA V INDIA 2021  2nd T20I  R Premadasa Stadium, Colombo   \n",
       "4  SRI LANKA V INDIA 2021  3rd T20I  R Premadasa Stadium, Colombo   \n",
       "5    ENGLAND V INDIA 2021  1st Test      Trent Bridge, Nottingham   \n",
       "6    ENGLAND V INDIA 2021  2nd Test                Lord's, London   \n",
       "7    ENGLAND V INDIA 2021  3rd Test             Headingley, Leeds   \n",
       "8    ENGLAND V INDIA 2021  4th Test              The Oval, London   \n",
       "9    ENGLAND V INDIA 2021  5th Test      Old Trafford, Manchester   \n",
       "\n",
       "                   Date       Time  \n",
       "0       Tuesday 20 July  15:00 IST  \n",
       "1        Friday 23 July  15:00 IST  \n",
       "2        Sunday 25 July  20:00 IST  \n",
       "3       Tuesday 27 July  20:00 IST  \n",
       "4      Thursday 29 July  20:00 IST  \n",
       "5    Wednesday 4 August  15:30 IST  \n",
       "6    Thursday 12 August  15:30 IST  \n",
       "7   Wednesday 25 August  15:30 IST  \n",
       "8  Thursday 2 September  15:30 IST  \n",
       "9   Friday 10 September  15:30 IST  "
      ]
     },
     "execution_count": 132,
     "metadata": {},
     "output_type": "execute_result"
    }
   ],
   "source": [
    "bcci = pd.DataFrame()\n",
    "bcci['Match Title'] = mt_list\n",
    "bcci['Series'] = ser_l\n",
    "bcci['Place'] = p_l\n",
    "bcci['Date'] = d_list\n",
    "bcci['Time'] = n_t_l\n",
    "bcci"
   ]
  },
  {
   "cell_type": "markdown",
   "id": "042aafcc",
   "metadata": {},
   "source": [
    "# ------------Question 3--------------------------"
   ]
  },
  {
   "cell_type": "code",
   "execution_count": 133,
   "id": "64eceacd",
   "metadata": {},
   "outputs": [],
   "source": [
    "url = 'https://www.guru99.com'\n",
    "driver.get(url)"
   ]
  },
  {
   "cell_type": "code",
   "execution_count": 134,
   "id": "7329c227",
   "metadata": {},
   "outputs": [],
   "source": [
    "sel_btn = driver.find_element_by_xpath('/html/body/div[2]/section[4]/div/div/div/div/div/div/div/div[1]/div/ul[1]/li[3]/a')\n",
    "sel_btn.click()"
   ]
  },
  {
   "cell_type": "code",
   "execution_count": 139,
   "id": "88d36f54",
   "metadata": {},
   "outputs": [],
   "source": [
    "exp_btn = driver.find_element_by_xpath('/html/body/div[2]/section[3]/div/div[1]/main/div/div/div/div/div/div/div[2]/table[5]/tbody/tr[34]/td[1]/a')\n",
    "exp_url = exp_btn.get_attribute('href')\n",
    "driver.get(exp_url)"
   ]
  },
  {
   "cell_type": "code",
   "execution_count": 142,
   "id": "18b87bf5",
   "metadata": {},
   "outputs": [],
   "source": [
    "t = driver.find_elements_by_xpath('//*[@id=\"g-mainbar\"]/div/div/div/div/div/div/div[2]/table/tbody/tr/td')"
   ]
  },
  {
   "cell_type": "code",
   "execution_count": 144,
   "id": "7921d4b8",
   "metadata": {},
   "outputs": [],
   "source": [
    "t_list=[]\n",
    "for i in t:\n",
    "    try:\n",
    "        t_list.append(i.text)\n",
    "    except NoSuchElementException:\n",
    "        t_list.append('-')"
   ]
  },
  {
   "cell_type": "code",
   "execution_count": 147,
   "id": "58eaa08f",
   "metadata": {},
   "outputs": [],
   "source": [
    "t_list = t_list[::2]"
   ]
  },
  {
   "cell_type": "code",
   "execution_count": 149,
   "id": "1966e64a",
   "metadata": {},
   "outputs": [
    {
     "data": {
      "text/plain": [
       "'Exception name'"
      ]
     },
     "execution_count": 149,
     "metadata": {},
     "output_type": "execute_result"
    }
   ],
   "source": [
    "t_list.pop(0)"
   ]
  },
  {
   "cell_type": "code",
   "execution_count": 151,
   "id": "60a3e235",
   "metadata": {},
   "outputs": [],
   "source": [
    "d = driver.find_elements_by_xpath('//*[@id=\"g-mainbar\"]/div/div/div/div/div/div/div[2]/table/tbody/tr/td')"
   ]
  },
  {
   "cell_type": "code",
   "execution_count": 152,
   "id": "d0eeb64d",
   "metadata": {},
   "outputs": [],
   "source": [
    "d_list=[]\n",
    "time.sleep(3)\n",
    "for i in d:\n",
    "    try:\n",
    "        d_list.append(i.text)\n",
    "    except NoSuchElementException:\n",
    "        d_list.append('-')"
   ]
  },
  {
   "cell_type": "code",
   "execution_count": 155,
   "id": "81cccb87",
   "metadata": {},
   "outputs": [],
   "source": [
    "d_list = d_list[1::2]"
   ]
  },
  {
   "cell_type": "code",
   "execution_count": 157,
   "id": "35deed48",
   "metadata": {},
   "outputs": [
    {
     "data": {
      "text/plain": [
       "20"
      ]
     },
     "execution_count": 157,
     "metadata": {},
     "output_type": "execute_result"
    }
   ],
   "source": [
    "len(t_list)"
   ]
  },
  {
   "cell_type": "code",
   "execution_count": 158,
   "id": "110e54b4",
   "metadata": {},
   "outputs": [],
   "source": [
    "excp = pd.DataFrame()\n",
    "excp['Exception Name'] = t_list\n",
    "excp['Description'] = d_list[:20]"
   ]
  },
  {
   "cell_type": "code",
   "execution_count": 159,
   "id": "11f40bfb",
   "metadata": {},
   "outputs": [
    {
     "data": {
      "text/html": [
       "<div>\n",
       "<style scoped>\n",
       "    .dataframe tbody tr th:only-of-type {\n",
       "        vertical-align: middle;\n",
       "    }\n",
       "\n",
       "    .dataframe tbody tr th {\n",
       "        vertical-align: top;\n",
       "    }\n",
       "\n",
       "    .dataframe thead th {\n",
       "        text-align: right;\n",
       "    }\n",
       "</style>\n",
       "<table border=\"1\" class=\"dataframe\">\n",
       "  <thead>\n",
       "    <tr style=\"text-align: right;\">\n",
       "      <th></th>\n",
       "      <th>Exception Name</th>\n",
       "      <th>Description</th>\n",
       "    </tr>\n",
       "  </thead>\n",
       "  <tbody>\n",
       "    <tr>\n",
       "      <th>0</th>\n",
       "      <td>ElementNotSelectableException</td>\n",
       "      <td></td>\n",
       "    </tr>\n",
       "    <tr>\n",
       "      <th>1</th>\n",
       "      <td>NoSuchFrameException</td>\n",
       "      <td></td>\n",
       "    </tr>\n",
       "    <tr>\n",
       "      <th>2</th>\n",
       "      <td>NoSuchWindowException</td>\n",
       "      <td></td>\n",
       "    </tr>\n",
       "    <tr>\n",
       "      <th>3</th>\n",
       "      <td>SessionNotFoundException</td>\n",
       "      <td></td>\n",
       "    </tr>\n",
       "    <tr>\n",
       "      <th>4</th>\n",
       "      <td>WebDriverException</td>\n",
       "      <td></td>\n",
       "    </tr>\n",
       "    <tr>\n",
       "      <th>5</th>\n",
       "      <td>ElementClickInterceptedException</td>\n",
       "      <td></td>\n",
       "    </tr>\n",
       "    <tr>\n",
       "      <th>6</th>\n",
       "      <td>ErrorInResponseException</td>\n",
       "      <td></td>\n",
       "    </tr>\n",
       "    <tr>\n",
       "      <th>7</th>\n",
       "      <td>ImeActivationFailedException</td>\n",
       "      <td></td>\n",
       "    </tr>\n",
       "    <tr>\n",
       "      <th>8</th>\n",
       "      <td>InsecureCertificateException</td>\n",
       "      <td></td>\n",
       "    </tr>\n",
       "    <tr>\n",
       "      <th>9</th>\n",
       "      <td>InvalidCookieDomainException</td>\n",
       "      <td></td>\n",
       "    </tr>\n",
       "    <tr>\n",
       "      <th>10</th>\n",
       "      <td>InvalidElementStateExceptio</td>\n",
       "      <td></td>\n",
       "    </tr>\n",
       "    <tr>\n",
       "      <th>11</th>\n",
       "      <td>InvalidSwitchToTargetException</td>\n",
       "      <td></td>\n",
       "    </tr>\n",
       "    <tr>\n",
       "      <th>12</th>\n",
       "      <td>JsonException</td>\n",
       "      <td></td>\n",
       "    </tr>\n",
       "    <tr>\n",
       "      <th>13</th>\n",
       "      <td>MoveTargetOutOfBoundsException</td>\n",
       "      <td></td>\n",
       "    </tr>\n",
       "    <tr>\n",
       "      <th>14</th>\n",
       "      <td>NoSuchCookieException</td>\n",
       "      <td></td>\n",
       "    </tr>\n",
       "    <tr>\n",
       "      <th>15</th>\n",
       "      <td>RemoteDriverServerException</td>\n",
       "      <td></td>\n",
       "    </tr>\n",
       "    <tr>\n",
       "      <th>16</th>\n",
       "      <td>SessionNotCreatedException</td>\n",
       "      <td></td>\n",
       "    </tr>\n",
       "    <tr>\n",
       "      <th>17</th>\n",
       "      <td>UnexpectedTagNameException</td>\n",
       "      <td></td>\n",
       "    </tr>\n",
       "    <tr>\n",
       "      <th>18</th>\n",
       "      <td>UnexpectedAlertPresentException</td>\n",
       "      <td></td>\n",
       "    </tr>\n",
       "    <tr>\n",
       "      <th>19</th>\n",
       "      <td>UnreachableBrowserException</td>\n",
       "      <td></td>\n",
       "    </tr>\n",
       "  </tbody>\n",
       "</table>\n",
       "</div>"
      ],
      "text/plain": [
       "                      Exception Name Description\n",
       "0      ElementNotSelectableException            \n",
       "1               NoSuchFrameException            \n",
       "2              NoSuchWindowException            \n",
       "3           SessionNotFoundException            \n",
       "4                 WebDriverException            \n",
       "5   ElementClickInterceptedException            \n",
       "6           ErrorInResponseException            \n",
       "7       ImeActivationFailedException            \n",
       "8       InsecureCertificateException            \n",
       "9       InvalidCookieDomainException            \n",
       "10       InvalidElementStateExceptio            \n",
       "11    InvalidSwitchToTargetException            \n",
       "12                     JsonException            \n",
       "13    MoveTargetOutOfBoundsException            \n",
       "14             NoSuchCookieException            \n",
       "15       RemoteDriverServerException            \n",
       "16        SessionNotCreatedException            \n",
       "17        UnexpectedTagNameException            \n",
       "18   UnexpectedAlertPresentException            \n",
       "19       UnreachableBrowserException            "
      ]
     },
     "execution_count": 159,
     "metadata": {},
     "output_type": "execute_result"
    }
   ],
   "source": [
    "excp"
   ]
  },
  {
   "cell_type": "code",
   "execution_count": null,
   "id": "cbff4e66",
   "metadata": {},
   "outputs": [],
   "source": []
  }
 ],
 "metadata": {
  "kernelspec": {
   "display_name": "Python 3",
   "language": "python",
   "name": "python3"
  },
  "language_info": {
   "codemirror_mode": {
    "name": "ipython",
    "version": 3
   },
   "file_extension": ".py",
   "mimetype": "text/x-python",
   "name": "python",
   "nbconvert_exporter": "python",
   "pygments_lexer": "ipython3",
   "version": "3.7.9"
  }
 },
 "nbformat": 4,
 "nbformat_minor": 5
}
